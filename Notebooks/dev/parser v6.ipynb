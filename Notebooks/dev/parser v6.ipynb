{
 "cells": [
  {
   "cell_type": "code",
   "execution_count": 2,
   "metadata": {},
   "outputs": [],
   "source": [
    "import sqlparse\n",
    "from sqlparse.sql import Token, TokenList\n",
    "import re\n",
    "import json\n",
    "import random, string\n",
    "import copy\n",
    "import numpy as np\n",
    "import matplotlib.pyplot as plt\n",
    "import textwrap\n",
    "import plotly.graph_objects as go\n",
    "import plotly.express as px\n",
    "import networkx as nx\n",
    "from collections import defaultdict\n"
   ]
  },
  {
   "cell_type": "code",
   "execution_count": 688,
   "metadata": {},
   "outputs": [],
   "source": [
    "\"\"\"\n",
    "Simple select query: Select query with no subquery\n",
    "\"\"\"\n",
    "\n",
    "class SelectQuery():\n",
    "    def __init__(self,query_text):\n",
    "        self.query_text = query_text\n",
    "        self.keywords = ['select','from','where','group','having']\n",
    "    \n",
    "    def parse_select_query(self):\n",
    "        self.init_parse_query()\n",
    "        \n",
    "        # get all initial select queries\n",
    "        self.get_all_queries()\n",
    "#         print(self.all_queries)\n",
    "        # convert all queries to simple queries\n",
    "        ks = copy.deepcopy(list(self.all_queries.keys()))\n",
    "        for k in ks:\n",
    "            if isinstance(self.all_queries[k]['from'],list):\n",
    "                self.all_queries[k] = self.make_simple(self.all_queries[k])\n",
    "#         print(self.all_queries)\n",
    "        # parse statements\n",
    "        ks = copy.deepcopy(list(self.all_queries.keys()))\n",
    "        for k in ks:\n",
    "            # select\n",
    "            if isinstance(self.all_queries[k]['select'],list):\n",
    "                self.all_queries[k]['select'] = self.parse_select_statement(self.all_queries[k]['select'])\n",
    "            \n",
    "            # where\n",
    "            self.all_queries[k]['where'] = self.parse_where_have_statement(self.all_queries[k]['where'])\n",
    "             \n",
    "            # group\n",
    "            self.all_queries[k]['group'] = self.parse_groupby_statement(self.all_queries[k])\n",
    "            \n",
    "            # having\n",
    "            self.all_queries[k]['having'] = self.parse_where_have_statement(self.all_queries[k]['having'])\n",
    "            \n",
    "    \n",
    "    def init_parse_query(self):\n",
    "        parsed_q = sqlparse.parse(self.query_text)[0] # assumed that q has a single query\n",
    "        q_tokens = parsed_q.tokens\n",
    "        q_tokens_c = self._clean_query(q_tokens)\n",
    "        self.init_parse = q_tokens_c\n",
    "\n",
    "    def get_all_queries(self):\n",
    "        all_queries={}\n",
    "        \n",
    "        if self.init_parse[0].match(sqlparse.tokens.Keyword.CTE,['with']):\n",
    "            # get all subqueries from with\n",
    "\n",
    "            # list,dict of all subqueries\n",
    "            subq_list_raw = self._clean_query(self.init_parse[1].tokens)\n",
    "            for subq in subq_list_raw:\n",
    "                all_queries.update(self.parse_simple_select(self._get_select_from_par(subq),subq.get_name()))\n",
    "\n",
    "            if self.init_parse[2].match(sqlparse.tokens.Keyword.DML,['select']):\n",
    "                all_queries.update(self.parse_simple_select(self.init_parse[2:],'out'))\n",
    "\n",
    "        elif self.init_parse[0].match(sqlparse.tokens.Keyword.DML,['select']):\n",
    "            # simpler query, parse it\n",
    "            all_queries.update(self.parse_simple_select(self.init_parse,'out'))\n",
    "\n",
    "        self.all_queries = all_queries\n",
    "    \n",
    "    def parse_simple_select(self,q_tokens,q_name):\n",
    "        print(q_name)\n",
    "        if q_tokens:\n",
    "            assert self._check_token_is_base_keyword(q_tokens[0],'select')\n",
    "        \n",
    "            if self._has_union_all(q_tokens):\n",
    "                # do something\n",
    "                sub_q_union = self._split_by_union_all(q_tokens)\n",
    "                op_dict = {}\n",
    "                q_parse_dict_main = {kw:[] for kw in self.keywords}\n",
    "                q_parse_dict_main['from'] = {'input_tables':{},'combine_type':'union'}\n",
    "\n",
    "                for subq in sub_q_union:\n",
    "                    subq_name = self._generate_name()\n",
    "                    q_parse_dict_main['from']['input_tables'][subq_name] = subq_name\n",
    "                    op_dict.update(self.parse_simple_select(subq,subq_name))\n",
    "\n",
    "                q_parse_dict_main['select'] = {k:k for k,v in self.parse_select_statement(op_dict[subq_name]['select']).items()}\n",
    "                op_dict[q_name] = q_parse_dict_main\n",
    "                return op_dict\n",
    "\n",
    "            else:\n",
    "                # initial high level parsing\n",
    "                q_parse_dict_1 = {kw:[] for kw in self.keywords}\n",
    "                base_keyword_idx = 0\n",
    "                for t in q_tokens:\n",
    "                    is_kw_flag = False\n",
    "                    for kw in self.keywords:\n",
    "                        if self._check_token_is_base_keyword(t,kw):\n",
    "                            key = kw\n",
    "                            is_kw_flag = True\n",
    "                    if not is_kw_flag:\n",
    "                        q_parse_dict_1[key].append(t)\n",
    "\n",
    "                return {q_name:q_parse_dict_1}\n",
    "    \n",
    "    def make_simple(self,parsed_t_s):\n",
    "        if self._is_simple_select(parsed_t_s):\n",
    "            parsed_t_s['from'] = self.parse_from_statement(parsed_t_s['from'])\n",
    "            return parsed_t_s\n",
    "        else:\n",
    "            new_from = self.parse_from_statement(parsed_t_s['from'])\n",
    "            for i in range(len(parsed_t_s['from'])):\n",
    "                t = parsed_t_s['from'][i]\n",
    "                if isinstance(t,sqlparse.sql.Identifier):\n",
    "                    subq_name = self._generate_name()\n",
    "                    sel = self.parse_simple_select(self._get_select_from_par(t),subq_name)\n",
    "                    if sel:\n",
    "                        new_from['input_tables'][t.get_name()] = subq_name\n",
    "                        for k,v in sel.items():\n",
    "                            if isinstance(v['from'],list):\n",
    "                                self.all_queries[k] = self.make_simple(v)\n",
    "                            else:\n",
    "                                self.all_queries[k] = v\n",
    "                elif isinstance(t,sqlparse.sql.IdentifierList):\n",
    "                    for tt in self._clean_query(t.tokens):\n",
    "                        subq_name = self._generate_name()\n",
    "                        sel = self.parse_simple_select(self._get_select_from_par(tt),subq_name)\n",
    "                        if sel:\n",
    "                            new_from['input_tables'][tt.get_name()] = subq_name\n",
    "                            for k,v in sel.items():\n",
    "                                if isinstance(v['from'],list):\n",
    "                                    self.all_queries[k] = self.make_simple(v)\n",
    "                                else:\n",
    "                                    self.all_queries[k] = v\n",
    "            parsed_t_s['from'] = new_from\n",
    "            return parsed_t_s              \n",
    "    \n",
    "    \n",
    "    def parse_select_statement(self,s_tokens):\n",
    "        op_dict = {}\n",
    "        for t in s_tokens:\n",
    "            if isinstance(t,sqlparse.sql.Identifier):\n",
    "#                 if isinstance(self._clean_query(t.tokens)[0],sqlparse.sql.Case):\n",
    "#                     op_dict[t.get_name()] = self._clean_col_def(t.value,t.get_name())\n",
    "#                 else:\n",
    "                op_dict[t.get_name()] = self._clean_col_def(t.value,t.get_name())\n",
    "            elif isinstance(t,sqlparse.sql.IdentifierList):\n",
    "                for tt in self._clean_query(t.tokens):\n",
    "                    op_dict[tt.get_name()] = self._clean_col_def(tt.value,tt.get_name())\n",
    "            elif t.match(sqlparse.tokens.Wildcard,'\\*$',regex=True):\n",
    "                op_dict[t.value] = t.value\n",
    "        return op_dict\n",
    "\n",
    "\n",
    "    def parse_from_statement(self,f_tokens):\n",
    "        op_dict = {'input_tables':{}}\n",
    "\n",
    "        # only identifier or identifier list present in f_tokens\n",
    "        only_identifiers_flag=True\n",
    "        for t in f_tokens:\n",
    "            if not (isinstance(t,sqlparse.sql.Identifier) or isinstance(t,sqlparse.sql.IdentifierList)):\n",
    "                only_identifiers_flag=False\n",
    "\n",
    "        if only_identifiers_flag:\n",
    "            for t in f_tokens:\n",
    "                if isinstance(t,sqlparse.sql.Identifier):\n",
    "                    op_dict['input_tables'][t.get_name()] = t.get_real_name()\n",
    "                elif isinstance(t,sqlparse.sql.IdentifierList):\n",
    "                    for tt in self._clean_query(t.tokens):\n",
    "                        op_dict['input_tables'][tt.get_name()] = tt.get_real_name()\n",
    "            return op_dict\n",
    "\n",
    "        # join statement\n",
    "        op_dict['joins'] = {}\n",
    "        op_dict['combine_type'] = 'join'\n",
    "        for i,t in enumerate(f_tokens):\n",
    "            if isinstance(t,sqlparse.sql.Identifier):\n",
    "                op_dict['input_tables'][t.get_name()] = t.get_real_name()\n",
    "\n",
    "            if self._check_token_is_base_keyword(t,['left join','right join','inner join','join','full outer join']):\n",
    "                key = f_tokens[i+1].get_name()\n",
    "                join_dict = {}\n",
    "                join_dict['type'] = t.value.replace(' join','')\n",
    "                if join_dict['type']=='join':\n",
    "                    join_dict['type'] = 'inner'\n",
    "                join_dict['on'] = f_tokens[i+3].value\n",
    "                op_dict['joins'][key] = join_dict\n",
    "\n",
    "        return op_dict        \n",
    "    \n",
    "    def parse_where_have_statement(self,w_tokens):\n",
    "        op_list = []\n",
    "        for t in w_tokens:\n",
    "            op_list.append(t.value)\n",
    "        return ' '.join(op_list)\n",
    "    \n",
    "    def parse_groupby_statement(self,q_tokens):\n",
    "        op_list = []\n",
    "        g_tokens = q_tokens['group']\n",
    "        for t in g_tokens:\n",
    "            if isinstance(t,sqlparse.sql.Identifier):\n",
    "                op_list.append(t.get_name())\n",
    "            elif t.match(sqlparse.tokens.Literal.Number.Integer,[str(i) for i in range(1,1001)]):\n",
    "                op_list.append(list(q_tokens['select'].keys())[int(t.value)-1])\n",
    "            elif isinstance(t,sqlparse.sql.IdentifierList):\n",
    "                for tt in self._clean_query(t.tokens):\n",
    "                    if isinstance(tt,sqlparse.sql.Identifier):\n",
    "                        op_list.append(tt.get_name())\n",
    "                    if tt.match(sqlparse.tokens.Literal.Number.Integer,[str(i) for i in range(1,1001)]):\n",
    "                        op_list.append(list(q_tokens['select'].keys())[int(tt.value)-1])\n",
    "        return op_list\n",
    "     \n",
    "    def plot_query(self,\n",
    "                   graph_coords_params={'x_incr':5,'width':1,'ratio':0.48},\n",
    "                   plot_params={'edgewidth':0.5,\n",
    "                                'edgecolor':'#888',\n",
    "                                'marker_size':{'raw_table':60,'derived_table':60},\n",
    "                                'marker_shape':{'raw_table':'square','filter':'triangle-right','aggregate':'triangle-right'},\n",
    "                                'marker_edgewidth':2,\n",
    "                                'title':'Query flow',\n",
    "                                'titlefont_size':16\n",
    "                               }\n",
    "                  ):\n",
    "        self.create_nodes_edges()\n",
    "        self.create_graph(**graph_coords_params)\n",
    "        self.plot_graph(**plot_params)\n",
    "        \n",
    "        \n",
    "        \n",
    "    def create_nodes_edges(self):\n",
    "        self.nodes = []\n",
    "        self.edges = []\n",
    "        self.min_state = {}\n",
    "        for k,v in self.all_queries.items():\n",
    "            self.nodes.append(k)\n",
    "#             for inp in list(v['from']['input_tables'].values()):\n",
    "#                 self.edges.append((inp,k))\n",
    "            prev = list(v['from']['input_tables'].values())\n",
    "            for proc in ['where','group','having']:\n",
    "                \n",
    "                if len(v[proc])>0:\n",
    "                    try:\n",
    "                        self.min_state[k]\n",
    "                    except KeyError:\n",
    "                        self.min_state[k] = k+'_'+proc\n",
    "                    self.nodes.append(k+'_'+proc)\n",
    "                    for inp in prev:\n",
    "                        self.edges.append((inp,k+'_'+proc))\n",
    "                    prev = [k+'_'+proc]\n",
    "            try:\n",
    "                self.min_state[k]\n",
    "            except KeyError:\n",
    "                self.min_state[k] = k\n",
    "            for inp in prev:\n",
    "                self.edges.append((inp,k))\n",
    "            self.nodes.extend(list(v['from']['input_tables'].values()))\n",
    "\n",
    "\n",
    "        self.nodes = list(np.unique(self.nodes))\n",
    "        \n",
    "#         for i in range(len(self.edges)):\n",
    "#             try:\n",
    "#                 if not (self.edges[i][1]==self.edges[i][0]+'_where' or\\\n",
    "#                         self.edges[i][1]==self.edges[i][0]+'_group' or\\\n",
    "#                         self.edges[i][1]==self.edges[i][0]+'_having'):\n",
    "#                     self.edges[i] = (self.max_state[self.edges[i][0]],self.edges[i][1])\n",
    "#             except KeyError:\n",
    "#                 continue\n",
    "                \n",
    "        self.node_properties = {n:{} for n in self.nodes}\n",
    "        for n in self.nodes:\n",
    "            self.node_properties[n]['type'] = 'derived_table'\n",
    "            self.node_properties[n]['text'] = ''\n",
    "            self.node_properties[n]['pos'] = (0,0)\n",
    "            try:\n",
    "                self.node_properties[n]['combine_info']\n",
    "            except KeyError:\n",
    "                self.node_properties[n]['combine_info'] = ''\n",
    "            if n not in self.all_queries.keys():\n",
    "                self.node_properties[n]['type'] = 'raw_table'\n",
    "            if re.search('_where$',n):\n",
    "                self.node_properties[n]['type'] = 'filter'\n",
    "                self.node_properties[n]['text'] = self.all_queries[re.sub('_where$','',n)]['where']\n",
    "            elif re.search('_having$',n):\n",
    "                self.node_properties[n]['type'] = 'filter'\n",
    "                self.node_properties[n]['text'] = self.all_queries[re.sub('_having$','',n)]['having']\n",
    "            elif re.search('_group$',n):\n",
    "                self.node_properties[n]['type'] = 'aggregate'\n",
    "                self.node_properties[n]['text'] = 'by '+','.join(self.all_queries[re.sub('_group$','',n)]['group'])\n",
    "            elif self.node_properties[n]['type'] == 'derived_table':\n",
    "                self.node_properties[n]['text'] = '<br><b>columns:</b> '+json.dumps(self.all_queries[n]['select'],indent=2,separators=(\",<br>\",\"=\")).replace(\"{\",\"\").replace(\"}\",\"\").replace(\"\\\"\",\"\")\n",
    "                \n",
    "                if len(self.all_queries[n]['from']['input_tables'])>1:\n",
    "                    min_state = self.min_state[n]\n",
    "                    self.node_properties[min_state]['combine_info'] = 'combine type: '+self.all_queries[n]['from']['combine_type']\n",
    "                    if self.all_queries[n]['from']['combine_type']=='join':\n",
    "                        for k,v in self.all_queries[n]['from']['joins'].items():\n",
    "                            self.node_properties[min_state]['combine_info']+='<br>'\n",
    "                            self.node_properties[min_state]['combine_info']+=self.all_queries[n]['from']['input_tables'][k]+'('+k+'):'\n",
    "                            self.node_properties[min_state]['combine_info']+=v['type']+' join on ' + v['on'] + '<br>'\n",
    "                \n",
    "\n",
    "    def create_graph(self,x_incr,width,ratio):\n",
    "        self.G = nx.DiGraph()\n",
    "\n",
    "        self.G.add_nodes_from([(n,self.node_properties[n]) for n in self.nodes])\n",
    "        self.G.add_edges_from(self.edges)\n",
    "        self.assign_coords_rec(x_incr,width,ratio)\n",
    "        \n",
    "#     def create_coords(self,init_coords,incr):\n",
    "#         curr_level = ['out']\n",
    "#         curr_x = init_coords[0]\n",
    "#         while len(curr_level)>0:\n",
    "#             for n in curr_level:\n",
    "#                 self.G.nodes[n]['pos'] = (curr_x,self.G.nodes[n]['pos'][1])\n",
    "#             curr_level = self._get_all_predecessors(curr_level)\n",
    "#             curr_x -= incr[0]\n",
    "\n",
    "#         raw_level = []\n",
    "#         for n in self.G.nodes():\n",
    "#             if self.G.nodes[n]['type']=='raw_table':\n",
    "#                 self.G.nodes[n]['pos'] = (curr_x,self.G.nodes[n]['pos'][1])\n",
    "#                 raw_level.append(n)\n",
    "\n",
    "#         curr_level = raw_level\n",
    "\n",
    "#         while len(curr_level)>0:\n",
    "#             curr_y = init_coords[1]\n",
    "#             for n in curr_level:\n",
    "#                 if len(list(self.G.predecessors(n)))>0:\n",
    "#                     curr_y = np.mean([self.G.nodes[pn]['pos'][1] for pn in self.G.predecessors(n)])\n",
    "#                 else:\n",
    "#                     curr_y -= incr[1]\n",
    "#                 self.G.nodes[n]['pos'] = (self.G.nodes[n]['pos'][0],curr_y)\n",
    "#             curr_level = self._get_all_successors(curr_level)\n",
    "    \n",
    "    def assign_coords_rec(self,x_incr,width,ratio,n='out'):\n",
    "        if n=='out':\n",
    "            self.G.nodes[n]['pos'] = (0,0)\n",
    "\n",
    "        all_c = list(self.G.predecessors(n))\n",
    "        num_c = len(all_c)\n",
    "        if num_c==0:\n",
    "            return True\n",
    "        elif num_c==1:\n",
    "            y_incr = np.array([0])\n",
    "        else:\n",
    "            y_incr = width*np.linspace(0,1,num_c) - (width/2)\n",
    "\n",
    "        for i in range(num_c):\n",
    "            c = all_c[i]\n",
    "            self.G.nodes[c]['pos'] = (self.G.nodes[n]['pos'][0]-x_incr,self.G.nodes[n]['pos'][1]+y_incr[i])\n",
    "            self.assign_coords_rec(x_incr,width*ratio,ratio,c)\n",
    "        return True\n",
    "\n",
    "    def plot_graph(self,edgewidth,edgecolor,marker_size,marker_shape,marker_edgewidth,title,titlefont_size):\n",
    "        edge_trace,node_traces = self.configure_graph_plot(edgewidth,edgecolor,marker_size,marker_shape,marker_edgewidth)\n",
    "        self.fig = go.Figure(data=[edge_trace, *node_traces],\n",
    "                        layout=go.Layout(\n",
    "                            title=title,\n",
    "                            titlefont_size=titlefont_size,\n",
    "                            showlegend=True,\n",
    "                            hovermode='closest',\n",
    "                            margin=dict(b=20,l=5,r=5,t=40),\n",
    "                            xaxis=dict(showgrid=False, zeroline=False, showticklabels=False),\n",
    "                            yaxis=dict(showgrid=False, zeroline=False, showticklabels=False))\n",
    "                        )\n",
    "        self.fig.show()\n",
    "        \n",
    "    def configure_graph_plot(self,edgewidth,edgecolor,marker_size,marker_shape,marker_edgewidth):\n",
    "        edge_x = []\n",
    "        edge_y = []\n",
    "        for edge in self.G.edges():\n",
    "            x0, y0 = self.G.nodes[edge[0]]['pos']\n",
    "            x1, y1 = self.G.nodes[edge[1]]['pos']\n",
    "            edge_x.append(x0)\n",
    "            edge_x.append(x1)\n",
    "            edge_x.append(None)\n",
    "            edge_y.append(y0)\n",
    "            edge_y.append(y1)\n",
    "            edge_y.append(None)\n",
    "\n",
    "        edge_trace = go.Scatter(\n",
    "            x=edge_x, y=edge_y,\n",
    "            line=dict(width=edgewidth, color=edgecolor),\n",
    "            hoverinfo='none',\n",
    "            mode='lines')\n",
    "\n",
    "        \n",
    "        \n",
    "        marker_size_dict=defaultdict(lambda: 30)\n",
    "        marker_size_dict.update(marker_size)\n",
    "        \n",
    "        marker_shape_dict=defaultdict(lambda: 'circle')\n",
    "        marker_shape_dict.update(marker_shape)\n",
    "        node_traces=[]\n",
    "        for tp in ['raw_table','filter','aggregate','derived_table']:\n",
    "            node_x = []\n",
    "            node_y = []\n",
    "            node_hover_text = []\n",
    "            node_text = []\n",
    "            for n in self.G.nodes():\n",
    "                if self.G.nodes[n]['type']==tp:\n",
    "                    x, y = self.G.nodes[n]['pos']\n",
    "                    node_x.append(x)\n",
    "                    node_y.append(y)\n",
    "                    \n",
    "                    nm,txt = self._get_node_texts(n)\n",
    "                    \n",
    "                    node_text.append(nm)\n",
    "                    node_hover_text.append(txt)\n",
    "                \n",
    "                \n",
    "            node_trace = go.Scatter(\n",
    "                x=node_x, y=node_y,\n",
    "                mode='markers+text',\n",
    "                name=tp,\n",
    "                hovertext=node_hover_text,\n",
    "                hovertemplate='%{hovertext}',\n",
    "                text=node_text,\n",
    "                marker=dict(\n",
    "#                     showscale=False,\n",
    "                    # colorscale options\n",
    "                    #'Greys' | 'YlGnBu' | 'Greens' | 'YlOrRd' | 'Bluered' | 'RdBu' |\n",
    "                    #'Reds' | 'Blues' | 'Picnic' | 'Rainbow' | 'Portland' | 'Jet' |\n",
    "                    #'Hot' | 'Blackbody' | 'Earth' | 'Electric' | 'Viridis' |\n",
    "#                     colorscale='YlGnBu',\n",
    "#                     reversescale=True,\n",
    "#                     color=[],\n",
    "                    symbol=marker_shape_dict[tp],\n",
    "                    size=marker_size_dict[tp],\n",
    "                    line_width=marker_edgewidth)\n",
    "            )\n",
    "\n",
    "#             node_trace.text = node_hover_text\n",
    "            node_traces.append(node_trace)\n",
    "            \n",
    "        return edge_trace,node_traces\n",
    "    \n",
    "    # helper functions\n",
    "    def _clean_col_def(self,c,n):\n",
    "        return re.sub('\\ '+n+'$','',re.sub('\\ as\\ '+n+'$','',c.split('--')[0].strip())).strip()\n",
    "\n",
    "    def _generate_name(self,l=8):\n",
    "        x = ''.join(random.choices(string.ascii_letters + string.digits, k=l))\n",
    "        return x\n",
    "    \n",
    "    def _has_union_all(self,q_t):\n",
    "        return max([self._check_token_is_base_keyword(t,'union all') for t in q_t])\n",
    "    \n",
    "    def _is_simple_select(self,q_t):\n",
    "        from_t = []\n",
    "        for t in q_t['from']:\n",
    "            from_t.extend(list(t.flatten()))\n",
    "        return not max([self._check_token_is_base_keyword(t,'select') for t in from_t])\n",
    "        \n",
    "    def _check_token_is_base_keyword(self,t,kw):\n",
    "        if 'select' in kw:\n",
    "            return t.match(sqlparse.tokens.Keyword.DML,kw)\n",
    "        else:\n",
    "            return t.match(sqlparse.tokens.Keyword,kw)\n",
    "\n",
    "    def _get_select_from_par(self,subq_token):\n",
    "        for t in subq_token.tokens:\n",
    "            if isinstance(t,sqlparse.sql.Parenthesis):\n",
    "                return self._clean_query(t.tokens)\n",
    "        \n",
    "    def _clean_query(self,tokens):\n",
    "        tokens_exp = []\n",
    "        tokens_cleaned = []\n",
    "        for t in tokens:\n",
    "            if isinstance(t,sqlparse.sql.Where):\n",
    "                for tt in t.tokens:\n",
    "                    tokens_exp.append(tt)\n",
    "            else:\n",
    "                tokens_exp.append(t)\n",
    "\n",
    "        for t in tokens_exp:\n",
    "            append_flag = True\n",
    "            for pattern in ['Token.Text.Whitespace*','Token.Punctuation*']:\n",
    "                if re.match(pattern,str(t.ttype)):\n",
    "                    append_flag = False\n",
    "            for t_type in [sqlparse.sql.Comment]:\n",
    "                if type(t)==t_type:\n",
    "                    append_flag = False\n",
    "\n",
    "            if append_flag:\n",
    "                tokens_cleaned.append(t)\n",
    "\n",
    "        return tokens_cleaned\n",
    "    \n",
    "    def _split_by_union_all(self,q_t):\n",
    "        op_list = []\n",
    "        op_sub_list = []\n",
    "        for t in q_t:\n",
    "            if self._check_token_is_base_keyword(t,'union all'):\n",
    "                op_list.append(op_sub_list)\n",
    "                op_sub_list = []\n",
    "            else:\n",
    "                op_sub_list.append(t)\n",
    "        op_list.append(op_sub_list)\n",
    "        \n",
    "        return op_list\n",
    "    \n",
    "    def _get_all_successors(self,n_list):\n",
    "        successors=[]\n",
    "        for n in n_list:\n",
    "            successors.extend(self.G.successors(n))\n",
    "        successors = list(np.unique(successors))\n",
    "        return successors\n",
    "\n",
    "    def _get_all_predecessors(self,n_list):\n",
    "        predecessors=[]\n",
    "        for n in n_list:\n",
    "            predecessors.extend(self.G.predecessors(n))\n",
    "        predecessors = list(np.unique(predecessors))\n",
    "        return predecessors\n",
    "    \n",
    "    def _get_node_texts(self,n):\n",
    "        nm = n\n",
    "        for proc in ['where','group','having']:\n",
    "            if re.search('_'+proc+'$',n):\n",
    "                nm = re.sub('_'+proc+'$','',n)\n",
    "        txt = '<b>'+nm+'</b> (' +n+ ') <br><b>'+self.G.nodes[n]['type']+'</b>: '+self.G.nodes[n]['text']+'<br>'#'<br>'.join(textwrap.wrap(self.G.nodes[n]['text'],width=20))+'<br>'\n",
    "        if len(list(self.G.predecessors(n)))>0:\n",
    "            txt += '<br><b>Predecessors</b>: '+','.join(list(self.G.predecessors(n))) +'<br>'\n",
    "            txt += self.G.nodes[n]['combine_info']\n",
    "        if n!='out':\n",
    "            txt += '<br><b>Successors</b>: '+','.join(list(self.G.successors(n))) +'<br>'\n",
    "\n",
    "#         txt = txt+'<br><b>'+self.G.nodes[n]['type']+'</b>: '+'<br>'.join(textwrap.wrap(self.G.nodes[n]['text'],width=10))\n",
    "        \n",
    "        return nm,txt\n"
   ]
  },
  {
   "cell_type": "code",
   "execution_count": 689,
   "metadata": {},
   "outputs": [],
   "source": [
    "subq_test_q_1 = '''--asd\n",
    "            with a as (select a_id1 as a_id, --abc\n",
    "            case when aa = \\'a1\\' and a2=3 then 1 else 0 end aa_ind --def\n",
    "            from (select q.* from `a123.aaa` q) abc) --pqr\n",
    "        , b as (select b_id,b1 \n",
    "            sum(bb) bb_sum \n",
    "            from `b123.bbb`\n",
    "            where b1 > 2 and (b2 < 3 or b2 >5)\n",
    "            group by 1,2\n",
    "            having sum(bb)>2) \n",
    "        select a.a_id,a.a_ind,b.b_sum \n",
    "        from a left join b \n",
    "        on a.a_id = b.b_id'''\n"
   ]
  },
  {
   "cell_type": "code",
   "execution_count": 690,
   "metadata": {},
   "outputs": [],
   "source": [
    "test_query_obj = SelectQuery(subq_test_q_1)"
   ]
  },
  {
   "cell_type": "code",
   "execution_count": 691,
   "metadata": {},
   "outputs": [
    {
     "name": "stdout",
     "output_type": "stream",
     "text": [
      "a\n",
      "b\n",
      "out\n",
      "SyfiVU25\n"
     ]
    }
   ],
   "source": [
    "test_query_obj.parse_select_query()"
   ]
  },
  {
   "cell_type": "code",
   "execution_count": 692,
   "metadata": {},
   "outputs": [
    {
     "data": {
      "text/plain": [
       "{'a': {'select': {'a_id': 'a_id1',\n",
       "   'aa_ind': \"case when aa = 'a1' and a2=3 then 1 else 0 end\"},\n",
       "  'from': {'input_tables': {'abc': 'SyfiVU25'}},\n",
       "  'where': '',\n",
       "  'group': [],\n",
       "  'having': ''},\n",
       " 'b': {'select': {'b_id': 'b_id', 'b1': 'b1', 'bb_sum': 'sum(bb)'},\n",
       "  'from': {'input_tables': {'`b123.bbb`': '`b123.bbb`'}},\n",
       "  'where': 'b1 > 2 and (b2 < 3 or b2 >5)',\n",
       "  'group': ['b_id', 'b1'],\n",
       "  'having': 'sum(bb)>2'},\n",
       " 'out': {'select': {'a_id': 'a.a_id', 'a_ind': 'a.a_ind', 'b_sum': 'b.b_sum'},\n",
       "  'from': {'input_tables': {'a': 'a', 'b': 'b'},\n",
       "   'joins': {'b': {'type': 'left', 'on': 'a.a_id = b.b_id'}},\n",
       "   'combine_type': 'join'},\n",
       "  'where': '',\n",
       "  'group': [],\n",
       "  'having': ''},\n",
       " 'SyfiVU25': {'select': {'*': 'q.*'},\n",
       "  'from': {'input_tables': {'q': '`a123.aaa`'}},\n",
       "  'where': '',\n",
       "  'group': [],\n",
       "  'having': ''}}"
      ]
     },
     "execution_count": 692,
     "metadata": {},
     "output_type": "execute_result"
    }
   ],
   "source": [
    "test_query_obj.all_queries"
   ]
  },
  {
   "cell_type": "code",
   "execution_count": 693,
   "metadata": {},
   "outputs": [
    {
     "data": {
      "application/vnd.plotly.v1+json": {
       "config": {
        "plotlyServerURL": "https://plot.ly"
       },
       "data": [
        {
         "hoverinfo": "none",
         "line": {
          "color": "#888",
          "width": 0.5
         },
         "mode": "lines",
         "type": "scatter",
         "x": [
          -10,
          -5,
          null,
          -15,
          -10,
          null,
          -25,
          -20,
          null,
          -5,
          0,
          null,
          -5,
          0,
          null,
          -15,
          -10,
          null,
          -10,
          -5,
          null,
          -20,
          -15,
          null
         ],
         "y": [
          -0.5,
          -0.5,
          null,
          -0.5,
          -0.5,
          null,
          0.5,
          0.5,
          null,
          -0.5,
          0,
          null,
          0.5,
          0,
          null,
          0.5,
          0.5,
          null,
          0.5,
          0.5,
          null,
          0.5,
          0.5,
          null
         ]
        },
        {
         "hovertemplate": "%{hovertext}",
         "hovertext": [
          "<b>`a123.aaa`</b> (`a123.aaa`) <br><b>raw_table</b>: <br><br><b>Successors</b>: SyfiVU25<br>",
          "<b>`b123.bbb`</b> (`b123.bbb`) <br><b>raw_table</b>: <br><br><b>Successors</b>: b_where<br>"
         ],
         "marker": {
          "line": {
           "width": 2
          },
          "size": 60,
          "symbol": "square"
         },
         "mode": "markers+text",
         "name": "raw_table",
         "text": [
          "`a123.aaa`",
          "`b123.bbb`"
         ],
         "type": "scatter",
         "x": [
          -15,
          -25
         ],
         "y": [
          -0.5,
          0.5
         ]
        },
        {
         "hovertemplate": "%{hovertext}",
         "hovertext": [
          "<b>b</b> (b_having) <br><b>filter</b>: sum(bb)>2<br><br><b>Predecessors</b>: b_group<br><br><b>Successors</b>: b<br>",
          "<b>b</b> (b_where) <br><b>filter</b>: b1 > 2 and (b2 < 3 or b2 >5)<br><br><b>Predecessors</b>: `b123.bbb`<br><br><b>Successors</b>: b_group<br>"
         ],
         "marker": {
          "line": {
           "width": 2
          },
          "size": 30,
          "symbol": "triangle-right"
         },
         "mode": "markers+text",
         "name": "filter",
         "text": [
          "b",
          "b"
         ],
         "type": "scatter",
         "x": [
          -10,
          -20
         ],
         "y": [
          0.5,
          0.5
         ]
        },
        {
         "hovertemplate": "%{hovertext}",
         "hovertext": [
          "<b>b</b> (b_group) <br><b>aggregate</b>: by b_id,b1<br><br><b>Predecessors</b>: b_where<br><br><b>Successors</b>: b_having<br>"
         ],
         "marker": {
          "line": {
           "width": 2
          },
          "size": 30,
          "symbol": "triangle-right"
         },
         "mode": "markers+text",
         "name": "aggregate",
         "text": [
          "b"
         ],
         "type": "scatter",
         "x": [
          -15
         ],
         "y": [
          0.5
         ]
        },
        {
         "hovertemplate": "%{hovertext}",
         "hovertext": [
          "<b>SyfiVU25</b> (SyfiVU25) <br><b>derived_table</b>: <br><b>columns:</b> \n  *=q.*\n<br><br><b>Predecessors</b>: `a123.aaa`<br><br><b>Successors</b>: a<br>",
          "<b>a</b> (a) <br><b>derived_table</b>: <br><b>columns:</b> \n  a_id=a_id1,<br>\n  aa_ind=case when aa = 'a1' and a2=3 then 1 else 0 end\n<br><br><b>Predecessors</b>: SyfiVU25<br><br><b>Successors</b>: out<br>",
          "<b>b</b> (b) <br><b>derived_table</b>: <br><b>columns:</b> \n  b_id=b_id,<br>\n  b1=b1,<br>\n  bb_sum=sum(bb)\n<br><br><b>Predecessors</b>: b_having<br><br><b>Successors</b>: out<br>",
          "<b>out</b> (out) <br><b>derived_table</b>: <br><b>columns:</b> \n  a_id=a.a_id,<br>\n  a_ind=a.a_ind,<br>\n  b_sum=b.b_sum\n<br><br><b>Predecessors</b>: a,b<br>combine type: join<br>b(b):left join on a.a_id = b.b_id<br>"
         ],
         "marker": {
          "line": {
           "width": 2
          },
          "size": 60,
          "symbol": "circle"
         },
         "mode": "markers+text",
         "name": "derived_table",
         "text": [
          "SyfiVU25",
          "a",
          "b",
          "out"
         ],
         "type": "scatter",
         "x": [
          -10,
          -5,
          -5,
          0
         ],
         "y": [
          -0.5,
          -0.5,
          0.5,
          0
         ]
        }
       ],
       "layout": {
        "hovermode": "closest",
        "margin": {
         "b": 20,
         "l": 5,
         "r": 5,
         "t": 40
        },
        "showlegend": true,
        "template": {
         "data": {
          "bar": [
           {
            "error_x": {
             "color": "#2a3f5f"
            },
            "error_y": {
             "color": "#2a3f5f"
            },
            "marker": {
             "line": {
              "color": "#E5ECF6",
              "width": 0.5
             }
            },
            "type": "bar"
           }
          ],
          "barpolar": [
           {
            "marker": {
             "line": {
              "color": "#E5ECF6",
              "width": 0.5
             }
            },
            "type": "barpolar"
           }
          ],
          "carpet": [
           {
            "aaxis": {
             "endlinecolor": "#2a3f5f",
             "gridcolor": "white",
             "linecolor": "white",
             "minorgridcolor": "white",
             "startlinecolor": "#2a3f5f"
            },
            "baxis": {
             "endlinecolor": "#2a3f5f",
             "gridcolor": "white",
             "linecolor": "white",
             "minorgridcolor": "white",
             "startlinecolor": "#2a3f5f"
            },
            "type": "carpet"
           }
          ],
          "choropleth": [
           {
            "colorbar": {
             "outlinewidth": 0,
             "ticks": ""
            },
            "type": "choropleth"
           }
          ],
          "contour": [
           {
            "colorbar": {
             "outlinewidth": 0,
             "ticks": ""
            },
            "colorscale": [
             [
              0,
              "#0d0887"
             ],
             [
              0.1111111111111111,
              "#46039f"
             ],
             [
              0.2222222222222222,
              "#7201a8"
             ],
             [
              0.3333333333333333,
              "#9c179e"
             ],
             [
              0.4444444444444444,
              "#bd3786"
             ],
             [
              0.5555555555555556,
              "#d8576b"
             ],
             [
              0.6666666666666666,
              "#ed7953"
             ],
             [
              0.7777777777777778,
              "#fb9f3a"
             ],
             [
              0.8888888888888888,
              "#fdca26"
             ],
             [
              1,
              "#f0f921"
             ]
            ],
            "type": "contour"
           }
          ],
          "contourcarpet": [
           {
            "colorbar": {
             "outlinewidth": 0,
             "ticks": ""
            },
            "type": "contourcarpet"
           }
          ],
          "heatmap": [
           {
            "colorbar": {
             "outlinewidth": 0,
             "ticks": ""
            },
            "colorscale": [
             [
              0,
              "#0d0887"
             ],
             [
              0.1111111111111111,
              "#46039f"
             ],
             [
              0.2222222222222222,
              "#7201a8"
             ],
             [
              0.3333333333333333,
              "#9c179e"
             ],
             [
              0.4444444444444444,
              "#bd3786"
             ],
             [
              0.5555555555555556,
              "#d8576b"
             ],
             [
              0.6666666666666666,
              "#ed7953"
             ],
             [
              0.7777777777777778,
              "#fb9f3a"
             ],
             [
              0.8888888888888888,
              "#fdca26"
             ],
             [
              1,
              "#f0f921"
             ]
            ],
            "type": "heatmap"
           }
          ],
          "heatmapgl": [
           {
            "colorbar": {
             "outlinewidth": 0,
             "ticks": ""
            },
            "colorscale": [
             [
              0,
              "#0d0887"
             ],
             [
              0.1111111111111111,
              "#46039f"
             ],
             [
              0.2222222222222222,
              "#7201a8"
             ],
             [
              0.3333333333333333,
              "#9c179e"
             ],
             [
              0.4444444444444444,
              "#bd3786"
             ],
             [
              0.5555555555555556,
              "#d8576b"
             ],
             [
              0.6666666666666666,
              "#ed7953"
             ],
             [
              0.7777777777777778,
              "#fb9f3a"
             ],
             [
              0.8888888888888888,
              "#fdca26"
             ],
             [
              1,
              "#f0f921"
             ]
            ],
            "type": "heatmapgl"
           }
          ],
          "histogram": [
           {
            "marker": {
             "colorbar": {
              "outlinewidth": 0,
              "ticks": ""
             }
            },
            "type": "histogram"
           }
          ],
          "histogram2d": [
           {
            "colorbar": {
             "outlinewidth": 0,
             "ticks": ""
            },
            "colorscale": [
             [
              0,
              "#0d0887"
             ],
             [
              0.1111111111111111,
              "#46039f"
             ],
             [
              0.2222222222222222,
              "#7201a8"
             ],
             [
              0.3333333333333333,
              "#9c179e"
             ],
             [
              0.4444444444444444,
              "#bd3786"
             ],
             [
              0.5555555555555556,
              "#d8576b"
             ],
             [
              0.6666666666666666,
              "#ed7953"
             ],
             [
              0.7777777777777778,
              "#fb9f3a"
             ],
             [
              0.8888888888888888,
              "#fdca26"
             ],
             [
              1,
              "#f0f921"
             ]
            ],
            "type": "histogram2d"
           }
          ],
          "histogram2dcontour": [
           {
            "colorbar": {
             "outlinewidth": 0,
             "ticks": ""
            },
            "colorscale": [
             [
              0,
              "#0d0887"
             ],
             [
              0.1111111111111111,
              "#46039f"
             ],
             [
              0.2222222222222222,
              "#7201a8"
             ],
             [
              0.3333333333333333,
              "#9c179e"
             ],
             [
              0.4444444444444444,
              "#bd3786"
             ],
             [
              0.5555555555555556,
              "#d8576b"
             ],
             [
              0.6666666666666666,
              "#ed7953"
             ],
             [
              0.7777777777777778,
              "#fb9f3a"
             ],
             [
              0.8888888888888888,
              "#fdca26"
             ],
             [
              1,
              "#f0f921"
             ]
            ],
            "type": "histogram2dcontour"
           }
          ],
          "mesh3d": [
           {
            "colorbar": {
             "outlinewidth": 0,
             "ticks": ""
            },
            "type": "mesh3d"
           }
          ],
          "parcoords": [
           {
            "line": {
             "colorbar": {
              "outlinewidth": 0,
              "ticks": ""
             }
            },
            "type": "parcoords"
           }
          ],
          "pie": [
           {
            "automargin": true,
            "type": "pie"
           }
          ],
          "scatter": [
           {
            "marker": {
             "colorbar": {
              "outlinewidth": 0,
              "ticks": ""
             }
            },
            "type": "scatter"
           }
          ],
          "scatter3d": [
           {
            "line": {
             "colorbar": {
              "outlinewidth": 0,
              "ticks": ""
             }
            },
            "marker": {
             "colorbar": {
              "outlinewidth": 0,
              "ticks": ""
             }
            },
            "type": "scatter3d"
           }
          ],
          "scattercarpet": [
           {
            "marker": {
             "colorbar": {
              "outlinewidth": 0,
              "ticks": ""
             }
            },
            "type": "scattercarpet"
           }
          ],
          "scattergeo": [
           {
            "marker": {
             "colorbar": {
              "outlinewidth": 0,
              "ticks": ""
             }
            },
            "type": "scattergeo"
           }
          ],
          "scattergl": [
           {
            "marker": {
             "colorbar": {
              "outlinewidth": 0,
              "ticks": ""
             }
            },
            "type": "scattergl"
           }
          ],
          "scattermapbox": [
           {
            "marker": {
             "colorbar": {
              "outlinewidth": 0,
              "ticks": ""
             }
            },
            "type": "scattermapbox"
           }
          ],
          "scatterpolar": [
           {
            "marker": {
             "colorbar": {
              "outlinewidth": 0,
              "ticks": ""
             }
            },
            "type": "scatterpolar"
           }
          ],
          "scatterpolargl": [
           {
            "marker": {
             "colorbar": {
              "outlinewidth": 0,
              "ticks": ""
             }
            },
            "type": "scatterpolargl"
           }
          ],
          "scatterternary": [
           {
            "marker": {
             "colorbar": {
              "outlinewidth": 0,
              "ticks": ""
             }
            },
            "type": "scatterternary"
           }
          ],
          "surface": [
           {
            "colorbar": {
             "outlinewidth": 0,
             "ticks": ""
            },
            "colorscale": [
             [
              0,
              "#0d0887"
             ],
             [
              0.1111111111111111,
              "#46039f"
             ],
             [
              0.2222222222222222,
              "#7201a8"
             ],
             [
              0.3333333333333333,
              "#9c179e"
             ],
             [
              0.4444444444444444,
              "#bd3786"
             ],
             [
              0.5555555555555556,
              "#d8576b"
             ],
             [
              0.6666666666666666,
              "#ed7953"
             ],
             [
              0.7777777777777778,
              "#fb9f3a"
             ],
             [
              0.8888888888888888,
              "#fdca26"
             ],
             [
              1,
              "#f0f921"
             ]
            ],
            "type": "surface"
           }
          ],
          "table": [
           {
            "cells": {
             "fill": {
              "color": "#EBF0F8"
             },
             "line": {
              "color": "white"
             }
            },
            "header": {
             "fill": {
              "color": "#C8D4E3"
             },
             "line": {
              "color": "white"
             }
            },
            "type": "table"
           }
          ]
         },
         "layout": {
          "annotationdefaults": {
           "arrowcolor": "#2a3f5f",
           "arrowhead": 0,
           "arrowwidth": 1
          },
          "autotypenumbers": "strict",
          "coloraxis": {
           "colorbar": {
            "outlinewidth": 0,
            "ticks": ""
           }
          },
          "colorscale": {
           "diverging": [
            [
             0,
             "#8e0152"
            ],
            [
             0.1,
             "#c51b7d"
            ],
            [
             0.2,
             "#de77ae"
            ],
            [
             0.3,
             "#f1b6da"
            ],
            [
             0.4,
             "#fde0ef"
            ],
            [
             0.5,
             "#f7f7f7"
            ],
            [
             0.6,
             "#e6f5d0"
            ],
            [
             0.7,
             "#b8e186"
            ],
            [
             0.8,
             "#7fbc41"
            ],
            [
             0.9,
             "#4d9221"
            ],
            [
             1,
             "#276419"
            ]
           ],
           "sequential": [
            [
             0,
             "#0d0887"
            ],
            [
             0.1111111111111111,
             "#46039f"
            ],
            [
             0.2222222222222222,
             "#7201a8"
            ],
            [
             0.3333333333333333,
             "#9c179e"
            ],
            [
             0.4444444444444444,
             "#bd3786"
            ],
            [
             0.5555555555555556,
             "#d8576b"
            ],
            [
             0.6666666666666666,
             "#ed7953"
            ],
            [
             0.7777777777777778,
             "#fb9f3a"
            ],
            [
             0.8888888888888888,
             "#fdca26"
            ],
            [
             1,
             "#f0f921"
            ]
           ],
           "sequentialminus": [
            [
             0,
             "#0d0887"
            ],
            [
             0.1111111111111111,
             "#46039f"
            ],
            [
             0.2222222222222222,
             "#7201a8"
            ],
            [
             0.3333333333333333,
             "#9c179e"
            ],
            [
             0.4444444444444444,
             "#bd3786"
            ],
            [
             0.5555555555555556,
             "#d8576b"
            ],
            [
             0.6666666666666666,
             "#ed7953"
            ],
            [
             0.7777777777777778,
             "#fb9f3a"
            ],
            [
             0.8888888888888888,
             "#fdca26"
            ],
            [
             1,
             "#f0f921"
            ]
           ]
          },
          "colorway": [
           "#636efa",
           "#EF553B",
           "#00cc96",
           "#ab63fa",
           "#FFA15A",
           "#19d3f3",
           "#FF6692",
           "#B6E880",
           "#FF97FF",
           "#FECB52"
          ],
          "font": {
           "color": "#2a3f5f"
          },
          "geo": {
           "bgcolor": "white",
           "lakecolor": "white",
           "landcolor": "#E5ECF6",
           "showlakes": true,
           "showland": true,
           "subunitcolor": "white"
          },
          "hoverlabel": {
           "align": "left"
          },
          "hovermode": "closest",
          "mapbox": {
           "style": "light"
          },
          "paper_bgcolor": "white",
          "plot_bgcolor": "#E5ECF6",
          "polar": {
           "angularaxis": {
            "gridcolor": "white",
            "linecolor": "white",
            "ticks": ""
           },
           "bgcolor": "#E5ECF6",
           "radialaxis": {
            "gridcolor": "white",
            "linecolor": "white",
            "ticks": ""
           }
          },
          "scene": {
           "xaxis": {
            "backgroundcolor": "#E5ECF6",
            "gridcolor": "white",
            "gridwidth": 2,
            "linecolor": "white",
            "showbackground": true,
            "ticks": "",
            "zerolinecolor": "white"
           },
           "yaxis": {
            "backgroundcolor": "#E5ECF6",
            "gridcolor": "white",
            "gridwidth": 2,
            "linecolor": "white",
            "showbackground": true,
            "ticks": "",
            "zerolinecolor": "white"
           },
           "zaxis": {
            "backgroundcolor": "#E5ECF6",
            "gridcolor": "white",
            "gridwidth": 2,
            "linecolor": "white",
            "showbackground": true,
            "ticks": "",
            "zerolinecolor": "white"
           }
          },
          "shapedefaults": {
           "line": {
            "color": "#2a3f5f"
           }
          },
          "ternary": {
           "aaxis": {
            "gridcolor": "white",
            "linecolor": "white",
            "ticks": ""
           },
           "baxis": {
            "gridcolor": "white",
            "linecolor": "white",
            "ticks": ""
           },
           "bgcolor": "#E5ECF6",
           "caxis": {
            "gridcolor": "white",
            "linecolor": "white",
            "ticks": ""
           }
          },
          "title": {
           "x": 0.05
          },
          "xaxis": {
           "automargin": true,
           "gridcolor": "white",
           "linecolor": "white",
           "ticks": "",
           "title": {
            "standoff": 15
           },
           "zerolinecolor": "white",
           "zerolinewidth": 2
          },
          "yaxis": {
           "automargin": true,
           "gridcolor": "white",
           "linecolor": "white",
           "ticks": "",
           "title": {
            "standoff": 15
           },
           "zerolinecolor": "white",
           "zerolinewidth": 2
          }
         }
        },
        "title": {
         "font": {
          "size": 16
         },
         "text": "Query flow"
        },
        "xaxis": {
         "showgrid": false,
         "showticklabels": false,
         "zeroline": false
        },
        "yaxis": {
         "showgrid": false,
         "showticklabels": false,
         "zeroline": false
        }
       }
      },
      "text/html": [
       "<div>                            <div id=\"96a7db24-e6fc-4fdb-99b5-91f909ea8737\" class=\"plotly-graph-div\" style=\"height:525px; width:100%;\"></div>            <script type=\"text/javascript\">                require([\"plotly\"], function(Plotly) {                    window.PLOTLYENV=window.PLOTLYENV || {};                                    if (document.getElementById(\"96a7db24-e6fc-4fdb-99b5-91f909ea8737\")) {                    Plotly.newPlot(                        \"96a7db24-e6fc-4fdb-99b5-91f909ea8737\",                        [{\"hoverinfo\": \"none\", \"line\": {\"color\": \"#888\", \"width\": 0.5}, \"mode\": \"lines\", \"type\": \"scatter\", \"x\": [-10, -5, null, -15, -10, null, -25, -20, null, -5, 0, null, -5, 0, null, -15, -10, null, -10, -5, null, -20, -15, null], \"y\": [-0.5, -0.5, null, -0.5, -0.5, null, 0.5, 0.5, null, -0.5, 0, null, 0.5, 0, null, 0.5, 0.5, null, 0.5, 0.5, null, 0.5, 0.5, null]}, {\"hovertemplate\": \"%{hovertext}\", \"hovertext\": [\"<b>`a123.aaa`</b> (`a123.aaa`) <br><b>raw_table</b>: <br><br><b>Successors</b>: SyfiVU25<br>\", \"<b>`b123.bbb`</b> (`b123.bbb`) <br><b>raw_table</b>: <br><br><b>Successors</b>: b_where<br>\"], \"marker\": {\"line\": {\"width\": 2}, \"size\": 60, \"symbol\": \"square\"}, \"mode\": \"markers+text\", \"name\": \"raw_table\", \"text\": [\"`a123.aaa`\", \"`b123.bbb`\"], \"type\": \"scatter\", \"x\": [-15, -25], \"y\": [-0.5, 0.5]}, {\"hovertemplate\": \"%{hovertext}\", \"hovertext\": [\"<b>b</b> (b_having) <br><b>filter</b>: sum(bb)>2<br><br><b>Predecessors</b>: b_group<br><br><b>Successors</b>: b<br>\", \"<b>b</b> (b_where) <br><b>filter</b>: b1 > 2 and (b2 < 3 or b2 >5)<br><br><b>Predecessors</b>: `b123.bbb`<br><br><b>Successors</b>: b_group<br>\"], \"marker\": {\"line\": {\"width\": 2}, \"size\": 30, \"symbol\": \"triangle-right\"}, \"mode\": \"markers+text\", \"name\": \"filter\", \"text\": [\"b\", \"b\"], \"type\": \"scatter\", \"x\": [-10, -20], \"y\": [0.5, 0.5]}, {\"hovertemplate\": \"%{hovertext}\", \"hovertext\": [\"<b>b</b> (b_group) <br><b>aggregate</b>: by b_id,b1<br><br><b>Predecessors</b>: b_where<br><br><b>Successors</b>: b_having<br>\"], \"marker\": {\"line\": {\"width\": 2}, \"size\": 30, \"symbol\": \"triangle-right\"}, \"mode\": \"markers+text\", \"name\": \"aggregate\", \"text\": [\"b\"], \"type\": \"scatter\", \"x\": [-15], \"y\": [0.5]}, {\"hovertemplate\": \"%{hovertext}\", \"hovertext\": [\"<b>SyfiVU25</b> (SyfiVU25) <br><b>derived_table</b>: <br><b>columns:</b> \\n  *=q.*\\n<br><br><b>Predecessors</b>: `a123.aaa`<br><br><b>Successors</b>: a<br>\", \"<b>a</b> (a) <br><b>derived_table</b>: <br><b>columns:</b> \\n  a_id=a_id1,<br>\\n  aa_ind=case when aa = 'a1' and a2=3 then 1 else 0 end\\n<br><br><b>Predecessors</b>: SyfiVU25<br><br><b>Successors</b>: out<br>\", \"<b>b</b> (b) <br><b>derived_table</b>: <br><b>columns:</b> \\n  b_id=b_id,<br>\\n  b1=b1,<br>\\n  bb_sum=sum(bb)\\n<br><br><b>Predecessors</b>: b_having<br><br><b>Successors</b>: out<br>\", \"<b>out</b> (out) <br><b>derived_table</b>: <br><b>columns:</b> \\n  a_id=a.a_id,<br>\\n  a_ind=a.a_ind,<br>\\n  b_sum=b.b_sum\\n<br><br><b>Predecessors</b>: a,b<br>combine type: join<br>b(b):left join on a.a_id = b.b_id<br>\"], \"marker\": {\"line\": {\"width\": 2}, \"size\": 60, \"symbol\": \"circle\"}, \"mode\": \"markers+text\", \"name\": \"derived_table\", \"text\": [\"SyfiVU25\", \"a\", \"b\", \"out\"], \"type\": \"scatter\", \"x\": [-10, -5, -5, 0], \"y\": [-0.5, -0.5, 0.5, 0]}],                        {\"hovermode\": \"closest\", \"margin\": {\"b\": 20, \"l\": 5, \"r\": 5, \"t\": 40}, \"showlegend\": true, \"template\": {\"data\": {\"bar\": [{\"error_x\": {\"color\": \"#2a3f5f\"}, \"error_y\": {\"color\": \"#2a3f5f\"}, \"marker\": {\"line\": {\"color\": \"#E5ECF6\", \"width\": 0.5}}, \"type\": \"bar\"}], \"barpolar\": [{\"marker\": {\"line\": {\"color\": \"#E5ECF6\", \"width\": 0.5}}, \"type\": \"barpolar\"}], \"carpet\": [{\"aaxis\": {\"endlinecolor\": \"#2a3f5f\", \"gridcolor\": \"white\", \"linecolor\": \"white\", \"minorgridcolor\": \"white\", \"startlinecolor\": \"#2a3f5f\"}, \"baxis\": {\"endlinecolor\": \"#2a3f5f\", \"gridcolor\": \"white\", \"linecolor\": \"white\", \"minorgridcolor\": \"white\", \"startlinecolor\": \"#2a3f5f\"}, \"type\": \"carpet\"}], \"choropleth\": [{\"colorbar\": {\"outlinewidth\": 0, \"ticks\": \"\"}, \"type\": \"choropleth\"}], \"contour\": [{\"colorbar\": {\"outlinewidth\": 0, \"ticks\": \"\"}, \"colorscale\": [[0.0, \"#0d0887\"], [0.1111111111111111, \"#46039f\"], [0.2222222222222222, \"#7201a8\"], [0.3333333333333333, \"#9c179e\"], [0.4444444444444444, \"#bd3786\"], [0.5555555555555556, \"#d8576b\"], [0.6666666666666666, \"#ed7953\"], [0.7777777777777778, \"#fb9f3a\"], [0.8888888888888888, \"#fdca26\"], [1.0, \"#f0f921\"]], \"type\": \"contour\"}], \"contourcarpet\": [{\"colorbar\": {\"outlinewidth\": 0, \"ticks\": \"\"}, \"type\": \"contourcarpet\"}], \"heatmap\": [{\"colorbar\": {\"outlinewidth\": 0, \"ticks\": \"\"}, \"colorscale\": [[0.0, \"#0d0887\"], [0.1111111111111111, \"#46039f\"], [0.2222222222222222, \"#7201a8\"], [0.3333333333333333, \"#9c179e\"], [0.4444444444444444, \"#bd3786\"], [0.5555555555555556, \"#d8576b\"], [0.6666666666666666, \"#ed7953\"], [0.7777777777777778, \"#fb9f3a\"], [0.8888888888888888, \"#fdca26\"], [1.0, \"#f0f921\"]], \"type\": \"heatmap\"}], \"heatmapgl\": [{\"colorbar\": {\"outlinewidth\": 0, \"ticks\": \"\"}, \"colorscale\": [[0.0, \"#0d0887\"], [0.1111111111111111, \"#46039f\"], [0.2222222222222222, \"#7201a8\"], [0.3333333333333333, \"#9c179e\"], [0.4444444444444444, \"#bd3786\"], [0.5555555555555556, \"#d8576b\"], [0.6666666666666666, \"#ed7953\"], [0.7777777777777778, \"#fb9f3a\"], [0.8888888888888888, \"#fdca26\"], [1.0, \"#f0f921\"]], \"type\": \"heatmapgl\"}], \"histogram\": [{\"marker\": {\"colorbar\": {\"outlinewidth\": 0, \"ticks\": \"\"}}, \"type\": \"histogram\"}], \"histogram2d\": [{\"colorbar\": {\"outlinewidth\": 0, \"ticks\": \"\"}, \"colorscale\": [[0.0, \"#0d0887\"], [0.1111111111111111, \"#46039f\"], [0.2222222222222222, \"#7201a8\"], [0.3333333333333333, \"#9c179e\"], [0.4444444444444444, \"#bd3786\"], [0.5555555555555556, \"#d8576b\"], [0.6666666666666666, \"#ed7953\"], [0.7777777777777778, \"#fb9f3a\"], [0.8888888888888888, \"#fdca26\"], [1.0, \"#f0f921\"]], \"type\": \"histogram2d\"}], \"histogram2dcontour\": [{\"colorbar\": {\"outlinewidth\": 0, \"ticks\": \"\"}, \"colorscale\": [[0.0, \"#0d0887\"], [0.1111111111111111, \"#46039f\"], [0.2222222222222222, \"#7201a8\"], [0.3333333333333333, \"#9c179e\"], [0.4444444444444444, \"#bd3786\"], [0.5555555555555556, \"#d8576b\"], [0.6666666666666666, \"#ed7953\"], [0.7777777777777778, \"#fb9f3a\"], [0.8888888888888888, \"#fdca26\"], [1.0, \"#f0f921\"]], \"type\": \"histogram2dcontour\"}], \"mesh3d\": [{\"colorbar\": {\"outlinewidth\": 0, \"ticks\": \"\"}, \"type\": \"mesh3d\"}], \"parcoords\": [{\"line\": {\"colorbar\": {\"outlinewidth\": 0, \"ticks\": \"\"}}, \"type\": \"parcoords\"}], \"pie\": [{\"automargin\": true, \"type\": \"pie\"}], \"scatter\": [{\"marker\": {\"colorbar\": {\"outlinewidth\": 0, \"ticks\": \"\"}}, \"type\": \"scatter\"}], \"scatter3d\": [{\"line\": {\"colorbar\": {\"outlinewidth\": 0, \"ticks\": \"\"}}, \"marker\": {\"colorbar\": {\"outlinewidth\": 0, \"ticks\": \"\"}}, \"type\": \"scatter3d\"}], \"scattercarpet\": [{\"marker\": {\"colorbar\": {\"outlinewidth\": 0, \"ticks\": \"\"}}, \"type\": \"scattercarpet\"}], \"scattergeo\": [{\"marker\": {\"colorbar\": {\"outlinewidth\": 0, \"ticks\": \"\"}}, \"type\": \"scattergeo\"}], \"scattergl\": [{\"marker\": {\"colorbar\": {\"outlinewidth\": 0, \"ticks\": \"\"}}, \"type\": \"scattergl\"}], \"scattermapbox\": [{\"marker\": {\"colorbar\": {\"outlinewidth\": 0, \"ticks\": \"\"}}, \"type\": \"scattermapbox\"}], \"scatterpolar\": [{\"marker\": {\"colorbar\": {\"outlinewidth\": 0, \"ticks\": \"\"}}, \"type\": \"scatterpolar\"}], \"scatterpolargl\": [{\"marker\": {\"colorbar\": {\"outlinewidth\": 0, \"ticks\": \"\"}}, \"type\": \"scatterpolargl\"}], \"scatterternary\": [{\"marker\": {\"colorbar\": {\"outlinewidth\": 0, \"ticks\": \"\"}}, \"type\": \"scatterternary\"}], \"surface\": [{\"colorbar\": {\"outlinewidth\": 0, \"ticks\": \"\"}, \"colorscale\": [[0.0, \"#0d0887\"], [0.1111111111111111, \"#46039f\"], [0.2222222222222222, \"#7201a8\"], [0.3333333333333333, \"#9c179e\"], [0.4444444444444444, \"#bd3786\"], [0.5555555555555556, \"#d8576b\"], [0.6666666666666666, \"#ed7953\"], [0.7777777777777778, \"#fb9f3a\"], [0.8888888888888888, \"#fdca26\"], [1.0, \"#f0f921\"]], \"type\": \"surface\"}], \"table\": [{\"cells\": {\"fill\": {\"color\": \"#EBF0F8\"}, \"line\": {\"color\": \"white\"}}, \"header\": {\"fill\": {\"color\": \"#C8D4E3\"}, \"line\": {\"color\": \"white\"}}, \"type\": \"table\"}]}, \"layout\": {\"annotationdefaults\": {\"arrowcolor\": \"#2a3f5f\", \"arrowhead\": 0, \"arrowwidth\": 1}, \"autotypenumbers\": \"strict\", \"coloraxis\": {\"colorbar\": {\"outlinewidth\": 0, \"ticks\": \"\"}}, \"colorscale\": {\"diverging\": [[0, \"#8e0152\"], [0.1, \"#c51b7d\"], [0.2, \"#de77ae\"], [0.3, \"#f1b6da\"], [0.4, \"#fde0ef\"], [0.5, \"#f7f7f7\"], [0.6, \"#e6f5d0\"], [0.7, \"#b8e186\"], [0.8, \"#7fbc41\"], [0.9, \"#4d9221\"], [1, \"#276419\"]], \"sequential\": [[0.0, \"#0d0887\"], [0.1111111111111111, \"#46039f\"], [0.2222222222222222, \"#7201a8\"], [0.3333333333333333, \"#9c179e\"], [0.4444444444444444, \"#bd3786\"], [0.5555555555555556, \"#d8576b\"], [0.6666666666666666, \"#ed7953\"], [0.7777777777777778, \"#fb9f3a\"], [0.8888888888888888, \"#fdca26\"], [1.0, \"#f0f921\"]], \"sequentialminus\": [[0.0, \"#0d0887\"], [0.1111111111111111, \"#46039f\"], [0.2222222222222222, \"#7201a8\"], [0.3333333333333333, \"#9c179e\"], [0.4444444444444444, \"#bd3786\"], [0.5555555555555556, \"#d8576b\"], [0.6666666666666666, \"#ed7953\"], [0.7777777777777778, \"#fb9f3a\"], [0.8888888888888888, \"#fdca26\"], [1.0, \"#f0f921\"]]}, \"colorway\": [\"#636efa\", \"#EF553B\", \"#00cc96\", \"#ab63fa\", \"#FFA15A\", \"#19d3f3\", \"#FF6692\", \"#B6E880\", \"#FF97FF\", \"#FECB52\"], \"font\": {\"color\": \"#2a3f5f\"}, \"geo\": {\"bgcolor\": \"white\", \"lakecolor\": \"white\", \"landcolor\": \"#E5ECF6\", \"showlakes\": true, \"showland\": true, \"subunitcolor\": \"white\"}, \"hoverlabel\": {\"align\": \"left\"}, \"hovermode\": \"closest\", \"mapbox\": {\"style\": \"light\"}, \"paper_bgcolor\": \"white\", \"plot_bgcolor\": \"#E5ECF6\", \"polar\": {\"angularaxis\": {\"gridcolor\": \"white\", \"linecolor\": \"white\", \"ticks\": \"\"}, \"bgcolor\": \"#E5ECF6\", \"radialaxis\": {\"gridcolor\": \"white\", \"linecolor\": \"white\", \"ticks\": \"\"}}, \"scene\": {\"xaxis\": {\"backgroundcolor\": \"#E5ECF6\", \"gridcolor\": \"white\", \"gridwidth\": 2, \"linecolor\": \"white\", \"showbackground\": true, \"ticks\": \"\", \"zerolinecolor\": \"white\"}, \"yaxis\": {\"backgroundcolor\": \"#E5ECF6\", \"gridcolor\": \"white\", \"gridwidth\": 2, \"linecolor\": \"white\", \"showbackground\": true, \"ticks\": \"\", \"zerolinecolor\": \"white\"}, \"zaxis\": {\"backgroundcolor\": \"#E5ECF6\", \"gridcolor\": \"white\", \"gridwidth\": 2, \"linecolor\": \"white\", \"showbackground\": true, \"ticks\": \"\", \"zerolinecolor\": \"white\"}}, \"shapedefaults\": {\"line\": {\"color\": \"#2a3f5f\"}}, \"ternary\": {\"aaxis\": {\"gridcolor\": \"white\", \"linecolor\": \"white\", \"ticks\": \"\"}, \"baxis\": {\"gridcolor\": \"white\", \"linecolor\": \"white\", \"ticks\": \"\"}, \"bgcolor\": \"#E5ECF6\", \"caxis\": {\"gridcolor\": \"white\", \"linecolor\": \"white\", \"ticks\": \"\"}}, \"title\": {\"x\": 0.05}, \"xaxis\": {\"automargin\": true, \"gridcolor\": \"white\", \"linecolor\": \"white\", \"ticks\": \"\", \"title\": {\"standoff\": 15}, \"zerolinecolor\": \"white\", \"zerolinewidth\": 2}, \"yaxis\": {\"automargin\": true, \"gridcolor\": \"white\", \"linecolor\": \"white\", \"ticks\": \"\", \"title\": {\"standoff\": 15}, \"zerolinecolor\": \"white\", \"zerolinewidth\": 2}}}, \"title\": {\"font\": {\"size\": 16}, \"text\": \"Query flow\"}, \"xaxis\": {\"showgrid\": false, \"showticklabels\": false, \"zeroline\": false}, \"yaxis\": {\"showgrid\": false, \"showticklabels\": false, \"zeroline\": false}},                        {\"responsive\": true}                    ).then(function(){\n",
       "                            \n",
       "var gd = document.getElementById('96a7db24-e6fc-4fdb-99b5-91f909ea8737');\n",
       "var x = new MutationObserver(function (mutations, observer) {{\n",
       "        var display = window.getComputedStyle(gd).display;\n",
       "        if (!display || display === 'none') {{\n",
       "            console.log([gd, 'removed!']);\n",
       "            Plotly.purge(gd);\n",
       "            observer.disconnect();\n",
       "        }}\n",
       "}});\n",
       "\n",
       "// Listen for the removal of the full notebook cells\n",
       "var notebookContainer = gd.closest('#notebook-container');\n",
       "if (notebookContainer) {{\n",
       "    x.observe(notebookContainer, {childList: true});\n",
       "}}\n",
       "\n",
       "// Listen for the clearing of the current output cell\n",
       "var outputEl = gd.closest('.output');\n",
       "if (outputEl) {{\n",
       "    x.observe(outputEl, {childList: true});\n",
       "}}\n",
       "\n",
       "                        })                };                });            </script>        </div>"
      ]
     },
     "metadata": {},
     "output_type": "display_data"
    }
   ],
   "source": [
    "test_query_obj.plot_query()"
   ]
  },
  {
   "cell_type": "code",
   "execution_count": 694,
   "metadata": {},
   "outputs": [],
   "source": [
    "subq_test_q_2 = '''--asd\n",
    "        with a as (\n",
    "            select a_id1 as a_id, --abc\n",
    "            case when aa = \\'a1\\' and a2=3 then 1 else 0 end aa_ind --def\n",
    "            from (select q.* from `a123.aaa` q) abc\n",
    "        ), b as (\n",
    "            select b_id,b1, \n",
    "            sum(bb) bb_sum \n",
    "            from `b123.bbb`\n",
    "            where b1 > 2 and (b2 < 3 or b2 >5)\n",
    "            group by 1,2\n",
    "            having sum(bb)>2\n",
    "        ), c as (\n",
    "            select c_id,\n",
    "            c1,\n",
    "            c2\n",
    "            from `c123.ccc`\n",
    "            where c1<c2\n",
    "        ), d as (\n",
    "            select a_id,\n",
    "            case when aa_ind>c2 then aa_ind else c2 end as aa_ind\n",
    "            from a left join c\n",
    "            on a.a_id = c.c_id\n",
    "            where c1<aa_ind\n",
    "        )\n",
    "        select d.a_id,d.a_ind,b.b_sum \n",
    "        from d left join b \n",
    "        on d.a_id = b.b_id'''\n"
   ]
  },
  {
   "cell_type": "code",
   "execution_count": 695,
   "metadata": {},
   "outputs": [
    {
     "name": "stdout",
     "output_type": "stream",
     "text": [
      "a\n",
      "b\n",
      "c\n",
      "d\n",
      "out\n",
      "7vfqCYOS\n"
     ]
    },
    {
     "data": {
      "application/vnd.plotly.v1+json": {
       "config": {
        "plotlyServerURL": "https://plot.ly"
       },
       "data": [
        {
         "hoverinfo": "none",
         "line": {
          "color": "#888",
          "width": 0.5
         },
         "mode": "lines",
         "type": "scatter",
         "x": [
          -20,
          -15,
          null,
          -25,
          -20,
          null,
          -25,
          -20,
          null,
          -25,
          -20,
          null,
          -15,
          -10,
          null,
          -5,
          0,
          null,
          -15,
          -10,
          null,
          -10,
          -5,
          null,
          -20,
          -15,
          null,
          -15,
          -10,
          null,
          -20,
          -15,
          null,
          -5,
          0,
          null,
          -10,
          -5,
          null
         ],
         "y": [
          -0.6152,
          -0.6152,
          null,
          -0.6152,
          -0.6152,
          null,
          0.5,
          0.5,
          null,
          -0.38480000000000003,
          -0.38480000000000003,
          null,
          -0.6152,
          -0.5,
          null,
          0.5,
          0,
          null,
          0.5,
          0.5,
          null,
          0.5,
          0.5,
          null,
          0.5,
          0.5,
          null,
          -0.38480000000000003,
          -0.5,
          null,
          -0.38480000000000003,
          -0.38480000000000003,
          null,
          -0.5,
          0,
          null,
          -0.5,
          -0.5,
          null
         ]
        },
        {
         "hovertemplate": "%{hovertext}",
         "hovertext": [
          "<b>`a123.aaa`</b> (`a123.aaa`) <br><b>raw_table</b>: <br><br><b>Successors</b>: 7vfqCYOS<br>",
          "<b>`b123.bbb`</b> (`b123.bbb`) <br><b>raw_table</b>: <br><br><b>Successors</b>: b_where<br>",
          "<b>`c123.ccc`</b> (`c123.ccc`) <br><b>raw_table</b>: <br><br><b>Successors</b>: c_where<br>"
         ],
         "marker": {
          "line": {
           "width": 2
          },
          "size": 60,
          "symbol": "square"
         },
         "mode": "markers+text",
         "name": "raw_table",
         "text": [
          "`a123.aaa`",
          "`b123.bbb`",
          "`c123.ccc`"
         ],
         "type": "scatter",
         "x": [
          -25,
          -25,
          -25
         ],
         "y": [
          -0.6152,
          0.5,
          -0.38480000000000003
         ]
        },
        {
         "hovertemplate": "%{hovertext}",
         "hovertext": [
          "<b>b</b> (b_having) <br><b>filter</b>: sum(bb)>2<br><br><b>Predecessors</b>: b_group<br><br><b>Successors</b>: b<br>",
          "<b>b</b> (b_where) <br><b>filter</b>: b1 > 2 and (b2 < 3 or b2 >5)<br><br><b>Predecessors</b>: `b123.bbb`<br><br><b>Successors</b>: b_group<br>",
          "<b>c</b> (c_where) <br><b>filter</b>: c1<c2<br><br><b>Predecessors</b>: `c123.ccc`<br><br><b>Successors</b>: c<br>",
          "<b>d</b> (d_where) <br><b>filter</b>: c1<aa_ind<br><br><b>Predecessors</b>: a,c<br>combine type: join<br>c(c):left join on a.a_id = c.c_id<br><br><b>Successors</b>: d<br>"
         ],
         "marker": {
          "line": {
           "width": 2
          },
          "size": 30,
          "symbol": "triangle-right"
         },
         "mode": "markers+text",
         "name": "filter",
         "text": [
          "b",
          "b",
          "c",
          "d"
         ],
         "type": "scatter",
         "x": [
          -10,
          -20,
          -20,
          -10
         ],
         "y": [
          0.5,
          0.5,
          -0.38480000000000003,
          -0.5
         ]
        },
        {
         "hovertemplate": "%{hovertext}",
         "hovertext": [
          "<b>b</b> (b_group) <br><b>aggregate</b>: by b_id,b1<br><br><b>Predecessors</b>: b_where<br><br><b>Successors</b>: b_having<br>"
         ],
         "marker": {
          "line": {
           "width": 2
          },
          "size": 30,
          "symbol": "triangle-right"
         },
         "mode": "markers+text",
         "name": "aggregate",
         "text": [
          "b"
         ],
         "type": "scatter",
         "x": [
          -15
         ],
         "y": [
          0.5
         ]
        },
        {
         "hovertemplate": "%{hovertext}",
         "hovertext": [
          "<b>7vfqCYOS</b> (7vfqCYOS) <br><b>derived_table</b>: <br><b>columns:</b> \n  *=q.*\n<br><br><b>Predecessors</b>: `a123.aaa`<br><br><b>Successors</b>: a<br>",
          "<b>a</b> (a) <br><b>derived_table</b>: <br><b>columns:</b> \n  a_id=a_id1,<br>\n  aa_ind=case when aa = 'a1' and a2=3 then 1 else 0 end\n<br><br><b>Predecessors</b>: 7vfqCYOS<br><br><b>Successors</b>: d_where<br>",
          "<b>b</b> (b) <br><b>derived_table</b>: <br><b>columns:</b> \n  b_id=b_id,<br>\n  b1=b1,<br>\n  bb_sum=sum(bb)\n<br><br><b>Predecessors</b>: b_having<br><br><b>Successors</b>: out<br>",
          "<b>c</b> (c) <br><b>derived_table</b>: <br><b>columns:</b> \n  c_id=c_id,<br>\n  c1=c1,<br>\n  c2=c2\n<br><br><b>Predecessors</b>: c_where<br><br><b>Successors</b>: d_where<br>",
          "<b>d</b> (d) <br><b>derived_table</b>: <br><b>columns:</b> \n  a_id=a_id,<br>\n  aa_ind=case when aa_ind>c2 then aa_ind else c2 end\n<br><br><b>Predecessors</b>: d_where<br><br><b>Successors</b>: out<br>",
          "<b>out</b> (out) <br><b>derived_table</b>: <br><b>columns:</b> \n  a_id=d.a_id,<br>\n  a_ind=d.a_ind,<br>\n  b_sum=b.b_sum\n<br><br><b>Predecessors</b>: d,b<br>combine type: join<br>b(b):left join on d.a_id = b.b_id<br>"
         ],
         "marker": {
          "line": {
           "width": 2
          },
          "size": 60,
          "symbol": "circle"
         },
         "mode": "markers+text",
         "name": "derived_table",
         "text": [
          "7vfqCYOS",
          "a",
          "b",
          "c",
          "d",
          "out"
         ],
         "type": "scatter",
         "x": [
          -20,
          -15,
          -5,
          -15,
          -5,
          0
         ],
         "y": [
          -0.6152,
          -0.6152,
          0.5,
          -0.38480000000000003,
          -0.5,
          0
         ]
        }
       ],
       "layout": {
        "hovermode": "closest",
        "margin": {
         "b": 20,
         "l": 5,
         "r": 5,
         "t": 40
        },
        "showlegend": true,
        "template": {
         "data": {
          "bar": [
           {
            "error_x": {
             "color": "#2a3f5f"
            },
            "error_y": {
             "color": "#2a3f5f"
            },
            "marker": {
             "line": {
              "color": "#E5ECF6",
              "width": 0.5
             }
            },
            "type": "bar"
           }
          ],
          "barpolar": [
           {
            "marker": {
             "line": {
              "color": "#E5ECF6",
              "width": 0.5
             }
            },
            "type": "barpolar"
           }
          ],
          "carpet": [
           {
            "aaxis": {
             "endlinecolor": "#2a3f5f",
             "gridcolor": "white",
             "linecolor": "white",
             "minorgridcolor": "white",
             "startlinecolor": "#2a3f5f"
            },
            "baxis": {
             "endlinecolor": "#2a3f5f",
             "gridcolor": "white",
             "linecolor": "white",
             "minorgridcolor": "white",
             "startlinecolor": "#2a3f5f"
            },
            "type": "carpet"
           }
          ],
          "choropleth": [
           {
            "colorbar": {
             "outlinewidth": 0,
             "ticks": ""
            },
            "type": "choropleth"
           }
          ],
          "contour": [
           {
            "colorbar": {
             "outlinewidth": 0,
             "ticks": ""
            },
            "colorscale": [
             [
              0,
              "#0d0887"
             ],
             [
              0.1111111111111111,
              "#46039f"
             ],
             [
              0.2222222222222222,
              "#7201a8"
             ],
             [
              0.3333333333333333,
              "#9c179e"
             ],
             [
              0.4444444444444444,
              "#bd3786"
             ],
             [
              0.5555555555555556,
              "#d8576b"
             ],
             [
              0.6666666666666666,
              "#ed7953"
             ],
             [
              0.7777777777777778,
              "#fb9f3a"
             ],
             [
              0.8888888888888888,
              "#fdca26"
             ],
             [
              1,
              "#f0f921"
             ]
            ],
            "type": "contour"
           }
          ],
          "contourcarpet": [
           {
            "colorbar": {
             "outlinewidth": 0,
             "ticks": ""
            },
            "type": "contourcarpet"
           }
          ],
          "heatmap": [
           {
            "colorbar": {
             "outlinewidth": 0,
             "ticks": ""
            },
            "colorscale": [
             [
              0,
              "#0d0887"
             ],
             [
              0.1111111111111111,
              "#46039f"
             ],
             [
              0.2222222222222222,
              "#7201a8"
             ],
             [
              0.3333333333333333,
              "#9c179e"
             ],
             [
              0.4444444444444444,
              "#bd3786"
             ],
             [
              0.5555555555555556,
              "#d8576b"
             ],
             [
              0.6666666666666666,
              "#ed7953"
             ],
             [
              0.7777777777777778,
              "#fb9f3a"
             ],
             [
              0.8888888888888888,
              "#fdca26"
             ],
             [
              1,
              "#f0f921"
             ]
            ],
            "type": "heatmap"
           }
          ],
          "heatmapgl": [
           {
            "colorbar": {
             "outlinewidth": 0,
             "ticks": ""
            },
            "colorscale": [
             [
              0,
              "#0d0887"
             ],
             [
              0.1111111111111111,
              "#46039f"
             ],
             [
              0.2222222222222222,
              "#7201a8"
             ],
             [
              0.3333333333333333,
              "#9c179e"
             ],
             [
              0.4444444444444444,
              "#bd3786"
             ],
             [
              0.5555555555555556,
              "#d8576b"
             ],
             [
              0.6666666666666666,
              "#ed7953"
             ],
             [
              0.7777777777777778,
              "#fb9f3a"
             ],
             [
              0.8888888888888888,
              "#fdca26"
             ],
             [
              1,
              "#f0f921"
             ]
            ],
            "type": "heatmapgl"
           }
          ],
          "histogram": [
           {
            "marker": {
             "colorbar": {
              "outlinewidth": 0,
              "ticks": ""
             }
            },
            "type": "histogram"
           }
          ],
          "histogram2d": [
           {
            "colorbar": {
             "outlinewidth": 0,
             "ticks": ""
            },
            "colorscale": [
             [
              0,
              "#0d0887"
             ],
             [
              0.1111111111111111,
              "#46039f"
             ],
             [
              0.2222222222222222,
              "#7201a8"
             ],
             [
              0.3333333333333333,
              "#9c179e"
             ],
             [
              0.4444444444444444,
              "#bd3786"
             ],
             [
              0.5555555555555556,
              "#d8576b"
             ],
             [
              0.6666666666666666,
              "#ed7953"
             ],
             [
              0.7777777777777778,
              "#fb9f3a"
             ],
             [
              0.8888888888888888,
              "#fdca26"
             ],
             [
              1,
              "#f0f921"
             ]
            ],
            "type": "histogram2d"
           }
          ],
          "histogram2dcontour": [
           {
            "colorbar": {
             "outlinewidth": 0,
             "ticks": ""
            },
            "colorscale": [
             [
              0,
              "#0d0887"
             ],
             [
              0.1111111111111111,
              "#46039f"
             ],
             [
              0.2222222222222222,
              "#7201a8"
             ],
             [
              0.3333333333333333,
              "#9c179e"
             ],
             [
              0.4444444444444444,
              "#bd3786"
             ],
             [
              0.5555555555555556,
              "#d8576b"
             ],
             [
              0.6666666666666666,
              "#ed7953"
             ],
             [
              0.7777777777777778,
              "#fb9f3a"
             ],
             [
              0.8888888888888888,
              "#fdca26"
             ],
             [
              1,
              "#f0f921"
             ]
            ],
            "type": "histogram2dcontour"
           }
          ],
          "mesh3d": [
           {
            "colorbar": {
             "outlinewidth": 0,
             "ticks": ""
            },
            "type": "mesh3d"
           }
          ],
          "parcoords": [
           {
            "line": {
             "colorbar": {
              "outlinewidth": 0,
              "ticks": ""
             }
            },
            "type": "parcoords"
           }
          ],
          "pie": [
           {
            "automargin": true,
            "type": "pie"
           }
          ],
          "scatter": [
           {
            "marker": {
             "colorbar": {
              "outlinewidth": 0,
              "ticks": ""
             }
            },
            "type": "scatter"
           }
          ],
          "scatter3d": [
           {
            "line": {
             "colorbar": {
              "outlinewidth": 0,
              "ticks": ""
             }
            },
            "marker": {
             "colorbar": {
              "outlinewidth": 0,
              "ticks": ""
             }
            },
            "type": "scatter3d"
           }
          ],
          "scattercarpet": [
           {
            "marker": {
             "colorbar": {
              "outlinewidth": 0,
              "ticks": ""
             }
            },
            "type": "scattercarpet"
           }
          ],
          "scattergeo": [
           {
            "marker": {
             "colorbar": {
              "outlinewidth": 0,
              "ticks": ""
             }
            },
            "type": "scattergeo"
           }
          ],
          "scattergl": [
           {
            "marker": {
             "colorbar": {
              "outlinewidth": 0,
              "ticks": ""
             }
            },
            "type": "scattergl"
           }
          ],
          "scattermapbox": [
           {
            "marker": {
             "colorbar": {
              "outlinewidth": 0,
              "ticks": ""
             }
            },
            "type": "scattermapbox"
           }
          ],
          "scatterpolar": [
           {
            "marker": {
             "colorbar": {
              "outlinewidth": 0,
              "ticks": ""
             }
            },
            "type": "scatterpolar"
           }
          ],
          "scatterpolargl": [
           {
            "marker": {
             "colorbar": {
              "outlinewidth": 0,
              "ticks": ""
             }
            },
            "type": "scatterpolargl"
           }
          ],
          "scatterternary": [
           {
            "marker": {
             "colorbar": {
              "outlinewidth": 0,
              "ticks": ""
             }
            },
            "type": "scatterternary"
           }
          ],
          "surface": [
           {
            "colorbar": {
             "outlinewidth": 0,
             "ticks": ""
            },
            "colorscale": [
             [
              0,
              "#0d0887"
             ],
             [
              0.1111111111111111,
              "#46039f"
             ],
             [
              0.2222222222222222,
              "#7201a8"
             ],
             [
              0.3333333333333333,
              "#9c179e"
             ],
             [
              0.4444444444444444,
              "#bd3786"
             ],
             [
              0.5555555555555556,
              "#d8576b"
             ],
             [
              0.6666666666666666,
              "#ed7953"
             ],
             [
              0.7777777777777778,
              "#fb9f3a"
             ],
             [
              0.8888888888888888,
              "#fdca26"
             ],
             [
              1,
              "#f0f921"
             ]
            ],
            "type": "surface"
           }
          ],
          "table": [
           {
            "cells": {
             "fill": {
              "color": "#EBF0F8"
             },
             "line": {
              "color": "white"
             }
            },
            "header": {
             "fill": {
              "color": "#C8D4E3"
             },
             "line": {
              "color": "white"
             }
            },
            "type": "table"
           }
          ]
         },
         "layout": {
          "annotationdefaults": {
           "arrowcolor": "#2a3f5f",
           "arrowhead": 0,
           "arrowwidth": 1
          },
          "autotypenumbers": "strict",
          "coloraxis": {
           "colorbar": {
            "outlinewidth": 0,
            "ticks": ""
           }
          },
          "colorscale": {
           "diverging": [
            [
             0,
             "#8e0152"
            ],
            [
             0.1,
             "#c51b7d"
            ],
            [
             0.2,
             "#de77ae"
            ],
            [
             0.3,
             "#f1b6da"
            ],
            [
             0.4,
             "#fde0ef"
            ],
            [
             0.5,
             "#f7f7f7"
            ],
            [
             0.6,
             "#e6f5d0"
            ],
            [
             0.7,
             "#b8e186"
            ],
            [
             0.8,
             "#7fbc41"
            ],
            [
             0.9,
             "#4d9221"
            ],
            [
             1,
             "#276419"
            ]
           ],
           "sequential": [
            [
             0,
             "#0d0887"
            ],
            [
             0.1111111111111111,
             "#46039f"
            ],
            [
             0.2222222222222222,
             "#7201a8"
            ],
            [
             0.3333333333333333,
             "#9c179e"
            ],
            [
             0.4444444444444444,
             "#bd3786"
            ],
            [
             0.5555555555555556,
             "#d8576b"
            ],
            [
             0.6666666666666666,
             "#ed7953"
            ],
            [
             0.7777777777777778,
             "#fb9f3a"
            ],
            [
             0.8888888888888888,
             "#fdca26"
            ],
            [
             1,
             "#f0f921"
            ]
           ],
           "sequentialminus": [
            [
             0,
             "#0d0887"
            ],
            [
             0.1111111111111111,
             "#46039f"
            ],
            [
             0.2222222222222222,
             "#7201a8"
            ],
            [
             0.3333333333333333,
             "#9c179e"
            ],
            [
             0.4444444444444444,
             "#bd3786"
            ],
            [
             0.5555555555555556,
             "#d8576b"
            ],
            [
             0.6666666666666666,
             "#ed7953"
            ],
            [
             0.7777777777777778,
             "#fb9f3a"
            ],
            [
             0.8888888888888888,
             "#fdca26"
            ],
            [
             1,
             "#f0f921"
            ]
           ]
          },
          "colorway": [
           "#636efa",
           "#EF553B",
           "#00cc96",
           "#ab63fa",
           "#FFA15A",
           "#19d3f3",
           "#FF6692",
           "#B6E880",
           "#FF97FF",
           "#FECB52"
          ],
          "font": {
           "color": "#2a3f5f"
          },
          "geo": {
           "bgcolor": "white",
           "lakecolor": "white",
           "landcolor": "#E5ECF6",
           "showlakes": true,
           "showland": true,
           "subunitcolor": "white"
          },
          "hoverlabel": {
           "align": "left"
          },
          "hovermode": "closest",
          "mapbox": {
           "style": "light"
          },
          "paper_bgcolor": "white",
          "plot_bgcolor": "#E5ECF6",
          "polar": {
           "angularaxis": {
            "gridcolor": "white",
            "linecolor": "white",
            "ticks": ""
           },
           "bgcolor": "#E5ECF6",
           "radialaxis": {
            "gridcolor": "white",
            "linecolor": "white",
            "ticks": ""
           }
          },
          "scene": {
           "xaxis": {
            "backgroundcolor": "#E5ECF6",
            "gridcolor": "white",
            "gridwidth": 2,
            "linecolor": "white",
            "showbackground": true,
            "ticks": "",
            "zerolinecolor": "white"
           },
           "yaxis": {
            "backgroundcolor": "#E5ECF6",
            "gridcolor": "white",
            "gridwidth": 2,
            "linecolor": "white",
            "showbackground": true,
            "ticks": "",
            "zerolinecolor": "white"
           },
           "zaxis": {
            "backgroundcolor": "#E5ECF6",
            "gridcolor": "white",
            "gridwidth": 2,
            "linecolor": "white",
            "showbackground": true,
            "ticks": "",
            "zerolinecolor": "white"
           }
          },
          "shapedefaults": {
           "line": {
            "color": "#2a3f5f"
           }
          },
          "ternary": {
           "aaxis": {
            "gridcolor": "white",
            "linecolor": "white",
            "ticks": ""
           },
           "baxis": {
            "gridcolor": "white",
            "linecolor": "white",
            "ticks": ""
           },
           "bgcolor": "#E5ECF6",
           "caxis": {
            "gridcolor": "white",
            "linecolor": "white",
            "ticks": ""
           }
          },
          "title": {
           "x": 0.05
          },
          "xaxis": {
           "automargin": true,
           "gridcolor": "white",
           "linecolor": "white",
           "ticks": "",
           "title": {
            "standoff": 15
           },
           "zerolinecolor": "white",
           "zerolinewidth": 2
          },
          "yaxis": {
           "automargin": true,
           "gridcolor": "white",
           "linecolor": "white",
           "ticks": "",
           "title": {
            "standoff": 15
           },
           "zerolinecolor": "white",
           "zerolinewidth": 2
          }
         }
        },
        "title": {
         "font": {
          "size": 16
         },
         "text": "Query flow"
        },
        "xaxis": {
         "showgrid": false,
         "showticklabels": false,
         "zeroline": false
        },
        "yaxis": {
         "showgrid": false,
         "showticklabels": false,
         "zeroline": false
        }
       }
      },
      "text/html": [
       "<div>                            <div id=\"6f3e6c70-b60d-4493-bb6b-3914e86cbf76\" class=\"plotly-graph-div\" style=\"height:525px; width:100%;\"></div>            <script type=\"text/javascript\">                require([\"plotly\"], function(Plotly) {                    window.PLOTLYENV=window.PLOTLYENV || {};                                    if (document.getElementById(\"6f3e6c70-b60d-4493-bb6b-3914e86cbf76\")) {                    Plotly.newPlot(                        \"6f3e6c70-b60d-4493-bb6b-3914e86cbf76\",                        [{\"hoverinfo\": \"none\", \"line\": {\"color\": \"#888\", \"width\": 0.5}, \"mode\": \"lines\", \"type\": \"scatter\", \"x\": [-20, -15, null, -25, -20, null, -25, -20, null, -25, -20, null, -15, -10, null, -5, 0, null, -15, -10, null, -10, -5, null, -20, -15, null, -15, -10, null, -20, -15, null, -5, 0, null, -10, -5, null], \"y\": [-0.6152, -0.6152, null, -0.6152, -0.6152, null, 0.5, 0.5, null, -0.38480000000000003, -0.38480000000000003, null, -0.6152, -0.5, null, 0.5, 0, null, 0.5, 0.5, null, 0.5, 0.5, null, 0.5, 0.5, null, -0.38480000000000003, -0.5, null, -0.38480000000000003, -0.38480000000000003, null, -0.5, 0, null, -0.5, -0.5, null]}, {\"hovertemplate\": \"%{hovertext}\", \"hovertext\": [\"<b>`a123.aaa`</b> (`a123.aaa`) <br><b>raw_table</b>: <br><br><b>Successors</b>: 7vfqCYOS<br>\", \"<b>`b123.bbb`</b> (`b123.bbb`) <br><b>raw_table</b>: <br><br><b>Successors</b>: b_where<br>\", \"<b>`c123.ccc`</b> (`c123.ccc`) <br><b>raw_table</b>: <br><br><b>Successors</b>: c_where<br>\"], \"marker\": {\"line\": {\"width\": 2}, \"size\": 60, \"symbol\": \"square\"}, \"mode\": \"markers+text\", \"name\": \"raw_table\", \"text\": [\"`a123.aaa`\", \"`b123.bbb`\", \"`c123.ccc`\"], \"type\": \"scatter\", \"x\": [-25, -25, -25], \"y\": [-0.6152, 0.5, -0.38480000000000003]}, {\"hovertemplate\": \"%{hovertext}\", \"hovertext\": [\"<b>b</b> (b_having) <br><b>filter</b>: sum(bb)>2<br><br><b>Predecessors</b>: b_group<br><br><b>Successors</b>: b<br>\", \"<b>b</b> (b_where) <br><b>filter</b>: b1 > 2 and (b2 < 3 or b2 >5)<br><br><b>Predecessors</b>: `b123.bbb`<br><br><b>Successors</b>: b_group<br>\", \"<b>c</b> (c_where) <br><b>filter</b>: c1<c2<br><br><b>Predecessors</b>: `c123.ccc`<br><br><b>Successors</b>: c<br>\", \"<b>d</b> (d_where) <br><b>filter</b>: c1<aa_ind<br><br><b>Predecessors</b>: a,c<br>combine type: join<br>c(c):left join on a.a_id = c.c_id<br><br><b>Successors</b>: d<br>\"], \"marker\": {\"line\": {\"width\": 2}, \"size\": 30, \"symbol\": \"triangle-right\"}, \"mode\": \"markers+text\", \"name\": \"filter\", \"text\": [\"b\", \"b\", \"c\", \"d\"], \"type\": \"scatter\", \"x\": [-10, -20, -20, -10], \"y\": [0.5, 0.5, -0.38480000000000003, -0.5]}, {\"hovertemplate\": \"%{hovertext}\", \"hovertext\": [\"<b>b</b> (b_group) <br><b>aggregate</b>: by b_id,b1<br><br><b>Predecessors</b>: b_where<br><br><b>Successors</b>: b_having<br>\"], \"marker\": {\"line\": {\"width\": 2}, \"size\": 30, \"symbol\": \"triangle-right\"}, \"mode\": \"markers+text\", \"name\": \"aggregate\", \"text\": [\"b\"], \"type\": \"scatter\", \"x\": [-15], \"y\": [0.5]}, {\"hovertemplate\": \"%{hovertext}\", \"hovertext\": [\"<b>7vfqCYOS</b> (7vfqCYOS) <br><b>derived_table</b>: <br><b>columns:</b> \\n  *=q.*\\n<br><br><b>Predecessors</b>: `a123.aaa`<br><br><b>Successors</b>: a<br>\", \"<b>a</b> (a) <br><b>derived_table</b>: <br><b>columns:</b> \\n  a_id=a_id1,<br>\\n  aa_ind=case when aa = 'a1' and a2=3 then 1 else 0 end\\n<br><br><b>Predecessors</b>: 7vfqCYOS<br><br><b>Successors</b>: d_where<br>\", \"<b>b</b> (b) <br><b>derived_table</b>: <br><b>columns:</b> \\n  b_id=b_id,<br>\\n  b1=b1,<br>\\n  bb_sum=sum(bb)\\n<br><br><b>Predecessors</b>: b_having<br><br><b>Successors</b>: out<br>\", \"<b>c</b> (c) <br><b>derived_table</b>: <br><b>columns:</b> \\n  c_id=c_id,<br>\\n  c1=c1,<br>\\n  c2=c2\\n<br><br><b>Predecessors</b>: c_where<br><br><b>Successors</b>: d_where<br>\", \"<b>d</b> (d) <br><b>derived_table</b>: <br><b>columns:</b> \\n  a_id=a_id,<br>\\n  aa_ind=case when aa_ind>c2 then aa_ind else c2 end\\n<br><br><b>Predecessors</b>: d_where<br><br><b>Successors</b>: out<br>\", \"<b>out</b> (out) <br><b>derived_table</b>: <br><b>columns:</b> \\n  a_id=d.a_id,<br>\\n  a_ind=d.a_ind,<br>\\n  b_sum=b.b_sum\\n<br><br><b>Predecessors</b>: d,b<br>combine type: join<br>b(b):left join on d.a_id = b.b_id<br>\"], \"marker\": {\"line\": {\"width\": 2}, \"size\": 60, \"symbol\": \"circle\"}, \"mode\": \"markers+text\", \"name\": \"derived_table\", \"text\": [\"7vfqCYOS\", \"a\", \"b\", \"c\", \"d\", \"out\"], \"type\": \"scatter\", \"x\": [-20, -15, -5, -15, -5, 0], \"y\": [-0.6152, -0.6152, 0.5, -0.38480000000000003, -0.5, 0]}],                        {\"hovermode\": \"closest\", \"margin\": {\"b\": 20, \"l\": 5, \"r\": 5, \"t\": 40}, \"showlegend\": true, \"template\": {\"data\": {\"bar\": [{\"error_x\": {\"color\": \"#2a3f5f\"}, \"error_y\": {\"color\": \"#2a3f5f\"}, \"marker\": {\"line\": {\"color\": \"#E5ECF6\", \"width\": 0.5}}, \"type\": \"bar\"}], \"barpolar\": [{\"marker\": {\"line\": {\"color\": \"#E5ECF6\", \"width\": 0.5}}, \"type\": \"barpolar\"}], \"carpet\": [{\"aaxis\": {\"endlinecolor\": \"#2a3f5f\", \"gridcolor\": \"white\", \"linecolor\": \"white\", \"minorgridcolor\": \"white\", \"startlinecolor\": \"#2a3f5f\"}, \"baxis\": {\"endlinecolor\": \"#2a3f5f\", \"gridcolor\": \"white\", \"linecolor\": \"white\", \"minorgridcolor\": \"white\", \"startlinecolor\": \"#2a3f5f\"}, \"type\": \"carpet\"}], \"choropleth\": [{\"colorbar\": {\"outlinewidth\": 0, \"ticks\": \"\"}, \"type\": \"choropleth\"}], \"contour\": [{\"colorbar\": {\"outlinewidth\": 0, \"ticks\": \"\"}, \"colorscale\": [[0.0, \"#0d0887\"], [0.1111111111111111, \"#46039f\"], [0.2222222222222222, \"#7201a8\"], [0.3333333333333333, \"#9c179e\"], [0.4444444444444444, \"#bd3786\"], [0.5555555555555556, \"#d8576b\"], [0.6666666666666666, \"#ed7953\"], [0.7777777777777778, \"#fb9f3a\"], [0.8888888888888888, \"#fdca26\"], [1.0, \"#f0f921\"]], \"type\": \"contour\"}], \"contourcarpet\": [{\"colorbar\": {\"outlinewidth\": 0, \"ticks\": \"\"}, \"type\": \"contourcarpet\"}], \"heatmap\": [{\"colorbar\": {\"outlinewidth\": 0, \"ticks\": \"\"}, \"colorscale\": [[0.0, \"#0d0887\"], [0.1111111111111111, \"#46039f\"], [0.2222222222222222, \"#7201a8\"], [0.3333333333333333, \"#9c179e\"], [0.4444444444444444, \"#bd3786\"], [0.5555555555555556, \"#d8576b\"], [0.6666666666666666, \"#ed7953\"], [0.7777777777777778, \"#fb9f3a\"], [0.8888888888888888, \"#fdca26\"], [1.0, \"#f0f921\"]], \"type\": \"heatmap\"}], \"heatmapgl\": [{\"colorbar\": {\"outlinewidth\": 0, \"ticks\": \"\"}, \"colorscale\": [[0.0, \"#0d0887\"], [0.1111111111111111, \"#46039f\"], [0.2222222222222222, \"#7201a8\"], [0.3333333333333333, \"#9c179e\"], [0.4444444444444444, \"#bd3786\"], [0.5555555555555556, \"#d8576b\"], [0.6666666666666666, \"#ed7953\"], [0.7777777777777778, \"#fb9f3a\"], [0.8888888888888888, \"#fdca26\"], [1.0, \"#f0f921\"]], \"type\": \"heatmapgl\"}], \"histogram\": [{\"marker\": {\"colorbar\": {\"outlinewidth\": 0, \"ticks\": \"\"}}, \"type\": \"histogram\"}], \"histogram2d\": [{\"colorbar\": {\"outlinewidth\": 0, \"ticks\": \"\"}, \"colorscale\": [[0.0, \"#0d0887\"], [0.1111111111111111, \"#46039f\"], [0.2222222222222222, \"#7201a8\"], [0.3333333333333333, \"#9c179e\"], [0.4444444444444444, \"#bd3786\"], [0.5555555555555556, \"#d8576b\"], [0.6666666666666666, \"#ed7953\"], [0.7777777777777778, \"#fb9f3a\"], [0.8888888888888888, \"#fdca26\"], [1.0, \"#f0f921\"]], \"type\": \"histogram2d\"}], \"histogram2dcontour\": [{\"colorbar\": {\"outlinewidth\": 0, \"ticks\": \"\"}, \"colorscale\": [[0.0, \"#0d0887\"], [0.1111111111111111, \"#46039f\"], [0.2222222222222222, \"#7201a8\"], [0.3333333333333333, \"#9c179e\"], [0.4444444444444444, \"#bd3786\"], [0.5555555555555556, \"#d8576b\"], [0.6666666666666666, \"#ed7953\"], [0.7777777777777778, \"#fb9f3a\"], [0.8888888888888888, \"#fdca26\"], [1.0, \"#f0f921\"]], \"type\": \"histogram2dcontour\"}], \"mesh3d\": [{\"colorbar\": {\"outlinewidth\": 0, \"ticks\": \"\"}, \"type\": \"mesh3d\"}], \"parcoords\": [{\"line\": {\"colorbar\": {\"outlinewidth\": 0, \"ticks\": \"\"}}, \"type\": \"parcoords\"}], \"pie\": [{\"automargin\": true, \"type\": \"pie\"}], \"scatter\": [{\"marker\": {\"colorbar\": {\"outlinewidth\": 0, \"ticks\": \"\"}}, \"type\": \"scatter\"}], \"scatter3d\": [{\"line\": {\"colorbar\": {\"outlinewidth\": 0, \"ticks\": \"\"}}, \"marker\": {\"colorbar\": {\"outlinewidth\": 0, \"ticks\": \"\"}}, \"type\": \"scatter3d\"}], \"scattercarpet\": [{\"marker\": {\"colorbar\": {\"outlinewidth\": 0, \"ticks\": \"\"}}, \"type\": \"scattercarpet\"}], \"scattergeo\": [{\"marker\": {\"colorbar\": {\"outlinewidth\": 0, \"ticks\": \"\"}}, \"type\": \"scattergeo\"}], \"scattergl\": [{\"marker\": {\"colorbar\": {\"outlinewidth\": 0, \"ticks\": \"\"}}, \"type\": \"scattergl\"}], \"scattermapbox\": [{\"marker\": {\"colorbar\": {\"outlinewidth\": 0, \"ticks\": \"\"}}, \"type\": \"scattermapbox\"}], \"scatterpolar\": [{\"marker\": {\"colorbar\": {\"outlinewidth\": 0, \"ticks\": \"\"}}, \"type\": \"scatterpolar\"}], \"scatterpolargl\": [{\"marker\": {\"colorbar\": {\"outlinewidth\": 0, \"ticks\": \"\"}}, \"type\": \"scatterpolargl\"}], \"scatterternary\": [{\"marker\": {\"colorbar\": {\"outlinewidth\": 0, \"ticks\": \"\"}}, \"type\": \"scatterternary\"}], \"surface\": [{\"colorbar\": {\"outlinewidth\": 0, \"ticks\": \"\"}, \"colorscale\": [[0.0, \"#0d0887\"], [0.1111111111111111, \"#46039f\"], [0.2222222222222222, \"#7201a8\"], [0.3333333333333333, \"#9c179e\"], [0.4444444444444444, \"#bd3786\"], [0.5555555555555556, \"#d8576b\"], [0.6666666666666666, \"#ed7953\"], [0.7777777777777778, \"#fb9f3a\"], [0.8888888888888888, \"#fdca26\"], [1.0, \"#f0f921\"]], \"type\": \"surface\"}], \"table\": [{\"cells\": {\"fill\": {\"color\": \"#EBF0F8\"}, \"line\": {\"color\": \"white\"}}, \"header\": {\"fill\": {\"color\": \"#C8D4E3\"}, \"line\": {\"color\": \"white\"}}, \"type\": \"table\"}]}, \"layout\": {\"annotationdefaults\": {\"arrowcolor\": \"#2a3f5f\", \"arrowhead\": 0, \"arrowwidth\": 1}, \"autotypenumbers\": \"strict\", \"coloraxis\": {\"colorbar\": {\"outlinewidth\": 0, \"ticks\": \"\"}}, \"colorscale\": {\"diverging\": [[0, \"#8e0152\"], [0.1, \"#c51b7d\"], [0.2, \"#de77ae\"], [0.3, \"#f1b6da\"], [0.4, \"#fde0ef\"], [0.5, \"#f7f7f7\"], [0.6, \"#e6f5d0\"], [0.7, \"#b8e186\"], [0.8, \"#7fbc41\"], [0.9, \"#4d9221\"], [1, \"#276419\"]], \"sequential\": [[0.0, \"#0d0887\"], [0.1111111111111111, \"#46039f\"], [0.2222222222222222, \"#7201a8\"], [0.3333333333333333, \"#9c179e\"], [0.4444444444444444, \"#bd3786\"], [0.5555555555555556, \"#d8576b\"], [0.6666666666666666, \"#ed7953\"], [0.7777777777777778, \"#fb9f3a\"], [0.8888888888888888, \"#fdca26\"], [1.0, \"#f0f921\"]], \"sequentialminus\": [[0.0, \"#0d0887\"], [0.1111111111111111, \"#46039f\"], [0.2222222222222222, \"#7201a8\"], [0.3333333333333333, \"#9c179e\"], [0.4444444444444444, \"#bd3786\"], [0.5555555555555556, \"#d8576b\"], [0.6666666666666666, \"#ed7953\"], [0.7777777777777778, \"#fb9f3a\"], [0.8888888888888888, \"#fdca26\"], [1.0, \"#f0f921\"]]}, \"colorway\": [\"#636efa\", \"#EF553B\", \"#00cc96\", \"#ab63fa\", \"#FFA15A\", \"#19d3f3\", \"#FF6692\", \"#B6E880\", \"#FF97FF\", \"#FECB52\"], \"font\": {\"color\": \"#2a3f5f\"}, \"geo\": {\"bgcolor\": \"white\", \"lakecolor\": \"white\", \"landcolor\": \"#E5ECF6\", \"showlakes\": true, \"showland\": true, \"subunitcolor\": \"white\"}, \"hoverlabel\": {\"align\": \"left\"}, \"hovermode\": \"closest\", \"mapbox\": {\"style\": \"light\"}, \"paper_bgcolor\": \"white\", \"plot_bgcolor\": \"#E5ECF6\", \"polar\": {\"angularaxis\": {\"gridcolor\": \"white\", \"linecolor\": \"white\", \"ticks\": \"\"}, \"bgcolor\": \"#E5ECF6\", \"radialaxis\": {\"gridcolor\": \"white\", \"linecolor\": \"white\", \"ticks\": \"\"}}, \"scene\": {\"xaxis\": {\"backgroundcolor\": \"#E5ECF6\", \"gridcolor\": \"white\", \"gridwidth\": 2, \"linecolor\": \"white\", \"showbackground\": true, \"ticks\": \"\", \"zerolinecolor\": \"white\"}, \"yaxis\": {\"backgroundcolor\": \"#E5ECF6\", \"gridcolor\": \"white\", \"gridwidth\": 2, \"linecolor\": \"white\", \"showbackground\": true, \"ticks\": \"\", \"zerolinecolor\": \"white\"}, \"zaxis\": {\"backgroundcolor\": \"#E5ECF6\", \"gridcolor\": \"white\", \"gridwidth\": 2, \"linecolor\": \"white\", \"showbackground\": true, \"ticks\": \"\", \"zerolinecolor\": \"white\"}}, \"shapedefaults\": {\"line\": {\"color\": \"#2a3f5f\"}}, \"ternary\": {\"aaxis\": {\"gridcolor\": \"white\", \"linecolor\": \"white\", \"ticks\": \"\"}, \"baxis\": {\"gridcolor\": \"white\", \"linecolor\": \"white\", \"ticks\": \"\"}, \"bgcolor\": \"#E5ECF6\", \"caxis\": {\"gridcolor\": \"white\", \"linecolor\": \"white\", \"ticks\": \"\"}}, \"title\": {\"x\": 0.05}, \"xaxis\": {\"automargin\": true, \"gridcolor\": \"white\", \"linecolor\": \"white\", \"ticks\": \"\", \"title\": {\"standoff\": 15}, \"zerolinecolor\": \"white\", \"zerolinewidth\": 2}, \"yaxis\": {\"automargin\": true, \"gridcolor\": \"white\", \"linecolor\": \"white\", \"ticks\": \"\", \"title\": {\"standoff\": 15}, \"zerolinecolor\": \"white\", \"zerolinewidth\": 2}}}, \"title\": {\"font\": {\"size\": 16}, \"text\": \"Query flow\"}, \"xaxis\": {\"showgrid\": false, \"showticklabels\": false, \"zeroline\": false}, \"yaxis\": {\"showgrid\": false, \"showticklabels\": false, \"zeroline\": false}},                        {\"responsive\": true}                    ).then(function(){\n",
       "                            \n",
       "var gd = document.getElementById('6f3e6c70-b60d-4493-bb6b-3914e86cbf76');\n",
       "var x = new MutationObserver(function (mutations, observer) {{\n",
       "        var display = window.getComputedStyle(gd).display;\n",
       "        if (!display || display === 'none') {{\n",
       "            console.log([gd, 'removed!']);\n",
       "            Plotly.purge(gd);\n",
       "            observer.disconnect();\n",
       "        }}\n",
       "}});\n",
       "\n",
       "// Listen for the removal of the full notebook cells\n",
       "var notebookContainer = gd.closest('#notebook-container');\n",
       "if (notebookContainer) {{\n",
       "    x.observe(notebookContainer, {childList: true});\n",
       "}}\n",
       "\n",
       "// Listen for the clearing of the current output cell\n",
       "var outputEl = gd.closest('.output');\n",
       "if (outputEl) {{\n",
       "    x.observe(outputEl, {childList: true});\n",
       "}}\n",
       "\n",
       "                        })                };                });            </script>        </div>"
      ]
     },
     "metadata": {},
     "output_type": "display_data"
    }
   ],
   "source": [
    "test_query_obj_2 = SelectQuery(subq_test_q_2)\n",
    "test_query_obj_2.parse_select_query()\n",
    "test_query_obj_2.plot_query()"
   ]
  },
  {
   "cell_type": "code",
   "execution_count": 696,
   "metadata": {},
   "outputs": [
    {
     "data": {
      "text/plain": [
       "{'a': 'a',\n",
       " 'b': 'b_where',\n",
       " 'c': 'c_where',\n",
       " 'd': 'd_where',\n",
       " 'out': 'out',\n",
       " '7vfqCYOS': '7vfqCYOS'}"
      ]
     },
     "execution_count": 696,
     "metadata": {},
     "output_type": "execute_result"
    }
   ],
   "source": [
    "test_query_obj_2.min_state"
   ]
  },
  {
   "cell_type": "code",
   "execution_count": 697,
   "metadata": {},
   "outputs": [
    {
     "data": {
      "text/plain": [
       "{'a': {'select': {'a_id': 'a_id1',\n",
       "   'aa_ind': \"case when aa = 'a1' and a2=3 then 1 else 0 end\"},\n",
       "  'from': {'input_tables': {'abc': '7vfqCYOS'}},\n",
       "  'where': '',\n",
       "  'group': [],\n",
       "  'having': ''},\n",
       " 'b': {'select': {'b_id': 'b_id', 'b1': 'b1', 'bb_sum': 'sum(bb)'},\n",
       "  'from': {'input_tables': {'`b123.bbb`': '`b123.bbb`'}},\n",
       "  'where': 'b1 > 2 and (b2 < 3 or b2 >5)',\n",
       "  'group': ['b_id', 'b1'],\n",
       "  'having': 'sum(bb)>2'},\n",
       " 'c': {'select': {'c_id': 'c_id', 'c1': 'c1', 'c2': 'c2'},\n",
       "  'from': {'input_tables': {'`c123.ccc`': '`c123.ccc`'}},\n",
       "  'where': 'c1<c2',\n",
       "  'group': [],\n",
       "  'having': ''},\n",
       " 'd': {'select': {'a_id': 'a_id',\n",
       "   'aa_ind': 'case when aa_ind>c2 then aa_ind else c2 end'},\n",
       "  'from': {'input_tables': {'a': 'a', 'c': 'c'},\n",
       "   'joins': {'c': {'type': 'left', 'on': 'a.a_id = c.c_id'}},\n",
       "   'combine_type': 'join'},\n",
       "  'where': 'c1<aa_ind',\n",
       "  'group': [],\n",
       "  'having': ''},\n",
       " 'out': {'select': {'a_id': 'd.a_id', 'a_ind': 'd.a_ind', 'b_sum': 'b.b_sum'},\n",
       "  'from': {'input_tables': {'d': 'd', 'b': 'b'},\n",
       "   'joins': {'b': {'type': 'left', 'on': 'd.a_id = b.b_id'}},\n",
       "   'combine_type': 'join'},\n",
       "  'where': '',\n",
       "  'group': [],\n",
       "  'having': ''},\n",
       " '7vfqCYOS': {'select': {'*': 'q.*'},\n",
       "  'from': {'input_tables': {'q': '`a123.aaa`'}},\n",
       "  'where': '',\n",
       "  'group': [],\n",
       "  'having': ''}}"
      ]
     },
     "execution_count": 697,
     "metadata": {},
     "output_type": "execute_result"
    }
   ],
   "source": [
    "test_query_obj_2.all_queries"
   ]
  },
  {
   "cell_type": "code",
   "execution_count": 698,
   "metadata": {},
   "outputs": [],
   "source": [
    "test_query_obj_2.fig.write_html('data/test_query_obj_2.html')"
   ]
  },
  {
   "cell_type": "code",
   "execution_count": 699,
   "metadata": {},
   "outputs": [],
   "source": [
    "subq_test_q_3 = '''--asd\n",
    "        with a as (\n",
    "            select a_id1 as a_id, --abc\n",
    "            case when aa = \\'a1\\' and a2=3 then 1 else 0 end aa_ind --def\n",
    "            from (select q.* from `a123.aaa` q) abc\n",
    "        ), b as (\n",
    "            select b_id,b1, \n",
    "            sum(bb) bb_sum \n",
    "            from `b123.bbb`\n",
    "            where b1 > 2 and (b2 < 3 or b2 >5)\n",
    "            group by 1,2\n",
    "            having sum(bb)>2\n",
    "        ), c as (\n",
    "            select c_id,\n",
    "            c1,\n",
    "            c2\n",
    "            from `c123.ccc`\n",
    "            where c1<c2\n",
    "        ), d as (\n",
    "            select a_id,\n",
    "            case when aa_ind>c2 then aa_ind else c2 end as aa_ind\n",
    "            from a left join c\n",
    "            on a.a_id = c.c_id\n",
    "            left join b\n",
    "            on a.a_id = b.b_id\n",
    "        )\n",
    "        select d.a_id,d.a_ind,b.b_sum \n",
    "        from d left join b \n",
    "        on d.a_id = b.b_id'''\n"
   ]
  },
  {
   "cell_type": "code",
   "execution_count": 700,
   "metadata": {},
   "outputs": [
    {
     "name": "stdout",
     "output_type": "stream",
     "text": [
      "a\n",
      "b\n",
      "c\n",
      "d\n",
      "out\n",
      "ahGbJPTQ\n"
     ]
    },
    {
     "data": {
      "application/vnd.plotly.v1+json": {
       "config": {
        "plotlyServerURL": "https://plot.ly"
       },
       "data": [
        {
         "hoverinfo": "none",
         "line": {
          "color": "#888",
          "width": 0.5
         },
         "mode": "lines",
         "type": "scatter",
         "x": [
          -20,
          -15,
          null,
          -25,
          -20,
          null,
          -20,
          -15,
          null,
          -10,
          -5,
          null,
          -15,
          -10,
          null,
          -5,
          -5,
          null,
          -5,
          0,
          null,
          -15,
          -10,
          null,
          -10,
          -5,
          null,
          -20,
          -15,
          null,
          -10,
          -5,
          null,
          -15,
          -10,
          null,
          -5,
          0,
          null
         ],
         "y": [
          -0.74,
          -0.74,
          null,
          0.5,
          0.5,
          null,
          -0.5,
          -0.5,
          null,
          -0.74,
          -0.5,
          null,
          -0.74,
          -0.74,
          null,
          0.5,
          -0.5,
          null,
          0.5,
          0,
          null,
          0.5,
          0.5,
          null,
          0.5,
          0.5,
          null,
          0.5,
          0.5,
          null,
          -0.5,
          -0.5,
          null,
          -0.5,
          -0.5,
          null,
          -0.5,
          0,
          null
         ]
        },
        {
         "hovertemplate": "%{hovertext}",
         "hovertext": [
          "<b>`a123.aaa`</b> (`a123.aaa`) <br><b>raw_table</b>: <br><br><b>Successors</b>: ahGbJPTQ<br>",
          "<b>`b123.bbb`</b> (`b123.bbb`) <br><b>raw_table</b>: <br><br><b>Successors</b>: b_where<br>",
          "<b>`c123.ccc`</b> (`c123.ccc`) <br><b>raw_table</b>: <br><br><b>Successors</b>: c_where<br>"
         ],
         "marker": {
          "line": {
           "width": 2
          },
          "size": 60,
          "symbol": "square"
         },
         "mode": "markers+text",
         "name": "raw_table",
         "text": [
          "`a123.aaa`",
          "`b123.bbb`",
          "`c123.ccc`"
         ],
         "type": "scatter",
         "x": [
          -20,
          -25,
          -20
         ],
         "y": [
          -0.74,
          0.5,
          -0.5
         ]
        },
        {
         "hovertemplate": "%{hovertext}",
         "hovertext": [
          "<b>b</b> (b_having) <br><b>filter</b>: sum(bb)>2<br><br><b>Predecessors</b>: b_group<br><br><b>Successors</b>: b<br>",
          "<b>b</b> (b_where) <br><b>filter</b>: b1 > 2 and (b2 < 3 or b2 >5)<br><br><b>Predecessors</b>: `b123.bbb`<br><br><b>Successors</b>: b_group<br>",
          "<b>c</b> (c_where) <br><b>filter</b>: c1<c2<br><br><b>Predecessors</b>: `c123.ccc`<br><br><b>Successors</b>: c<br>"
         ],
         "marker": {
          "line": {
           "width": 2
          },
          "size": 30,
          "symbol": "triangle-right"
         },
         "mode": "markers+text",
         "name": "filter",
         "text": [
          "b",
          "b",
          "c"
         ],
         "type": "scatter",
         "x": [
          -10,
          -20,
          -15
         ],
         "y": [
          0.5,
          0.5,
          -0.5
         ]
        },
        {
         "hovertemplate": "%{hovertext}",
         "hovertext": [
          "<b>b</b> (b_group) <br><b>aggregate</b>: by b_id,b1<br><br><b>Predecessors</b>: b_where<br><br><b>Successors</b>: b_having<br>"
         ],
         "marker": {
          "line": {
           "width": 2
          },
          "size": 30,
          "symbol": "triangle-right"
         },
         "mode": "markers+text",
         "name": "aggregate",
         "text": [
          "b"
         ],
         "type": "scatter",
         "x": [
          -15
         ],
         "y": [
          0.5
         ]
        },
        {
         "hovertemplate": "%{hovertext}",
         "hovertext": [
          "<b>a</b> (a) <br><b>derived_table</b>: <br><b>columns:</b> \n  a_id=a_id1,<br>\n  aa_ind=case when aa = 'a1' and a2=3 then 1 else 0 end\n<br><br><b>Predecessors</b>: ahGbJPTQ<br><br><b>Successors</b>: d<br>",
          "<b>ahGbJPTQ</b> (ahGbJPTQ) <br><b>derived_table</b>: <br><b>columns:</b> \n  *=q.*\n<br><br><b>Predecessors</b>: `a123.aaa`<br><br><b>Successors</b>: a<br>",
          "<b>b</b> (b) <br><b>derived_table</b>: <br><b>columns:</b> \n  b_id=b_id,<br>\n  b1=b1,<br>\n  bb_sum=sum(bb)\n<br><br><b>Predecessors</b>: b_having<br><br><b>Successors</b>: d,out<br>",
          "<b>c</b> (c) <br><b>derived_table</b>: <br><b>columns:</b> \n  c_id=c_id,<br>\n  c1=c1,<br>\n  c2=c2\n<br><br><b>Predecessors</b>: c_where<br><br><b>Successors</b>: d<br>",
          "<b>d</b> (d) <br><b>derived_table</b>: <br><b>columns:</b> \n  a_id=a_id,<br>\n  aa_ind=case when aa_ind>c2 then aa_ind else c2 end\n<br><br><b>Predecessors</b>: a,c,b<br>combine type: join<br>c(c):left join on a.a_id = c.c_id<br><br>b(b):left join on a.a_id = b.b_id<br><br><b>Successors</b>: out<br>",
          "<b>out</b> (out) <br><b>derived_table</b>: <br><b>columns:</b> \n  a_id=d.a_id,<br>\n  a_ind=d.a_ind,<br>\n  b_sum=b.b_sum\n<br><br><b>Predecessors</b>: d,b<br>combine type: join<br>b(b):left join on d.a_id = b.b_id<br>"
         ],
         "marker": {
          "line": {
           "width": 2
          },
          "size": 60,
          "symbol": "circle"
         },
         "mode": "markers+text",
         "name": "derived_table",
         "text": [
          "a",
          "ahGbJPTQ",
          "b",
          "c",
          "d",
          "out"
         ],
         "type": "scatter",
         "x": [
          -10,
          -15,
          -5,
          -10,
          -5,
          0
         ],
         "y": [
          -0.74,
          -0.74,
          0.5,
          -0.5,
          -0.5,
          0
         ]
        }
       ],
       "layout": {
        "hovermode": "closest",
        "margin": {
         "b": 20,
         "l": 5,
         "r": 5,
         "t": 40
        },
        "showlegend": true,
        "template": {
         "data": {
          "bar": [
           {
            "error_x": {
             "color": "#2a3f5f"
            },
            "error_y": {
             "color": "#2a3f5f"
            },
            "marker": {
             "line": {
              "color": "#E5ECF6",
              "width": 0.5
             }
            },
            "type": "bar"
           }
          ],
          "barpolar": [
           {
            "marker": {
             "line": {
              "color": "#E5ECF6",
              "width": 0.5
             }
            },
            "type": "barpolar"
           }
          ],
          "carpet": [
           {
            "aaxis": {
             "endlinecolor": "#2a3f5f",
             "gridcolor": "white",
             "linecolor": "white",
             "minorgridcolor": "white",
             "startlinecolor": "#2a3f5f"
            },
            "baxis": {
             "endlinecolor": "#2a3f5f",
             "gridcolor": "white",
             "linecolor": "white",
             "minorgridcolor": "white",
             "startlinecolor": "#2a3f5f"
            },
            "type": "carpet"
           }
          ],
          "choropleth": [
           {
            "colorbar": {
             "outlinewidth": 0,
             "ticks": ""
            },
            "type": "choropleth"
           }
          ],
          "contour": [
           {
            "colorbar": {
             "outlinewidth": 0,
             "ticks": ""
            },
            "colorscale": [
             [
              0,
              "#0d0887"
             ],
             [
              0.1111111111111111,
              "#46039f"
             ],
             [
              0.2222222222222222,
              "#7201a8"
             ],
             [
              0.3333333333333333,
              "#9c179e"
             ],
             [
              0.4444444444444444,
              "#bd3786"
             ],
             [
              0.5555555555555556,
              "#d8576b"
             ],
             [
              0.6666666666666666,
              "#ed7953"
             ],
             [
              0.7777777777777778,
              "#fb9f3a"
             ],
             [
              0.8888888888888888,
              "#fdca26"
             ],
             [
              1,
              "#f0f921"
             ]
            ],
            "type": "contour"
           }
          ],
          "contourcarpet": [
           {
            "colorbar": {
             "outlinewidth": 0,
             "ticks": ""
            },
            "type": "contourcarpet"
           }
          ],
          "heatmap": [
           {
            "colorbar": {
             "outlinewidth": 0,
             "ticks": ""
            },
            "colorscale": [
             [
              0,
              "#0d0887"
             ],
             [
              0.1111111111111111,
              "#46039f"
             ],
             [
              0.2222222222222222,
              "#7201a8"
             ],
             [
              0.3333333333333333,
              "#9c179e"
             ],
             [
              0.4444444444444444,
              "#bd3786"
             ],
             [
              0.5555555555555556,
              "#d8576b"
             ],
             [
              0.6666666666666666,
              "#ed7953"
             ],
             [
              0.7777777777777778,
              "#fb9f3a"
             ],
             [
              0.8888888888888888,
              "#fdca26"
             ],
             [
              1,
              "#f0f921"
             ]
            ],
            "type": "heatmap"
           }
          ],
          "heatmapgl": [
           {
            "colorbar": {
             "outlinewidth": 0,
             "ticks": ""
            },
            "colorscale": [
             [
              0,
              "#0d0887"
             ],
             [
              0.1111111111111111,
              "#46039f"
             ],
             [
              0.2222222222222222,
              "#7201a8"
             ],
             [
              0.3333333333333333,
              "#9c179e"
             ],
             [
              0.4444444444444444,
              "#bd3786"
             ],
             [
              0.5555555555555556,
              "#d8576b"
             ],
             [
              0.6666666666666666,
              "#ed7953"
             ],
             [
              0.7777777777777778,
              "#fb9f3a"
             ],
             [
              0.8888888888888888,
              "#fdca26"
             ],
             [
              1,
              "#f0f921"
             ]
            ],
            "type": "heatmapgl"
           }
          ],
          "histogram": [
           {
            "marker": {
             "colorbar": {
              "outlinewidth": 0,
              "ticks": ""
             }
            },
            "type": "histogram"
           }
          ],
          "histogram2d": [
           {
            "colorbar": {
             "outlinewidth": 0,
             "ticks": ""
            },
            "colorscale": [
             [
              0,
              "#0d0887"
             ],
             [
              0.1111111111111111,
              "#46039f"
             ],
             [
              0.2222222222222222,
              "#7201a8"
             ],
             [
              0.3333333333333333,
              "#9c179e"
             ],
             [
              0.4444444444444444,
              "#bd3786"
             ],
             [
              0.5555555555555556,
              "#d8576b"
             ],
             [
              0.6666666666666666,
              "#ed7953"
             ],
             [
              0.7777777777777778,
              "#fb9f3a"
             ],
             [
              0.8888888888888888,
              "#fdca26"
             ],
             [
              1,
              "#f0f921"
             ]
            ],
            "type": "histogram2d"
           }
          ],
          "histogram2dcontour": [
           {
            "colorbar": {
             "outlinewidth": 0,
             "ticks": ""
            },
            "colorscale": [
             [
              0,
              "#0d0887"
             ],
             [
              0.1111111111111111,
              "#46039f"
             ],
             [
              0.2222222222222222,
              "#7201a8"
             ],
             [
              0.3333333333333333,
              "#9c179e"
             ],
             [
              0.4444444444444444,
              "#bd3786"
             ],
             [
              0.5555555555555556,
              "#d8576b"
             ],
             [
              0.6666666666666666,
              "#ed7953"
             ],
             [
              0.7777777777777778,
              "#fb9f3a"
             ],
             [
              0.8888888888888888,
              "#fdca26"
             ],
             [
              1,
              "#f0f921"
             ]
            ],
            "type": "histogram2dcontour"
           }
          ],
          "mesh3d": [
           {
            "colorbar": {
             "outlinewidth": 0,
             "ticks": ""
            },
            "type": "mesh3d"
           }
          ],
          "parcoords": [
           {
            "line": {
             "colorbar": {
              "outlinewidth": 0,
              "ticks": ""
             }
            },
            "type": "parcoords"
           }
          ],
          "pie": [
           {
            "automargin": true,
            "type": "pie"
           }
          ],
          "scatter": [
           {
            "marker": {
             "colorbar": {
              "outlinewidth": 0,
              "ticks": ""
             }
            },
            "type": "scatter"
           }
          ],
          "scatter3d": [
           {
            "line": {
             "colorbar": {
              "outlinewidth": 0,
              "ticks": ""
             }
            },
            "marker": {
             "colorbar": {
              "outlinewidth": 0,
              "ticks": ""
             }
            },
            "type": "scatter3d"
           }
          ],
          "scattercarpet": [
           {
            "marker": {
             "colorbar": {
              "outlinewidth": 0,
              "ticks": ""
             }
            },
            "type": "scattercarpet"
           }
          ],
          "scattergeo": [
           {
            "marker": {
             "colorbar": {
              "outlinewidth": 0,
              "ticks": ""
             }
            },
            "type": "scattergeo"
           }
          ],
          "scattergl": [
           {
            "marker": {
             "colorbar": {
              "outlinewidth": 0,
              "ticks": ""
             }
            },
            "type": "scattergl"
           }
          ],
          "scattermapbox": [
           {
            "marker": {
             "colorbar": {
              "outlinewidth": 0,
              "ticks": ""
             }
            },
            "type": "scattermapbox"
           }
          ],
          "scatterpolar": [
           {
            "marker": {
             "colorbar": {
              "outlinewidth": 0,
              "ticks": ""
             }
            },
            "type": "scatterpolar"
           }
          ],
          "scatterpolargl": [
           {
            "marker": {
             "colorbar": {
              "outlinewidth": 0,
              "ticks": ""
             }
            },
            "type": "scatterpolargl"
           }
          ],
          "scatterternary": [
           {
            "marker": {
             "colorbar": {
              "outlinewidth": 0,
              "ticks": ""
             }
            },
            "type": "scatterternary"
           }
          ],
          "surface": [
           {
            "colorbar": {
             "outlinewidth": 0,
             "ticks": ""
            },
            "colorscale": [
             [
              0,
              "#0d0887"
             ],
             [
              0.1111111111111111,
              "#46039f"
             ],
             [
              0.2222222222222222,
              "#7201a8"
             ],
             [
              0.3333333333333333,
              "#9c179e"
             ],
             [
              0.4444444444444444,
              "#bd3786"
             ],
             [
              0.5555555555555556,
              "#d8576b"
             ],
             [
              0.6666666666666666,
              "#ed7953"
             ],
             [
              0.7777777777777778,
              "#fb9f3a"
             ],
             [
              0.8888888888888888,
              "#fdca26"
             ],
             [
              1,
              "#f0f921"
             ]
            ],
            "type": "surface"
           }
          ],
          "table": [
           {
            "cells": {
             "fill": {
              "color": "#EBF0F8"
             },
             "line": {
              "color": "white"
             }
            },
            "header": {
             "fill": {
              "color": "#C8D4E3"
             },
             "line": {
              "color": "white"
             }
            },
            "type": "table"
           }
          ]
         },
         "layout": {
          "annotationdefaults": {
           "arrowcolor": "#2a3f5f",
           "arrowhead": 0,
           "arrowwidth": 1
          },
          "autotypenumbers": "strict",
          "coloraxis": {
           "colorbar": {
            "outlinewidth": 0,
            "ticks": ""
           }
          },
          "colorscale": {
           "diverging": [
            [
             0,
             "#8e0152"
            ],
            [
             0.1,
             "#c51b7d"
            ],
            [
             0.2,
             "#de77ae"
            ],
            [
             0.3,
             "#f1b6da"
            ],
            [
             0.4,
             "#fde0ef"
            ],
            [
             0.5,
             "#f7f7f7"
            ],
            [
             0.6,
             "#e6f5d0"
            ],
            [
             0.7,
             "#b8e186"
            ],
            [
             0.8,
             "#7fbc41"
            ],
            [
             0.9,
             "#4d9221"
            ],
            [
             1,
             "#276419"
            ]
           ],
           "sequential": [
            [
             0,
             "#0d0887"
            ],
            [
             0.1111111111111111,
             "#46039f"
            ],
            [
             0.2222222222222222,
             "#7201a8"
            ],
            [
             0.3333333333333333,
             "#9c179e"
            ],
            [
             0.4444444444444444,
             "#bd3786"
            ],
            [
             0.5555555555555556,
             "#d8576b"
            ],
            [
             0.6666666666666666,
             "#ed7953"
            ],
            [
             0.7777777777777778,
             "#fb9f3a"
            ],
            [
             0.8888888888888888,
             "#fdca26"
            ],
            [
             1,
             "#f0f921"
            ]
           ],
           "sequentialminus": [
            [
             0,
             "#0d0887"
            ],
            [
             0.1111111111111111,
             "#46039f"
            ],
            [
             0.2222222222222222,
             "#7201a8"
            ],
            [
             0.3333333333333333,
             "#9c179e"
            ],
            [
             0.4444444444444444,
             "#bd3786"
            ],
            [
             0.5555555555555556,
             "#d8576b"
            ],
            [
             0.6666666666666666,
             "#ed7953"
            ],
            [
             0.7777777777777778,
             "#fb9f3a"
            ],
            [
             0.8888888888888888,
             "#fdca26"
            ],
            [
             1,
             "#f0f921"
            ]
           ]
          },
          "colorway": [
           "#636efa",
           "#EF553B",
           "#00cc96",
           "#ab63fa",
           "#FFA15A",
           "#19d3f3",
           "#FF6692",
           "#B6E880",
           "#FF97FF",
           "#FECB52"
          ],
          "font": {
           "color": "#2a3f5f"
          },
          "geo": {
           "bgcolor": "white",
           "lakecolor": "white",
           "landcolor": "#E5ECF6",
           "showlakes": true,
           "showland": true,
           "subunitcolor": "white"
          },
          "hoverlabel": {
           "align": "left"
          },
          "hovermode": "closest",
          "mapbox": {
           "style": "light"
          },
          "paper_bgcolor": "white",
          "plot_bgcolor": "#E5ECF6",
          "polar": {
           "angularaxis": {
            "gridcolor": "white",
            "linecolor": "white",
            "ticks": ""
           },
           "bgcolor": "#E5ECF6",
           "radialaxis": {
            "gridcolor": "white",
            "linecolor": "white",
            "ticks": ""
           }
          },
          "scene": {
           "xaxis": {
            "backgroundcolor": "#E5ECF6",
            "gridcolor": "white",
            "gridwidth": 2,
            "linecolor": "white",
            "showbackground": true,
            "ticks": "",
            "zerolinecolor": "white"
           },
           "yaxis": {
            "backgroundcolor": "#E5ECF6",
            "gridcolor": "white",
            "gridwidth": 2,
            "linecolor": "white",
            "showbackground": true,
            "ticks": "",
            "zerolinecolor": "white"
           },
           "zaxis": {
            "backgroundcolor": "#E5ECF6",
            "gridcolor": "white",
            "gridwidth": 2,
            "linecolor": "white",
            "showbackground": true,
            "ticks": "",
            "zerolinecolor": "white"
           }
          },
          "shapedefaults": {
           "line": {
            "color": "#2a3f5f"
           }
          },
          "ternary": {
           "aaxis": {
            "gridcolor": "white",
            "linecolor": "white",
            "ticks": ""
           },
           "baxis": {
            "gridcolor": "white",
            "linecolor": "white",
            "ticks": ""
           },
           "bgcolor": "#E5ECF6",
           "caxis": {
            "gridcolor": "white",
            "linecolor": "white",
            "ticks": ""
           }
          },
          "title": {
           "x": 0.05
          },
          "xaxis": {
           "automargin": true,
           "gridcolor": "white",
           "linecolor": "white",
           "ticks": "",
           "title": {
            "standoff": 15
           },
           "zerolinecolor": "white",
           "zerolinewidth": 2
          },
          "yaxis": {
           "automargin": true,
           "gridcolor": "white",
           "linecolor": "white",
           "ticks": "",
           "title": {
            "standoff": 15
           },
           "zerolinecolor": "white",
           "zerolinewidth": 2
          }
         }
        },
        "title": {
         "font": {
          "size": 16
         },
         "text": "Query flow"
        },
        "xaxis": {
         "showgrid": false,
         "showticklabels": false,
         "zeroline": false
        },
        "yaxis": {
         "showgrid": false,
         "showticklabels": false,
         "zeroline": false
        }
       }
      },
      "text/html": [
       "<div>                            <div id=\"3aaf1ab2-dbd9-4cec-ba60-37053990e7bb\" class=\"plotly-graph-div\" style=\"height:525px; width:100%;\"></div>            <script type=\"text/javascript\">                require([\"plotly\"], function(Plotly) {                    window.PLOTLYENV=window.PLOTLYENV || {};                                    if (document.getElementById(\"3aaf1ab2-dbd9-4cec-ba60-37053990e7bb\")) {                    Plotly.newPlot(                        \"3aaf1ab2-dbd9-4cec-ba60-37053990e7bb\",                        [{\"hoverinfo\": \"none\", \"line\": {\"color\": \"#888\", \"width\": 0.5}, \"mode\": \"lines\", \"type\": \"scatter\", \"x\": [-20, -15, null, -25, -20, null, -20, -15, null, -10, -5, null, -15, -10, null, -5, -5, null, -5, 0, null, -15, -10, null, -10, -5, null, -20, -15, null, -10, -5, null, -15, -10, null, -5, 0, null], \"y\": [-0.74, -0.74, null, 0.5, 0.5, null, -0.5, -0.5, null, -0.74, -0.5, null, -0.74, -0.74, null, 0.5, -0.5, null, 0.5, 0, null, 0.5, 0.5, null, 0.5, 0.5, null, 0.5, 0.5, null, -0.5, -0.5, null, -0.5, -0.5, null, -0.5, 0, null]}, {\"hovertemplate\": \"%{hovertext}\", \"hovertext\": [\"<b>`a123.aaa`</b> (`a123.aaa`) <br><b>raw_table</b>: <br><br><b>Successors</b>: ahGbJPTQ<br>\", \"<b>`b123.bbb`</b> (`b123.bbb`) <br><b>raw_table</b>: <br><br><b>Successors</b>: b_where<br>\", \"<b>`c123.ccc`</b> (`c123.ccc`) <br><b>raw_table</b>: <br><br><b>Successors</b>: c_where<br>\"], \"marker\": {\"line\": {\"width\": 2}, \"size\": 60, \"symbol\": \"square\"}, \"mode\": \"markers+text\", \"name\": \"raw_table\", \"text\": [\"`a123.aaa`\", \"`b123.bbb`\", \"`c123.ccc`\"], \"type\": \"scatter\", \"x\": [-20, -25, -20], \"y\": [-0.74, 0.5, -0.5]}, {\"hovertemplate\": \"%{hovertext}\", \"hovertext\": [\"<b>b</b> (b_having) <br><b>filter</b>: sum(bb)>2<br><br><b>Predecessors</b>: b_group<br><br><b>Successors</b>: b<br>\", \"<b>b</b> (b_where) <br><b>filter</b>: b1 > 2 and (b2 < 3 or b2 >5)<br><br><b>Predecessors</b>: `b123.bbb`<br><br><b>Successors</b>: b_group<br>\", \"<b>c</b> (c_where) <br><b>filter</b>: c1<c2<br><br><b>Predecessors</b>: `c123.ccc`<br><br><b>Successors</b>: c<br>\"], \"marker\": {\"line\": {\"width\": 2}, \"size\": 30, \"symbol\": \"triangle-right\"}, \"mode\": \"markers+text\", \"name\": \"filter\", \"text\": [\"b\", \"b\", \"c\"], \"type\": \"scatter\", \"x\": [-10, -20, -15], \"y\": [0.5, 0.5, -0.5]}, {\"hovertemplate\": \"%{hovertext}\", \"hovertext\": [\"<b>b</b> (b_group) <br><b>aggregate</b>: by b_id,b1<br><br><b>Predecessors</b>: b_where<br><br><b>Successors</b>: b_having<br>\"], \"marker\": {\"line\": {\"width\": 2}, \"size\": 30, \"symbol\": \"triangle-right\"}, \"mode\": \"markers+text\", \"name\": \"aggregate\", \"text\": [\"b\"], \"type\": \"scatter\", \"x\": [-15], \"y\": [0.5]}, {\"hovertemplate\": \"%{hovertext}\", \"hovertext\": [\"<b>a</b> (a) <br><b>derived_table</b>: <br><b>columns:</b> \\n  a_id=a_id1,<br>\\n  aa_ind=case when aa = 'a1' and a2=3 then 1 else 0 end\\n<br><br><b>Predecessors</b>: ahGbJPTQ<br><br><b>Successors</b>: d<br>\", \"<b>ahGbJPTQ</b> (ahGbJPTQ) <br><b>derived_table</b>: <br><b>columns:</b> \\n  *=q.*\\n<br><br><b>Predecessors</b>: `a123.aaa`<br><br><b>Successors</b>: a<br>\", \"<b>b</b> (b) <br><b>derived_table</b>: <br><b>columns:</b> \\n  b_id=b_id,<br>\\n  b1=b1,<br>\\n  bb_sum=sum(bb)\\n<br><br><b>Predecessors</b>: b_having<br><br><b>Successors</b>: d,out<br>\", \"<b>c</b> (c) <br><b>derived_table</b>: <br><b>columns:</b> \\n  c_id=c_id,<br>\\n  c1=c1,<br>\\n  c2=c2\\n<br><br><b>Predecessors</b>: c_where<br><br><b>Successors</b>: d<br>\", \"<b>d</b> (d) <br><b>derived_table</b>: <br><b>columns:</b> \\n  a_id=a_id,<br>\\n  aa_ind=case when aa_ind>c2 then aa_ind else c2 end\\n<br><br><b>Predecessors</b>: a,c,b<br>combine type: join<br>c(c):left join on a.a_id = c.c_id<br><br>b(b):left join on a.a_id = b.b_id<br><br><b>Successors</b>: out<br>\", \"<b>out</b> (out) <br><b>derived_table</b>: <br><b>columns:</b> \\n  a_id=d.a_id,<br>\\n  a_ind=d.a_ind,<br>\\n  b_sum=b.b_sum\\n<br><br><b>Predecessors</b>: d,b<br>combine type: join<br>b(b):left join on d.a_id = b.b_id<br>\"], \"marker\": {\"line\": {\"width\": 2}, \"size\": 60, \"symbol\": \"circle\"}, \"mode\": \"markers+text\", \"name\": \"derived_table\", \"text\": [\"a\", \"ahGbJPTQ\", \"b\", \"c\", \"d\", \"out\"], \"type\": \"scatter\", \"x\": [-10, -15, -5, -10, -5, 0], \"y\": [-0.74, -0.74, 0.5, -0.5, -0.5, 0]}],                        {\"hovermode\": \"closest\", \"margin\": {\"b\": 20, \"l\": 5, \"r\": 5, \"t\": 40}, \"showlegend\": true, \"template\": {\"data\": {\"bar\": [{\"error_x\": {\"color\": \"#2a3f5f\"}, \"error_y\": {\"color\": \"#2a3f5f\"}, \"marker\": {\"line\": {\"color\": \"#E5ECF6\", \"width\": 0.5}}, \"type\": \"bar\"}], \"barpolar\": [{\"marker\": {\"line\": {\"color\": \"#E5ECF6\", \"width\": 0.5}}, \"type\": \"barpolar\"}], \"carpet\": [{\"aaxis\": {\"endlinecolor\": \"#2a3f5f\", \"gridcolor\": \"white\", \"linecolor\": \"white\", \"minorgridcolor\": \"white\", \"startlinecolor\": \"#2a3f5f\"}, \"baxis\": {\"endlinecolor\": \"#2a3f5f\", \"gridcolor\": \"white\", \"linecolor\": \"white\", \"minorgridcolor\": \"white\", \"startlinecolor\": \"#2a3f5f\"}, \"type\": \"carpet\"}], \"choropleth\": [{\"colorbar\": {\"outlinewidth\": 0, \"ticks\": \"\"}, \"type\": \"choropleth\"}], \"contour\": [{\"colorbar\": {\"outlinewidth\": 0, \"ticks\": \"\"}, \"colorscale\": [[0.0, \"#0d0887\"], [0.1111111111111111, \"#46039f\"], [0.2222222222222222, \"#7201a8\"], [0.3333333333333333, \"#9c179e\"], [0.4444444444444444, \"#bd3786\"], [0.5555555555555556, \"#d8576b\"], [0.6666666666666666, \"#ed7953\"], [0.7777777777777778, \"#fb9f3a\"], [0.8888888888888888, \"#fdca26\"], [1.0, \"#f0f921\"]], \"type\": \"contour\"}], \"contourcarpet\": [{\"colorbar\": {\"outlinewidth\": 0, \"ticks\": \"\"}, \"type\": \"contourcarpet\"}], \"heatmap\": [{\"colorbar\": {\"outlinewidth\": 0, \"ticks\": \"\"}, \"colorscale\": [[0.0, \"#0d0887\"], [0.1111111111111111, \"#46039f\"], [0.2222222222222222, \"#7201a8\"], [0.3333333333333333, \"#9c179e\"], [0.4444444444444444, \"#bd3786\"], [0.5555555555555556, \"#d8576b\"], [0.6666666666666666, \"#ed7953\"], [0.7777777777777778, \"#fb9f3a\"], [0.8888888888888888, \"#fdca26\"], [1.0, \"#f0f921\"]], \"type\": \"heatmap\"}], \"heatmapgl\": [{\"colorbar\": {\"outlinewidth\": 0, \"ticks\": \"\"}, \"colorscale\": [[0.0, \"#0d0887\"], [0.1111111111111111, \"#46039f\"], [0.2222222222222222, \"#7201a8\"], [0.3333333333333333, \"#9c179e\"], [0.4444444444444444, \"#bd3786\"], [0.5555555555555556, \"#d8576b\"], [0.6666666666666666, \"#ed7953\"], [0.7777777777777778, \"#fb9f3a\"], [0.8888888888888888, \"#fdca26\"], [1.0, \"#f0f921\"]], \"type\": \"heatmapgl\"}], \"histogram\": [{\"marker\": {\"colorbar\": {\"outlinewidth\": 0, \"ticks\": \"\"}}, \"type\": \"histogram\"}], \"histogram2d\": [{\"colorbar\": {\"outlinewidth\": 0, \"ticks\": \"\"}, \"colorscale\": [[0.0, \"#0d0887\"], [0.1111111111111111, \"#46039f\"], [0.2222222222222222, \"#7201a8\"], [0.3333333333333333, \"#9c179e\"], [0.4444444444444444, \"#bd3786\"], [0.5555555555555556, \"#d8576b\"], [0.6666666666666666, \"#ed7953\"], [0.7777777777777778, \"#fb9f3a\"], [0.8888888888888888, \"#fdca26\"], [1.0, \"#f0f921\"]], \"type\": \"histogram2d\"}], \"histogram2dcontour\": [{\"colorbar\": {\"outlinewidth\": 0, \"ticks\": \"\"}, \"colorscale\": [[0.0, \"#0d0887\"], [0.1111111111111111, \"#46039f\"], [0.2222222222222222, \"#7201a8\"], [0.3333333333333333, \"#9c179e\"], [0.4444444444444444, \"#bd3786\"], [0.5555555555555556, \"#d8576b\"], [0.6666666666666666, \"#ed7953\"], [0.7777777777777778, \"#fb9f3a\"], [0.8888888888888888, \"#fdca26\"], [1.0, \"#f0f921\"]], \"type\": \"histogram2dcontour\"}], \"mesh3d\": [{\"colorbar\": {\"outlinewidth\": 0, \"ticks\": \"\"}, \"type\": \"mesh3d\"}], \"parcoords\": [{\"line\": {\"colorbar\": {\"outlinewidth\": 0, \"ticks\": \"\"}}, \"type\": \"parcoords\"}], \"pie\": [{\"automargin\": true, \"type\": \"pie\"}], \"scatter\": [{\"marker\": {\"colorbar\": {\"outlinewidth\": 0, \"ticks\": \"\"}}, \"type\": \"scatter\"}], \"scatter3d\": [{\"line\": {\"colorbar\": {\"outlinewidth\": 0, \"ticks\": \"\"}}, \"marker\": {\"colorbar\": {\"outlinewidth\": 0, \"ticks\": \"\"}}, \"type\": \"scatter3d\"}], \"scattercarpet\": [{\"marker\": {\"colorbar\": {\"outlinewidth\": 0, \"ticks\": \"\"}}, \"type\": \"scattercarpet\"}], \"scattergeo\": [{\"marker\": {\"colorbar\": {\"outlinewidth\": 0, \"ticks\": \"\"}}, \"type\": \"scattergeo\"}], \"scattergl\": [{\"marker\": {\"colorbar\": {\"outlinewidth\": 0, \"ticks\": \"\"}}, \"type\": \"scattergl\"}], \"scattermapbox\": [{\"marker\": {\"colorbar\": {\"outlinewidth\": 0, \"ticks\": \"\"}}, \"type\": \"scattermapbox\"}], \"scatterpolar\": [{\"marker\": {\"colorbar\": {\"outlinewidth\": 0, \"ticks\": \"\"}}, \"type\": \"scatterpolar\"}], \"scatterpolargl\": [{\"marker\": {\"colorbar\": {\"outlinewidth\": 0, \"ticks\": \"\"}}, \"type\": \"scatterpolargl\"}], \"scatterternary\": [{\"marker\": {\"colorbar\": {\"outlinewidth\": 0, \"ticks\": \"\"}}, \"type\": \"scatterternary\"}], \"surface\": [{\"colorbar\": {\"outlinewidth\": 0, \"ticks\": \"\"}, \"colorscale\": [[0.0, \"#0d0887\"], [0.1111111111111111, \"#46039f\"], [0.2222222222222222, \"#7201a8\"], [0.3333333333333333, \"#9c179e\"], [0.4444444444444444, \"#bd3786\"], [0.5555555555555556, \"#d8576b\"], [0.6666666666666666, \"#ed7953\"], [0.7777777777777778, \"#fb9f3a\"], [0.8888888888888888, \"#fdca26\"], [1.0, \"#f0f921\"]], \"type\": \"surface\"}], \"table\": [{\"cells\": {\"fill\": {\"color\": \"#EBF0F8\"}, \"line\": {\"color\": \"white\"}}, \"header\": {\"fill\": {\"color\": \"#C8D4E3\"}, \"line\": {\"color\": \"white\"}}, \"type\": \"table\"}]}, \"layout\": {\"annotationdefaults\": {\"arrowcolor\": \"#2a3f5f\", \"arrowhead\": 0, \"arrowwidth\": 1}, \"autotypenumbers\": \"strict\", \"coloraxis\": {\"colorbar\": {\"outlinewidth\": 0, \"ticks\": \"\"}}, \"colorscale\": {\"diverging\": [[0, \"#8e0152\"], [0.1, \"#c51b7d\"], [0.2, \"#de77ae\"], [0.3, \"#f1b6da\"], [0.4, \"#fde0ef\"], [0.5, \"#f7f7f7\"], [0.6, \"#e6f5d0\"], [0.7, \"#b8e186\"], [0.8, \"#7fbc41\"], [0.9, \"#4d9221\"], [1, \"#276419\"]], \"sequential\": [[0.0, \"#0d0887\"], [0.1111111111111111, \"#46039f\"], [0.2222222222222222, \"#7201a8\"], [0.3333333333333333, \"#9c179e\"], [0.4444444444444444, \"#bd3786\"], [0.5555555555555556, \"#d8576b\"], [0.6666666666666666, \"#ed7953\"], [0.7777777777777778, \"#fb9f3a\"], [0.8888888888888888, \"#fdca26\"], [1.0, \"#f0f921\"]], \"sequentialminus\": [[0.0, \"#0d0887\"], [0.1111111111111111, \"#46039f\"], [0.2222222222222222, \"#7201a8\"], [0.3333333333333333, \"#9c179e\"], [0.4444444444444444, \"#bd3786\"], [0.5555555555555556, \"#d8576b\"], [0.6666666666666666, \"#ed7953\"], [0.7777777777777778, \"#fb9f3a\"], [0.8888888888888888, \"#fdca26\"], [1.0, \"#f0f921\"]]}, \"colorway\": [\"#636efa\", \"#EF553B\", \"#00cc96\", \"#ab63fa\", \"#FFA15A\", \"#19d3f3\", \"#FF6692\", \"#B6E880\", \"#FF97FF\", \"#FECB52\"], \"font\": {\"color\": \"#2a3f5f\"}, \"geo\": {\"bgcolor\": \"white\", \"lakecolor\": \"white\", \"landcolor\": \"#E5ECF6\", \"showlakes\": true, \"showland\": true, \"subunitcolor\": \"white\"}, \"hoverlabel\": {\"align\": \"left\"}, \"hovermode\": \"closest\", \"mapbox\": {\"style\": \"light\"}, \"paper_bgcolor\": \"white\", \"plot_bgcolor\": \"#E5ECF6\", \"polar\": {\"angularaxis\": {\"gridcolor\": \"white\", \"linecolor\": \"white\", \"ticks\": \"\"}, \"bgcolor\": \"#E5ECF6\", \"radialaxis\": {\"gridcolor\": \"white\", \"linecolor\": \"white\", \"ticks\": \"\"}}, \"scene\": {\"xaxis\": {\"backgroundcolor\": \"#E5ECF6\", \"gridcolor\": \"white\", \"gridwidth\": 2, \"linecolor\": \"white\", \"showbackground\": true, \"ticks\": \"\", \"zerolinecolor\": \"white\"}, \"yaxis\": {\"backgroundcolor\": \"#E5ECF6\", \"gridcolor\": \"white\", \"gridwidth\": 2, \"linecolor\": \"white\", \"showbackground\": true, \"ticks\": \"\", \"zerolinecolor\": \"white\"}, \"zaxis\": {\"backgroundcolor\": \"#E5ECF6\", \"gridcolor\": \"white\", \"gridwidth\": 2, \"linecolor\": \"white\", \"showbackground\": true, \"ticks\": \"\", \"zerolinecolor\": \"white\"}}, \"shapedefaults\": {\"line\": {\"color\": \"#2a3f5f\"}}, \"ternary\": {\"aaxis\": {\"gridcolor\": \"white\", \"linecolor\": \"white\", \"ticks\": \"\"}, \"baxis\": {\"gridcolor\": \"white\", \"linecolor\": \"white\", \"ticks\": \"\"}, \"bgcolor\": \"#E5ECF6\", \"caxis\": {\"gridcolor\": \"white\", \"linecolor\": \"white\", \"ticks\": \"\"}}, \"title\": {\"x\": 0.05}, \"xaxis\": {\"automargin\": true, \"gridcolor\": \"white\", \"linecolor\": \"white\", \"ticks\": \"\", \"title\": {\"standoff\": 15}, \"zerolinecolor\": \"white\", \"zerolinewidth\": 2}, \"yaxis\": {\"automargin\": true, \"gridcolor\": \"white\", \"linecolor\": \"white\", \"ticks\": \"\", \"title\": {\"standoff\": 15}, \"zerolinecolor\": \"white\", \"zerolinewidth\": 2}}}, \"title\": {\"font\": {\"size\": 16}, \"text\": \"Query flow\"}, \"xaxis\": {\"showgrid\": false, \"showticklabels\": false, \"zeroline\": false}, \"yaxis\": {\"showgrid\": false, \"showticklabels\": false, \"zeroline\": false}},                        {\"responsive\": true}                    ).then(function(){\n",
       "                            \n",
       "var gd = document.getElementById('3aaf1ab2-dbd9-4cec-ba60-37053990e7bb');\n",
       "var x = new MutationObserver(function (mutations, observer) {{\n",
       "        var display = window.getComputedStyle(gd).display;\n",
       "        if (!display || display === 'none') {{\n",
       "            console.log([gd, 'removed!']);\n",
       "            Plotly.purge(gd);\n",
       "            observer.disconnect();\n",
       "        }}\n",
       "}});\n",
       "\n",
       "// Listen for the removal of the full notebook cells\n",
       "var notebookContainer = gd.closest('#notebook-container');\n",
       "if (notebookContainer) {{\n",
       "    x.observe(notebookContainer, {childList: true});\n",
       "}}\n",
       "\n",
       "// Listen for the clearing of the current output cell\n",
       "var outputEl = gd.closest('.output');\n",
       "if (outputEl) {{\n",
       "    x.observe(outputEl, {childList: true});\n",
       "}}\n",
       "\n",
       "                        })                };                });            </script>        </div>"
      ]
     },
     "metadata": {},
     "output_type": "display_data"
    }
   ],
   "source": [
    "test_query_obj_3 = SelectQuery(subq_test_q_3)\n",
    "test_query_obj_3.parse_select_query()\n",
    "test_query_obj_3.plot_query()"
   ]
  },
  {
   "cell_type": "code",
   "execution_count": 701,
   "metadata": {},
   "outputs": [
    {
     "data": {
      "text/plain": [
       "{'a': {'select': {'a_id': 'a_id1',\n",
       "   'aa_ind': \"case when aa = 'a1' and a2=3 then 1 else 0 end\"},\n",
       "  'from': {'input_tables': {'abc': 'ahGbJPTQ'}},\n",
       "  'where': '',\n",
       "  'group': [],\n",
       "  'having': ''},\n",
       " 'b': {'select': {'b_id': 'b_id', 'b1': 'b1', 'bb_sum': 'sum(bb)'},\n",
       "  'from': {'input_tables': {'`b123.bbb`': '`b123.bbb`'}},\n",
       "  'where': 'b1 > 2 and (b2 < 3 or b2 >5)',\n",
       "  'group': ['b_id', 'b1'],\n",
       "  'having': 'sum(bb)>2'},\n",
       " 'c': {'select': {'c_id': 'c_id', 'c1': 'c1', 'c2': 'c2'},\n",
       "  'from': {'input_tables': {'`c123.ccc`': '`c123.ccc`'}},\n",
       "  'where': 'c1<c2',\n",
       "  'group': [],\n",
       "  'having': ''},\n",
       " 'd': {'select': {'a_id': 'a_id',\n",
       "   'aa_ind': 'case when aa_ind>c2 then aa_ind else c2 end'},\n",
       "  'from': {'input_tables': {'a': 'a', 'c': 'c', 'b': 'b'},\n",
       "   'joins': {'c': {'type': 'left', 'on': 'a.a_id = c.c_id'},\n",
       "    'b': {'type': 'left', 'on': 'a.a_id = b.b_id'}},\n",
       "   'combine_type': 'join'},\n",
       "  'where': '',\n",
       "  'group': [],\n",
       "  'having': ''},\n",
       " 'out': {'select': {'a_id': 'd.a_id', 'a_ind': 'd.a_ind', 'b_sum': 'b.b_sum'},\n",
       "  'from': {'input_tables': {'d': 'd', 'b': 'b'},\n",
       "   'joins': {'b': {'type': 'left', 'on': 'd.a_id = b.b_id'}},\n",
       "   'combine_type': 'join'},\n",
       "  'where': '',\n",
       "  'group': [],\n",
       "  'having': ''},\n",
       " 'ahGbJPTQ': {'select': {'*': 'q.*'},\n",
       "  'from': {'input_tables': {'q': '`a123.aaa`'}},\n",
       "  'where': '',\n",
       "  'group': [],\n",
       "  'having': ''}}"
      ]
     },
     "execution_count": 701,
     "metadata": {},
     "output_type": "execute_result"
    }
   ],
   "source": [
    "test_query_obj_3.all_queries"
   ]
  },
  {
   "cell_type": "markdown",
   "metadata": {},
   "source": [
    "## Union all queries"
   ]
  },
  {
   "cell_type": "code",
   "execution_count": 702,
   "metadata": {},
   "outputs": [],
   "source": [
    "subq_test_q_4 = '''\n",
    "select * from a\n",
    "union all\n",
    "select b_id as id, d1 as f from b left join (select * from e union all select * from f) d on b.b_id = d.d_id\n",
    "union all\n",
    "select c_id as id, c1 as f from c\n",
    "'''\n"
   ]
  },
  {
   "cell_type": "code",
   "execution_count": 703,
   "metadata": {},
   "outputs": [],
   "source": [
    "test_query_obj_4 = SelectQuery(subq_test_q_4)\n",
    "# test_query_obj_4.parse_select_query()"
   ]
  },
  {
   "cell_type": "code",
   "execution_count": 704,
   "metadata": {},
   "outputs": [],
   "source": [
    "test_query_obj_4.init_parse_query()"
   ]
  },
  {
   "cell_type": "code",
   "execution_count": 705,
   "metadata": {},
   "outputs": [
    {
     "name": "stdout",
     "output_type": "stream",
     "text": [
      "out\n",
      "d4yQxBSr\n",
      "cDGhwhkp\n",
      "NlQhTeRN\n"
     ]
    }
   ],
   "source": [
    "test_query_obj_4.get_all_queries()"
   ]
  },
  {
   "cell_type": "code",
   "execution_count": 706,
   "metadata": {},
   "outputs": [
    {
     "data": {
      "text/plain": [
       "{'d4yQxBSr': {'select': [<Wildcard '*' at 0x2231CD49A08>],\n",
       "  'from': [<Identifier 'a' at 0x2231CD4A7C8>],\n",
       "  'where': [],\n",
       "  'group': [],\n",
       "  'having': []},\n",
       " 'cDGhwhkp': {'select': [<IdentifierList 'b_id a...' at 0x2231CD4AF48>],\n",
       "  'from': [<Identifier 'b' at 0x2231CD4AB10>,\n",
       "   <Keyword 'left j...' at 0x2231CD675E8>,\n",
       "   <Identifier '(selec...' at 0x2231CD4AED0>,\n",
       "   <Keyword 'on' at 0x2231CD67EE8>,\n",
       "   <Comparison 'b.b_id...' at 0x2231CD4AE58>],\n",
       "  'where': [],\n",
       "  'group': [],\n",
       "  'having': []},\n",
       " 'NlQhTeRN': {'select': [<IdentifierList 'c_id a...' at 0x2231CD4A930>],\n",
       "  'from': [<Identifier 'c' at 0x2231CD4ADE0>],\n",
       "  'where': [],\n",
       "  'group': [],\n",
       "  'having': []},\n",
       " 'out': {'select': {'id': 'id', 'f': 'f'},\n",
       "  'from': {'input_tables': {'d4yQxBSr': 'd4yQxBSr',\n",
       "    'cDGhwhkp': 'cDGhwhkp',\n",
       "    'NlQhTeRN': 'NlQhTeRN'},\n",
       "   'combine_type': 'union'},\n",
       "  'where': [],\n",
       "  'group': [],\n",
       "  'having': []}}"
      ]
     },
     "execution_count": 706,
     "metadata": {},
     "output_type": "execute_result"
    }
   ],
   "source": [
    "test_query_obj_4.all_queries"
   ]
  },
  {
   "cell_type": "code",
   "execution_count": 707,
   "metadata": {},
   "outputs": [],
   "source": [
    "# test_query_obj_4.parse_select_statement(test_query_obj_4.all_queries['rZsFJGzF']['select'])"
   ]
  },
  {
   "cell_type": "code",
   "execution_count": 708,
   "metadata": {},
   "outputs": [
    {
     "name": "stdout",
     "output_type": "stream",
     "text": [
      "out\n",
      "IpRXp9Ht\n",
      "DGUf2oSZ\n",
      "JbR0W2G4\n",
      "RgQBfuht\n",
      "oQ7AnL8D\n",
      "QjQxqcw0\n",
      "6dc0vKfV\n"
     ]
    }
   ],
   "source": [
    "test_query_obj_4.parse_select_query()"
   ]
  },
  {
   "cell_type": "code",
   "execution_count": 709,
   "metadata": {},
   "outputs": [
    {
     "data": {
      "text/plain": [
       "Token.Wildcard"
      ]
     },
     "execution_count": 709,
     "metadata": {},
     "output_type": "execute_result"
    }
   ],
   "source": [
    "sqlparse.tokens.Wildcard"
   ]
  },
  {
   "cell_type": "code",
   "execution_count": 710,
   "metadata": {},
   "outputs": [
    {
     "data": {
      "text/plain": [
       "{'IpRXp9Ht': {'select': {'*': '*'},\n",
       "  'from': {'input_tables': {'a': 'a'}},\n",
       "  'where': '',\n",
       "  'group': [],\n",
       "  'having': ''},\n",
       " 'DGUf2oSZ': {'select': {'id': 'b_id', 'f': 'd1'},\n",
       "  'from': {'input_tables': {'b': 'b', 'd': 'oQ7AnL8D'},\n",
       "   'joins': {'d': {'type': 'left', 'on': 'b.b_id = d.d_id'}},\n",
       "   'combine_type': 'join'},\n",
       "  'where': '',\n",
       "  'group': [],\n",
       "  'having': ''},\n",
       " 'JbR0W2G4': {'select': {'id': 'c_id', 'f': 'c1'},\n",
       "  'from': {'input_tables': {'c': 'c'}},\n",
       "  'where': '',\n",
       "  'group': [],\n",
       "  'having': ''},\n",
       " 'out': {'select': {'id': 'id', 'f': 'f'},\n",
       "  'from': {'input_tables': {'IpRXp9Ht': 'IpRXp9Ht',\n",
       "    'DGUf2oSZ': 'DGUf2oSZ',\n",
       "    'JbR0W2G4': 'JbR0W2G4'},\n",
       "   'combine_type': 'union'},\n",
       "  'where': '',\n",
       "  'group': [],\n",
       "  'having': ''},\n",
       " 'QjQxqcw0': {'select': {'*': '*'},\n",
       "  'from': {'input_tables': {'e': 'e'}},\n",
       "  'where': '',\n",
       "  'group': [],\n",
       "  'having': ''},\n",
       " '6dc0vKfV': {'select': {'*': '*'},\n",
       "  'from': {'input_tables': {'f': 'f'}},\n",
       "  'where': '',\n",
       "  'group': [],\n",
       "  'having': ''},\n",
       " 'oQ7AnL8D': {'select': {'*': '*'},\n",
       "  'from': {'input_tables': {'QjQxqcw0': 'QjQxqcw0', '6dc0vKfV': '6dc0vKfV'},\n",
       "   'combine_type': 'union'},\n",
       "  'where': '',\n",
       "  'group': [],\n",
       "  'having': ''}}"
      ]
     },
     "execution_count": 710,
     "metadata": {},
     "output_type": "execute_result"
    }
   ],
   "source": [
    "test_query_obj_4.all_queries"
   ]
  },
  {
   "cell_type": "code",
   "execution_count": null,
   "metadata": {},
   "outputs": [],
   "source": []
  },
  {
   "cell_type": "code",
   "execution_count": 711,
   "metadata": {},
   "outputs": [
    {
     "data": {
      "application/vnd.plotly.v1+json": {
       "config": {
        "plotlyServerURL": "https://plot.ly"
       },
       "data": [
        {
         "hoverinfo": "none",
         "line": {
          "color": "#888",
          "width": 0.5
         },
         "mode": "lines",
         "type": "scatter",
         "x": [
          -15,
          -10,
          null,
          -5,
          0,
          null,
          -5,
          0,
          null,
          -5,
          0,
          null,
          -15,
          -10,
          null,
          -10,
          -5,
          null,
          -10,
          -5,
          null,
          -10,
          -5,
          null,
          -20,
          -15,
          null,
          -20,
          -15,
          null,
          -10,
          -5,
          null
         ],
         "y": [
          0.35519999999999996,
          0.24,
          null,
          0,
          0,
          null,
          -0.5,
          0,
          null,
          0.5,
          0,
          null,
          0.1248,
          0.24,
          null,
          -0.5,
          -0.5,
          null,
          -0.24,
          0,
          null,
          0.5,
          0.5,
          null,
          0.1248,
          0.1248,
          null,
          0.35519999999999996,
          0.35519999999999996,
          null,
          0.24,
          0,
          null
         ]
        },
        {
         "hovertemplate": "%{hovertext}",
         "hovertext": [
          "<b>a</b> (a) <br><b>raw_table</b>: <br><br><b>Successors</b>: IpRXp9Ht<br>",
          "<b>b</b> (b) <br><b>raw_table</b>: <br><br><b>Successors</b>: DGUf2oSZ<br>",
          "<b>c</b> (c) <br><b>raw_table</b>: <br><br><b>Successors</b>: JbR0W2G4<br>",
          "<b>e</b> (e) <br><b>raw_table</b>: <br><br><b>Successors</b>: QjQxqcw0<br>",
          "<b>f</b> (f) <br><b>raw_table</b>: <br><br><b>Successors</b>: 6dc0vKfV<br>"
         ],
         "marker": {
          "line": {
           "width": 2
          },
          "size": 60,
          "symbol": "square"
         },
         "mode": "markers+text",
         "name": "raw_table",
         "text": [
          "a",
          "b",
          "c",
          "e",
          "f"
         ],
         "type": "scatter",
         "x": [
          -10,
          -10,
          -10,
          -20,
          -20
         ],
         "y": [
          -0.5,
          -0.24,
          0.5,
          0.1248,
          0.35519999999999996
         ]
        },
        {
         "hovertemplate": "%{hovertext}",
         "hovertext": [],
         "marker": {
          "line": {
           "width": 2
          },
          "size": 30,
          "symbol": "triangle-right"
         },
         "mode": "markers+text",
         "name": "filter",
         "text": [],
         "type": "scatter",
         "x": [],
         "y": []
        },
        {
         "hovertemplate": "%{hovertext}",
         "hovertext": [],
         "marker": {
          "line": {
           "width": 2
          },
          "size": 30,
          "symbol": "triangle-right"
         },
         "mode": "markers+text",
         "name": "aggregate",
         "text": [],
         "type": "scatter",
         "x": [],
         "y": []
        },
        {
         "hovertemplate": "%{hovertext}",
         "hovertext": [
          "<b>6dc0vKfV</b> (6dc0vKfV) <br><b>derived_table</b>: <br><b>columns:</b> \n  *=*\n<br><br><b>Predecessors</b>: f<br><br><b>Successors</b>: oQ7AnL8D<br>",
          "<b>DGUf2oSZ</b> (DGUf2oSZ) <br><b>derived_table</b>: <br><b>columns:</b> \n  id=b_id,<br>\n  f=d1\n<br><br><b>Predecessors</b>: b,oQ7AnL8D<br>combine type: join<br>oQ7AnL8D(d):left join on b.b_id = d.d_id<br><br><b>Successors</b>: out<br>",
          "<b>IpRXp9Ht</b> (IpRXp9Ht) <br><b>derived_table</b>: <br><b>columns:</b> \n  *=*\n<br><br><b>Predecessors</b>: a<br><br><b>Successors</b>: out<br>",
          "<b>JbR0W2G4</b> (JbR0W2G4) <br><b>derived_table</b>: <br><b>columns:</b> \n  id=c_id,<br>\n  f=c1\n<br><br><b>Predecessors</b>: c<br><br><b>Successors</b>: out<br>",
          "<b>QjQxqcw0</b> (QjQxqcw0) <br><b>derived_table</b>: <br><b>columns:</b> \n  *=*\n<br><br><b>Predecessors</b>: e<br><br><b>Successors</b>: oQ7AnL8D<br>",
          "<b>oQ7AnL8D</b> (oQ7AnL8D) <br><b>derived_table</b>: <br><b>columns:</b> \n  *=*\n<br><br><b>Predecessors</b>: QjQxqcw0,6dc0vKfV<br>combine type: union<br><b>Successors</b>: DGUf2oSZ<br>",
          "<b>out</b> (out) <br><b>derived_table</b>: <br><b>columns:</b> \n  id=id,<br>\n  f=f\n<br><br><b>Predecessors</b>: IpRXp9Ht,DGUf2oSZ,JbR0W2G4<br>combine type: union"
         ],
         "marker": {
          "line": {
           "width": 2
          },
          "size": 60,
          "symbol": "circle"
         },
         "mode": "markers+text",
         "name": "derived_table",
         "text": [
          "6dc0vKfV",
          "DGUf2oSZ",
          "IpRXp9Ht",
          "JbR0W2G4",
          "QjQxqcw0",
          "oQ7AnL8D",
          "out"
         ],
         "type": "scatter",
         "x": [
          -15,
          -5,
          -5,
          -5,
          -15,
          -10,
          0
         ],
         "y": [
          0.35519999999999996,
          0,
          -0.5,
          0.5,
          0.1248,
          0.24,
          0
         ]
        }
       ],
       "layout": {
        "hovermode": "closest",
        "margin": {
         "b": 20,
         "l": 5,
         "r": 5,
         "t": 40
        },
        "showlegend": true,
        "template": {
         "data": {
          "bar": [
           {
            "error_x": {
             "color": "#2a3f5f"
            },
            "error_y": {
             "color": "#2a3f5f"
            },
            "marker": {
             "line": {
              "color": "#E5ECF6",
              "width": 0.5
             }
            },
            "type": "bar"
           }
          ],
          "barpolar": [
           {
            "marker": {
             "line": {
              "color": "#E5ECF6",
              "width": 0.5
             }
            },
            "type": "barpolar"
           }
          ],
          "carpet": [
           {
            "aaxis": {
             "endlinecolor": "#2a3f5f",
             "gridcolor": "white",
             "linecolor": "white",
             "minorgridcolor": "white",
             "startlinecolor": "#2a3f5f"
            },
            "baxis": {
             "endlinecolor": "#2a3f5f",
             "gridcolor": "white",
             "linecolor": "white",
             "minorgridcolor": "white",
             "startlinecolor": "#2a3f5f"
            },
            "type": "carpet"
           }
          ],
          "choropleth": [
           {
            "colorbar": {
             "outlinewidth": 0,
             "ticks": ""
            },
            "type": "choropleth"
           }
          ],
          "contour": [
           {
            "colorbar": {
             "outlinewidth": 0,
             "ticks": ""
            },
            "colorscale": [
             [
              0,
              "#0d0887"
             ],
             [
              0.1111111111111111,
              "#46039f"
             ],
             [
              0.2222222222222222,
              "#7201a8"
             ],
             [
              0.3333333333333333,
              "#9c179e"
             ],
             [
              0.4444444444444444,
              "#bd3786"
             ],
             [
              0.5555555555555556,
              "#d8576b"
             ],
             [
              0.6666666666666666,
              "#ed7953"
             ],
             [
              0.7777777777777778,
              "#fb9f3a"
             ],
             [
              0.8888888888888888,
              "#fdca26"
             ],
             [
              1,
              "#f0f921"
             ]
            ],
            "type": "contour"
           }
          ],
          "contourcarpet": [
           {
            "colorbar": {
             "outlinewidth": 0,
             "ticks": ""
            },
            "type": "contourcarpet"
           }
          ],
          "heatmap": [
           {
            "colorbar": {
             "outlinewidth": 0,
             "ticks": ""
            },
            "colorscale": [
             [
              0,
              "#0d0887"
             ],
             [
              0.1111111111111111,
              "#46039f"
             ],
             [
              0.2222222222222222,
              "#7201a8"
             ],
             [
              0.3333333333333333,
              "#9c179e"
             ],
             [
              0.4444444444444444,
              "#bd3786"
             ],
             [
              0.5555555555555556,
              "#d8576b"
             ],
             [
              0.6666666666666666,
              "#ed7953"
             ],
             [
              0.7777777777777778,
              "#fb9f3a"
             ],
             [
              0.8888888888888888,
              "#fdca26"
             ],
             [
              1,
              "#f0f921"
             ]
            ],
            "type": "heatmap"
           }
          ],
          "heatmapgl": [
           {
            "colorbar": {
             "outlinewidth": 0,
             "ticks": ""
            },
            "colorscale": [
             [
              0,
              "#0d0887"
             ],
             [
              0.1111111111111111,
              "#46039f"
             ],
             [
              0.2222222222222222,
              "#7201a8"
             ],
             [
              0.3333333333333333,
              "#9c179e"
             ],
             [
              0.4444444444444444,
              "#bd3786"
             ],
             [
              0.5555555555555556,
              "#d8576b"
             ],
             [
              0.6666666666666666,
              "#ed7953"
             ],
             [
              0.7777777777777778,
              "#fb9f3a"
             ],
             [
              0.8888888888888888,
              "#fdca26"
             ],
             [
              1,
              "#f0f921"
             ]
            ],
            "type": "heatmapgl"
           }
          ],
          "histogram": [
           {
            "marker": {
             "colorbar": {
              "outlinewidth": 0,
              "ticks": ""
             }
            },
            "type": "histogram"
           }
          ],
          "histogram2d": [
           {
            "colorbar": {
             "outlinewidth": 0,
             "ticks": ""
            },
            "colorscale": [
             [
              0,
              "#0d0887"
             ],
             [
              0.1111111111111111,
              "#46039f"
             ],
             [
              0.2222222222222222,
              "#7201a8"
             ],
             [
              0.3333333333333333,
              "#9c179e"
             ],
             [
              0.4444444444444444,
              "#bd3786"
             ],
             [
              0.5555555555555556,
              "#d8576b"
             ],
             [
              0.6666666666666666,
              "#ed7953"
             ],
             [
              0.7777777777777778,
              "#fb9f3a"
             ],
             [
              0.8888888888888888,
              "#fdca26"
             ],
             [
              1,
              "#f0f921"
             ]
            ],
            "type": "histogram2d"
           }
          ],
          "histogram2dcontour": [
           {
            "colorbar": {
             "outlinewidth": 0,
             "ticks": ""
            },
            "colorscale": [
             [
              0,
              "#0d0887"
             ],
             [
              0.1111111111111111,
              "#46039f"
             ],
             [
              0.2222222222222222,
              "#7201a8"
             ],
             [
              0.3333333333333333,
              "#9c179e"
             ],
             [
              0.4444444444444444,
              "#bd3786"
             ],
             [
              0.5555555555555556,
              "#d8576b"
             ],
             [
              0.6666666666666666,
              "#ed7953"
             ],
             [
              0.7777777777777778,
              "#fb9f3a"
             ],
             [
              0.8888888888888888,
              "#fdca26"
             ],
             [
              1,
              "#f0f921"
             ]
            ],
            "type": "histogram2dcontour"
           }
          ],
          "mesh3d": [
           {
            "colorbar": {
             "outlinewidth": 0,
             "ticks": ""
            },
            "type": "mesh3d"
           }
          ],
          "parcoords": [
           {
            "line": {
             "colorbar": {
              "outlinewidth": 0,
              "ticks": ""
             }
            },
            "type": "parcoords"
           }
          ],
          "pie": [
           {
            "automargin": true,
            "type": "pie"
           }
          ],
          "scatter": [
           {
            "marker": {
             "colorbar": {
              "outlinewidth": 0,
              "ticks": ""
             }
            },
            "type": "scatter"
           }
          ],
          "scatter3d": [
           {
            "line": {
             "colorbar": {
              "outlinewidth": 0,
              "ticks": ""
             }
            },
            "marker": {
             "colorbar": {
              "outlinewidth": 0,
              "ticks": ""
             }
            },
            "type": "scatter3d"
           }
          ],
          "scattercarpet": [
           {
            "marker": {
             "colorbar": {
              "outlinewidth": 0,
              "ticks": ""
             }
            },
            "type": "scattercarpet"
           }
          ],
          "scattergeo": [
           {
            "marker": {
             "colorbar": {
              "outlinewidth": 0,
              "ticks": ""
             }
            },
            "type": "scattergeo"
           }
          ],
          "scattergl": [
           {
            "marker": {
             "colorbar": {
              "outlinewidth": 0,
              "ticks": ""
             }
            },
            "type": "scattergl"
           }
          ],
          "scattermapbox": [
           {
            "marker": {
             "colorbar": {
              "outlinewidth": 0,
              "ticks": ""
             }
            },
            "type": "scattermapbox"
           }
          ],
          "scatterpolar": [
           {
            "marker": {
             "colorbar": {
              "outlinewidth": 0,
              "ticks": ""
             }
            },
            "type": "scatterpolar"
           }
          ],
          "scatterpolargl": [
           {
            "marker": {
             "colorbar": {
              "outlinewidth": 0,
              "ticks": ""
             }
            },
            "type": "scatterpolargl"
           }
          ],
          "scatterternary": [
           {
            "marker": {
             "colorbar": {
              "outlinewidth": 0,
              "ticks": ""
             }
            },
            "type": "scatterternary"
           }
          ],
          "surface": [
           {
            "colorbar": {
             "outlinewidth": 0,
             "ticks": ""
            },
            "colorscale": [
             [
              0,
              "#0d0887"
             ],
             [
              0.1111111111111111,
              "#46039f"
             ],
             [
              0.2222222222222222,
              "#7201a8"
             ],
             [
              0.3333333333333333,
              "#9c179e"
             ],
             [
              0.4444444444444444,
              "#bd3786"
             ],
             [
              0.5555555555555556,
              "#d8576b"
             ],
             [
              0.6666666666666666,
              "#ed7953"
             ],
             [
              0.7777777777777778,
              "#fb9f3a"
             ],
             [
              0.8888888888888888,
              "#fdca26"
             ],
             [
              1,
              "#f0f921"
             ]
            ],
            "type": "surface"
           }
          ],
          "table": [
           {
            "cells": {
             "fill": {
              "color": "#EBF0F8"
             },
             "line": {
              "color": "white"
             }
            },
            "header": {
             "fill": {
              "color": "#C8D4E3"
             },
             "line": {
              "color": "white"
             }
            },
            "type": "table"
           }
          ]
         },
         "layout": {
          "annotationdefaults": {
           "arrowcolor": "#2a3f5f",
           "arrowhead": 0,
           "arrowwidth": 1
          },
          "autotypenumbers": "strict",
          "coloraxis": {
           "colorbar": {
            "outlinewidth": 0,
            "ticks": ""
           }
          },
          "colorscale": {
           "diverging": [
            [
             0,
             "#8e0152"
            ],
            [
             0.1,
             "#c51b7d"
            ],
            [
             0.2,
             "#de77ae"
            ],
            [
             0.3,
             "#f1b6da"
            ],
            [
             0.4,
             "#fde0ef"
            ],
            [
             0.5,
             "#f7f7f7"
            ],
            [
             0.6,
             "#e6f5d0"
            ],
            [
             0.7,
             "#b8e186"
            ],
            [
             0.8,
             "#7fbc41"
            ],
            [
             0.9,
             "#4d9221"
            ],
            [
             1,
             "#276419"
            ]
           ],
           "sequential": [
            [
             0,
             "#0d0887"
            ],
            [
             0.1111111111111111,
             "#46039f"
            ],
            [
             0.2222222222222222,
             "#7201a8"
            ],
            [
             0.3333333333333333,
             "#9c179e"
            ],
            [
             0.4444444444444444,
             "#bd3786"
            ],
            [
             0.5555555555555556,
             "#d8576b"
            ],
            [
             0.6666666666666666,
             "#ed7953"
            ],
            [
             0.7777777777777778,
             "#fb9f3a"
            ],
            [
             0.8888888888888888,
             "#fdca26"
            ],
            [
             1,
             "#f0f921"
            ]
           ],
           "sequentialminus": [
            [
             0,
             "#0d0887"
            ],
            [
             0.1111111111111111,
             "#46039f"
            ],
            [
             0.2222222222222222,
             "#7201a8"
            ],
            [
             0.3333333333333333,
             "#9c179e"
            ],
            [
             0.4444444444444444,
             "#bd3786"
            ],
            [
             0.5555555555555556,
             "#d8576b"
            ],
            [
             0.6666666666666666,
             "#ed7953"
            ],
            [
             0.7777777777777778,
             "#fb9f3a"
            ],
            [
             0.8888888888888888,
             "#fdca26"
            ],
            [
             1,
             "#f0f921"
            ]
           ]
          },
          "colorway": [
           "#636efa",
           "#EF553B",
           "#00cc96",
           "#ab63fa",
           "#FFA15A",
           "#19d3f3",
           "#FF6692",
           "#B6E880",
           "#FF97FF",
           "#FECB52"
          ],
          "font": {
           "color": "#2a3f5f"
          },
          "geo": {
           "bgcolor": "white",
           "lakecolor": "white",
           "landcolor": "#E5ECF6",
           "showlakes": true,
           "showland": true,
           "subunitcolor": "white"
          },
          "hoverlabel": {
           "align": "left"
          },
          "hovermode": "closest",
          "mapbox": {
           "style": "light"
          },
          "paper_bgcolor": "white",
          "plot_bgcolor": "#E5ECF6",
          "polar": {
           "angularaxis": {
            "gridcolor": "white",
            "linecolor": "white",
            "ticks": ""
           },
           "bgcolor": "#E5ECF6",
           "radialaxis": {
            "gridcolor": "white",
            "linecolor": "white",
            "ticks": ""
           }
          },
          "scene": {
           "xaxis": {
            "backgroundcolor": "#E5ECF6",
            "gridcolor": "white",
            "gridwidth": 2,
            "linecolor": "white",
            "showbackground": true,
            "ticks": "",
            "zerolinecolor": "white"
           },
           "yaxis": {
            "backgroundcolor": "#E5ECF6",
            "gridcolor": "white",
            "gridwidth": 2,
            "linecolor": "white",
            "showbackground": true,
            "ticks": "",
            "zerolinecolor": "white"
           },
           "zaxis": {
            "backgroundcolor": "#E5ECF6",
            "gridcolor": "white",
            "gridwidth": 2,
            "linecolor": "white",
            "showbackground": true,
            "ticks": "",
            "zerolinecolor": "white"
           }
          },
          "shapedefaults": {
           "line": {
            "color": "#2a3f5f"
           }
          },
          "ternary": {
           "aaxis": {
            "gridcolor": "white",
            "linecolor": "white",
            "ticks": ""
           },
           "baxis": {
            "gridcolor": "white",
            "linecolor": "white",
            "ticks": ""
           },
           "bgcolor": "#E5ECF6",
           "caxis": {
            "gridcolor": "white",
            "linecolor": "white",
            "ticks": ""
           }
          },
          "title": {
           "x": 0.05
          },
          "xaxis": {
           "automargin": true,
           "gridcolor": "white",
           "linecolor": "white",
           "ticks": "",
           "title": {
            "standoff": 15
           },
           "zerolinecolor": "white",
           "zerolinewidth": 2
          },
          "yaxis": {
           "automargin": true,
           "gridcolor": "white",
           "linecolor": "white",
           "ticks": "",
           "title": {
            "standoff": 15
           },
           "zerolinecolor": "white",
           "zerolinewidth": 2
          }
         }
        },
        "title": {
         "font": {
          "size": 16
         },
         "text": "Query flow"
        },
        "xaxis": {
         "showgrid": false,
         "showticklabels": false,
         "zeroline": false
        },
        "yaxis": {
         "showgrid": false,
         "showticklabels": false,
         "zeroline": false
        }
       }
      },
      "text/html": [
       "<div>                            <div id=\"dd3ee4d9-edef-4183-ab8e-a8340b648af8\" class=\"plotly-graph-div\" style=\"height:525px; width:100%;\"></div>            <script type=\"text/javascript\">                require([\"plotly\"], function(Plotly) {                    window.PLOTLYENV=window.PLOTLYENV || {};                                    if (document.getElementById(\"dd3ee4d9-edef-4183-ab8e-a8340b648af8\")) {                    Plotly.newPlot(                        \"dd3ee4d9-edef-4183-ab8e-a8340b648af8\",                        [{\"hoverinfo\": \"none\", \"line\": {\"color\": \"#888\", \"width\": 0.5}, \"mode\": \"lines\", \"type\": \"scatter\", \"x\": [-15, -10, null, -5, 0, null, -5, 0, null, -5, 0, null, -15, -10, null, -10, -5, null, -10, -5, null, -10, -5, null, -20, -15, null, -20, -15, null, -10, -5, null], \"y\": [0.35519999999999996, 0.24, null, 0.0, 0, null, -0.5, 0, null, 0.5, 0, null, 0.1248, 0.24, null, -0.5, -0.5, null, -0.24, 0.0, null, 0.5, 0.5, null, 0.1248, 0.1248, null, 0.35519999999999996, 0.35519999999999996, null, 0.24, 0.0, null]}, {\"hovertemplate\": \"%{hovertext}\", \"hovertext\": [\"<b>a</b> (a) <br><b>raw_table</b>: <br><br><b>Successors</b>: IpRXp9Ht<br>\", \"<b>b</b> (b) <br><b>raw_table</b>: <br><br><b>Successors</b>: DGUf2oSZ<br>\", \"<b>c</b> (c) <br><b>raw_table</b>: <br><br><b>Successors</b>: JbR0W2G4<br>\", \"<b>e</b> (e) <br><b>raw_table</b>: <br><br><b>Successors</b>: QjQxqcw0<br>\", \"<b>f</b> (f) <br><b>raw_table</b>: <br><br><b>Successors</b>: 6dc0vKfV<br>\"], \"marker\": {\"line\": {\"width\": 2}, \"size\": 60, \"symbol\": \"square\"}, \"mode\": \"markers+text\", \"name\": \"raw_table\", \"text\": [\"a\", \"b\", \"c\", \"e\", \"f\"], \"type\": \"scatter\", \"x\": [-10, -10, -10, -20, -20], \"y\": [-0.5, -0.24, 0.5, 0.1248, 0.35519999999999996]}, {\"hovertemplate\": \"%{hovertext}\", \"hovertext\": [], \"marker\": {\"line\": {\"width\": 2}, \"size\": 30, \"symbol\": \"triangle-right\"}, \"mode\": \"markers+text\", \"name\": \"filter\", \"text\": [], \"type\": \"scatter\", \"x\": [], \"y\": []}, {\"hovertemplate\": \"%{hovertext}\", \"hovertext\": [], \"marker\": {\"line\": {\"width\": 2}, \"size\": 30, \"symbol\": \"triangle-right\"}, \"mode\": \"markers+text\", \"name\": \"aggregate\", \"text\": [], \"type\": \"scatter\", \"x\": [], \"y\": []}, {\"hovertemplate\": \"%{hovertext}\", \"hovertext\": [\"<b>6dc0vKfV</b> (6dc0vKfV) <br><b>derived_table</b>: <br><b>columns:</b> \\n  *=*\\n<br><br><b>Predecessors</b>: f<br><br><b>Successors</b>: oQ7AnL8D<br>\", \"<b>DGUf2oSZ</b> (DGUf2oSZ) <br><b>derived_table</b>: <br><b>columns:</b> \\n  id=b_id,<br>\\n  f=d1\\n<br><br><b>Predecessors</b>: b,oQ7AnL8D<br>combine type: join<br>oQ7AnL8D(d):left join on b.b_id = d.d_id<br><br><b>Successors</b>: out<br>\", \"<b>IpRXp9Ht</b> (IpRXp9Ht) <br><b>derived_table</b>: <br><b>columns:</b> \\n  *=*\\n<br><br><b>Predecessors</b>: a<br><br><b>Successors</b>: out<br>\", \"<b>JbR0W2G4</b> (JbR0W2G4) <br><b>derived_table</b>: <br><b>columns:</b> \\n  id=c_id,<br>\\n  f=c1\\n<br><br><b>Predecessors</b>: c<br><br><b>Successors</b>: out<br>\", \"<b>QjQxqcw0</b> (QjQxqcw0) <br><b>derived_table</b>: <br><b>columns:</b> \\n  *=*\\n<br><br><b>Predecessors</b>: e<br><br><b>Successors</b>: oQ7AnL8D<br>\", \"<b>oQ7AnL8D</b> (oQ7AnL8D) <br><b>derived_table</b>: <br><b>columns:</b> \\n  *=*\\n<br><br><b>Predecessors</b>: QjQxqcw0,6dc0vKfV<br>combine type: union<br><b>Successors</b>: DGUf2oSZ<br>\", \"<b>out</b> (out) <br><b>derived_table</b>: <br><b>columns:</b> \\n  id=id,<br>\\n  f=f\\n<br><br><b>Predecessors</b>: IpRXp9Ht,DGUf2oSZ,JbR0W2G4<br>combine type: union\"], \"marker\": {\"line\": {\"width\": 2}, \"size\": 60, \"symbol\": \"circle\"}, \"mode\": \"markers+text\", \"name\": \"derived_table\", \"text\": [\"6dc0vKfV\", \"DGUf2oSZ\", \"IpRXp9Ht\", \"JbR0W2G4\", \"QjQxqcw0\", \"oQ7AnL8D\", \"out\"], \"type\": \"scatter\", \"x\": [-15, -5, -5, -5, -15, -10, 0], \"y\": [0.35519999999999996, 0.0, -0.5, 0.5, 0.1248, 0.24, 0]}],                        {\"hovermode\": \"closest\", \"margin\": {\"b\": 20, \"l\": 5, \"r\": 5, \"t\": 40}, \"showlegend\": true, \"template\": {\"data\": {\"bar\": [{\"error_x\": {\"color\": \"#2a3f5f\"}, \"error_y\": {\"color\": \"#2a3f5f\"}, \"marker\": {\"line\": {\"color\": \"#E5ECF6\", \"width\": 0.5}}, \"type\": \"bar\"}], \"barpolar\": [{\"marker\": {\"line\": {\"color\": \"#E5ECF6\", \"width\": 0.5}}, \"type\": \"barpolar\"}], \"carpet\": [{\"aaxis\": {\"endlinecolor\": \"#2a3f5f\", \"gridcolor\": \"white\", \"linecolor\": \"white\", \"minorgridcolor\": \"white\", \"startlinecolor\": \"#2a3f5f\"}, \"baxis\": {\"endlinecolor\": \"#2a3f5f\", \"gridcolor\": \"white\", \"linecolor\": \"white\", \"minorgridcolor\": \"white\", \"startlinecolor\": \"#2a3f5f\"}, \"type\": \"carpet\"}], \"choropleth\": [{\"colorbar\": {\"outlinewidth\": 0, \"ticks\": \"\"}, \"type\": \"choropleth\"}], \"contour\": [{\"colorbar\": {\"outlinewidth\": 0, \"ticks\": \"\"}, \"colorscale\": [[0.0, \"#0d0887\"], [0.1111111111111111, \"#46039f\"], [0.2222222222222222, \"#7201a8\"], [0.3333333333333333, \"#9c179e\"], [0.4444444444444444, \"#bd3786\"], [0.5555555555555556, \"#d8576b\"], [0.6666666666666666, \"#ed7953\"], [0.7777777777777778, \"#fb9f3a\"], [0.8888888888888888, \"#fdca26\"], [1.0, \"#f0f921\"]], \"type\": \"contour\"}], \"contourcarpet\": [{\"colorbar\": {\"outlinewidth\": 0, \"ticks\": \"\"}, \"type\": \"contourcarpet\"}], \"heatmap\": [{\"colorbar\": {\"outlinewidth\": 0, \"ticks\": \"\"}, \"colorscale\": [[0.0, \"#0d0887\"], [0.1111111111111111, \"#46039f\"], [0.2222222222222222, \"#7201a8\"], [0.3333333333333333, \"#9c179e\"], [0.4444444444444444, \"#bd3786\"], [0.5555555555555556, \"#d8576b\"], [0.6666666666666666, \"#ed7953\"], [0.7777777777777778, \"#fb9f3a\"], [0.8888888888888888, \"#fdca26\"], [1.0, \"#f0f921\"]], \"type\": \"heatmap\"}], \"heatmapgl\": [{\"colorbar\": {\"outlinewidth\": 0, \"ticks\": \"\"}, \"colorscale\": [[0.0, \"#0d0887\"], [0.1111111111111111, \"#46039f\"], [0.2222222222222222, \"#7201a8\"], [0.3333333333333333, \"#9c179e\"], [0.4444444444444444, \"#bd3786\"], [0.5555555555555556, \"#d8576b\"], [0.6666666666666666, \"#ed7953\"], [0.7777777777777778, \"#fb9f3a\"], [0.8888888888888888, \"#fdca26\"], [1.0, \"#f0f921\"]], \"type\": \"heatmapgl\"}], \"histogram\": [{\"marker\": {\"colorbar\": {\"outlinewidth\": 0, \"ticks\": \"\"}}, \"type\": \"histogram\"}], \"histogram2d\": [{\"colorbar\": {\"outlinewidth\": 0, \"ticks\": \"\"}, \"colorscale\": [[0.0, \"#0d0887\"], [0.1111111111111111, \"#46039f\"], [0.2222222222222222, \"#7201a8\"], [0.3333333333333333, \"#9c179e\"], [0.4444444444444444, \"#bd3786\"], [0.5555555555555556, \"#d8576b\"], [0.6666666666666666, \"#ed7953\"], [0.7777777777777778, \"#fb9f3a\"], [0.8888888888888888, \"#fdca26\"], [1.0, \"#f0f921\"]], \"type\": \"histogram2d\"}], \"histogram2dcontour\": [{\"colorbar\": {\"outlinewidth\": 0, \"ticks\": \"\"}, \"colorscale\": [[0.0, \"#0d0887\"], [0.1111111111111111, \"#46039f\"], [0.2222222222222222, \"#7201a8\"], [0.3333333333333333, \"#9c179e\"], [0.4444444444444444, \"#bd3786\"], [0.5555555555555556, \"#d8576b\"], [0.6666666666666666, \"#ed7953\"], [0.7777777777777778, \"#fb9f3a\"], [0.8888888888888888, \"#fdca26\"], [1.0, \"#f0f921\"]], \"type\": \"histogram2dcontour\"}], \"mesh3d\": [{\"colorbar\": {\"outlinewidth\": 0, \"ticks\": \"\"}, \"type\": \"mesh3d\"}], \"parcoords\": [{\"line\": {\"colorbar\": {\"outlinewidth\": 0, \"ticks\": \"\"}}, \"type\": \"parcoords\"}], \"pie\": [{\"automargin\": true, \"type\": \"pie\"}], \"scatter\": [{\"marker\": {\"colorbar\": {\"outlinewidth\": 0, \"ticks\": \"\"}}, \"type\": \"scatter\"}], \"scatter3d\": [{\"line\": {\"colorbar\": {\"outlinewidth\": 0, \"ticks\": \"\"}}, \"marker\": {\"colorbar\": {\"outlinewidth\": 0, \"ticks\": \"\"}}, \"type\": \"scatter3d\"}], \"scattercarpet\": [{\"marker\": {\"colorbar\": {\"outlinewidth\": 0, \"ticks\": \"\"}}, \"type\": \"scattercarpet\"}], \"scattergeo\": [{\"marker\": {\"colorbar\": {\"outlinewidth\": 0, \"ticks\": \"\"}}, \"type\": \"scattergeo\"}], \"scattergl\": [{\"marker\": {\"colorbar\": {\"outlinewidth\": 0, \"ticks\": \"\"}}, \"type\": \"scattergl\"}], \"scattermapbox\": [{\"marker\": {\"colorbar\": {\"outlinewidth\": 0, \"ticks\": \"\"}}, \"type\": \"scattermapbox\"}], \"scatterpolar\": [{\"marker\": {\"colorbar\": {\"outlinewidth\": 0, \"ticks\": \"\"}}, \"type\": \"scatterpolar\"}], \"scatterpolargl\": [{\"marker\": {\"colorbar\": {\"outlinewidth\": 0, \"ticks\": \"\"}}, \"type\": \"scatterpolargl\"}], \"scatterternary\": [{\"marker\": {\"colorbar\": {\"outlinewidth\": 0, \"ticks\": \"\"}}, \"type\": \"scatterternary\"}], \"surface\": [{\"colorbar\": {\"outlinewidth\": 0, \"ticks\": \"\"}, \"colorscale\": [[0.0, \"#0d0887\"], [0.1111111111111111, \"#46039f\"], [0.2222222222222222, \"#7201a8\"], [0.3333333333333333, \"#9c179e\"], [0.4444444444444444, \"#bd3786\"], [0.5555555555555556, \"#d8576b\"], [0.6666666666666666, \"#ed7953\"], [0.7777777777777778, \"#fb9f3a\"], [0.8888888888888888, \"#fdca26\"], [1.0, \"#f0f921\"]], \"type\": \"surface\"}], \"table\": [{\"cells\": {\"fill\": {\"color\": \"#EBF0F8\"}, \"line\": {\"color\": \"white\"}}, \"header\": {\"fill\": {\"color\": \"#C8D4E3\"}, \"line\": {\"color\": \"white\"}}, \"type\": \"table\"}]}, \"layout\": {\"annotationdefaults\": {\"arrowcolor\": \"#2a3f5f\", \"arrowhead\": 0, \"arrowwidth\": 1}, \"autotypenumbers\": \"strict\", \"coloraxis\": {\"colorbar\": {\"outlinewidth\": 0, \"ticks\": \"\"}}, \"colorscale\": {\"diverging\": [[0, \"#8e0152\"], [0.1, \"#c51b7d\"], [0.2, \"#de77ae\"], [0.3, \"#f1b6da\"], [0.4, \"#fde0ef\"], [0.5, \"#f7f7f7\"], [0.6, \"#e6f5d0\"], [0.7, \"#b8e186\"], [0.8, \"#7fbc41\"], [0.9, \"#4d9221\"], [1, \"#276419\"]], \"sequential\": [[0.0, \"#0d0887\"], [0.1111111111111111, \"#46039f\"], [0.2222222222222222, \"#7201a8\"], [0.3333333333333333, \"#9c179e\"], [0.4444444444444444, \"#bd3786\"], [0.5555555555555556, \"#d8576b\"], [0.6666666666666666, \"#ed7953\"], [0.7777777777777778, \"#fb9f3a\"], [0.8888888888888888, \"#fdca26\"], [1.0, \"#f0f921\"]], \"sequentialminus\": [[0.0, \"#0d0887\"], [0.1111111111111111, \"#46039f\"], [0.2222222222222222, \"#7201a8\"], [0.3333333333333333, \"#9c179e\"], [0.4444444444444444, \"#bd3786\"], [0.5555555555555556, \"#d8576b\"], [0.6666666666666666, \"#ed7953\"], [0.7777777777777778, \"#fb9f3a\"], [0.8888888888888888, \"#fdca26\"], [1.0, \"#f0f921\"]]}, \"colorway\": [\"#636efa\", \"#EF553B\", \"#00cc96\", \"#ab63fa\", \"#FFA15A\", \"#19d3f3\", \"#FF6692\", \"#B6E880\", \"#FF97FF\", \"#FECB52\"], \"font\": {\"color\": \"#2a3f5f\"}, \"geo\": {\"bgcolor\": \"white\", \"lakecolor\": \"white\", \"landcolor\": \"#E5ECF6\", \"showlakes\": true, \"showland\": true, \"subunitcolor\": \"white\"}, \"hoverlabel\": {\"align\": \"left\"}, \"hovermode\": \"closest\", \"mapbox\": {\"style\": \"light\"}, \"paper_bgcolor\": \"white\", \"plot_bgcolor\": \"#E5ECF6\", \"polar\": {\"angularaxis\": {\"gridcolor\": \"white\", \"linecolor\": \"white\", \"ticks\": \"\"}, \"bgcolor\": \"#E5ECF6\", \"radialaxis\": {\"gridcolor\": \"white\", \"linecolor\": \"white\", \"ticks\": \"\"}}, \"scene\": {\"xaxis\": {\"backgroundcolor\": \"#E5ECF6\", \"gridcolor\": \"white\", \"gridwidth\": 2, \"linecolor\": \"white\", \"showbackground\": true, \"ticks\": \"\", \"zerolinecolor\": \"white\"}, \"yaxis\": {\"backgroundcolor\": \"#E5ECF6\", \"gridcolor\": \"white\", \"gridwidth\": 2, \"linecolor\": \"white\", \"showbackground\": true, \"ticks\": \"\", \"zerolinecolor\": \"white\"}, \"zaxis\": {\"backgroundcolor\": \"#E5ECF6\", \"gridcolor\": \"white\", \"gridwidth\": 2, \"linecolor\": \"white\", \"showbackground\": true, \"ticks\": \"\", \"zerolinecolor\": \"white\"}}, \"shapedefaults\": {\"line\": {\"color\": \"#2a3f5f\"}}, \"ternary\": {\"aaxis\": {\"gridcolor\": \"white\", \"linecolor\": \"white\", \"ticks\": \"\"}, \"baxis\": {\"gridcolor\": \"white\", \"linecolor\": \"white\", \"ticks\": \"\"}, \"bgcolor\": \"#E5ECF6\", \"caxis\": {\"gridcolor\": \"white\", \"linecolor\": \"white\", \"ticks\": \"\"}}, \"title\": {\"x\": 0.05}, \"xaxis\": {\"automargin\": true, \"gridcolor\": \"white\", \"linecolor\": \"white\", \"ticks\": \"\", \"title\": {\"standoff\": 15}, \"zerolinecolor\": \"white\", \"zerolinewidth\": 2}, \"yaxis\": {\"automargin\": true, \"gridcolor\": \"white\", \"linecolor\": \"white\", \"ticks\": \"\", \"title\": {\"standoff\": 15}, \"zerolinecolor\": \"white\", \"zerolinewidth\": 2}}}, \"title\": {\"font\": {\"size\": 16}, \"text\": \"Query flow\"}, \"xaxis\": {\"showgrid\": false, \"showticklabels\": false, \"zeroline\": false}, \"yaxis\": {\"showgrid\": false, \"showticklabels\": false, \"zeroline\": false}},                        {\"responsive\": true}                    ).then(function(){\n",
       "                            \n",
       "var gd = document.getElementById('dd3ee4d9-edef-4183-ab8e-a8340b648af8');\n",
       "var x = new MutationObserver(function (mutations, observer) {{\n",
       "        var display = window.getComputedStyle(gd).display;\n",
       "        if (!display || display === 'none') {{\n",
       "            console.log([gd, 'removed!']);\n",
       "            Plotly.purge(gd);\n",
       "            observer.disconnect();\n",
       "        }}\n",
       "}});\n",
       "\n",
       "// Listen for the removal of the full notebook cells\n",
       "var notebookContainer = gd.closest('#notebook-container');\n",
       "if (notebookContainer) {{\n",
       "    x.observe(notebookContainer, {childList: true});\n",
       "}}\n",
       "\n",
       "// Listen for the clearing of the current output cell\n",
       "var outputEl = gd.closest('.output');\n",
       "if (outputEl) {{\n",
       "    x.observe(outputEl, {childList: true});\n",
       "}}\n",
       "\n",
       "                        })                };                });            </script>        </div>"
      ]
     },
     "metadata": {},
     "output_type": "display_data"
    }
   ],
   "source": [
    "test_query_obj_4.plot_query()"
   ]
  },
  {
   "cell_type": "code",
   "execution_count": null,
   "metadata": {},
   "outputs": [],
   "source": []
  }
 ],
 "metadata": {
  "kernelspec": {
   "display_name": "Python 3",
   "language": "python",
   "name": "python3"
  },
  "language_info": {
   "codemirror_mode": {
    "name": "ipython",
    "version": 3
   },
   "file_extension": ".py",
   "mimetype": "text/x-python",
   "name": "python",
   "nbconvert_exporter": "python",
   "pygments_lexer": "ipython3",
   "version": "3.7.1"
  }
 },
 "nbformat": 4,
 "nbformat_minor": 2
}
