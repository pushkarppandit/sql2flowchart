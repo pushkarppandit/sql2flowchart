{
 "cells": [
  {
   "cell_type": "code",
   "execution_count": 1,
   "metadata": {},
   "outputs": [],
   "source": [
    "import sqlparse\n",
    "from sqlparse.sql import Token, TokenList\n",
    "import re"
   ]
  },
  {
   "cell_type": "code",
   "execution_count": 2,
   "metadata": {},
   "outputs": [],
   "source": [
    "query = '''--asd\n",
    "            with a as (select a_id, \n",
    "            case when aa = \\'a1\\' then 1 else 0 end aa_ind\n",
    "            from `a123.aaa`) \n",
    "        , b as (select b_id, \n",
    "            sum(bb) bb_sum \n",
    "            from `b123.bbb` \n",
    "            group by b_id) \n",
    "        select a.a_id,a.a_ind,b.b_sum \n",
    "        from a left join b \n",
    "        on a.a_id = b.b_id'''"
   ]
  },
  {
   "cell_type": "code",
   "execution_count": 3,
   "metadata": {},
   "outputs": [],
   "source": [
    "parsed_query = sqlparse.parse(query)[0]"
   ]
  },
  {
   "cell_type": "code",
   "execution_count": 4,
   "metadata": {},
   "outputs": [],
   "source": [
    "def clean_query(tokens):\n",
    "    tokens_flagged = []\n",
    "    for a in tokens:\n",
    "        for pattern in ['Token.Text.Whitespace*','Token.Punctuation*']:\n",
    "            if re.match(pattern,str(a.ttype)):\n",
    "                tokens_flagged.append(a)\n",
    "    tokens_cleaned = [ a for a in tokens if a not in tokens_flagged]\n",
    "    tokens_cleaned = [a for a in tokens_cleaned if type(a) not in [sqlparse.sql.Comment]]\n",
    "    return tokens_cleaned"
   ]
  },
  {
   "cell_type": "code",
   "execution_count": 5,
   "metadata": {},
   "outputs": [],
   "source": [
    "level1_tokens = parsed_query.tokens\n",
    "level1_tokens_cleaned = clean_query(level1_tokens)"
   ]
  },
  {
   "cell_type": "code",
   "execution_count": 6,
   "metadata": {},
   "outputs": [
    {
     "data": {
      "text/plain": [
       "[<CTE 'with' at 0x210C7223468>,\n",
       " <IdentifierList 'a as (...' at 0x210C72325E8>,\n",
       " <DML 'select' at 0x210C722DEE8>,\n",
       " <IdentifierList 'a.a_id...' at 0x210C7232660>,\n",
       " <Keyword 'from' at 0x210C722E468>,\n",
       " <Identifier 'a' at 0x210C7232228>,\n",
       " <Keyword 'left j...' at 0x210C722E5E8>,\n",
       " <Identifier 'b' at 0x210C72322A0>,\n",
       " <Keyword 'on' at 0x210C722E768>,\n",
       " <Comparison 'a.a_id...' at 0x210C7232390>]"
      ]
     },
     "execution_count": 6,
     "metadata": {},
     "output_type": "execute_result"
    }
   ],
   "source": [
    "level1_tokens_cleaned"
   ]
  },
  {
   "cell_type": "code",
   "execution_count": 7,
   "metadata": {},
   "outputs": [],
   "source": [
    "if str(level1_tokens_cleaned[0])=='with':\n",
    "    with_subq = level1_tokens_cleaned[1]\n"
   ]
  },
  {
   "cell_type": "code",
   "execution_count": 8,
   "metadata": {},
   "outputs": [
    {
     "data": {
      "text/plain": [
       "[<Identifier 'a as (...' at 0x210C7217C00>,\n",
       " <Identifier 'b as (...' at 0x210C7232048>]"
      ]
     },
     "execution_count": 8,
     "metadata": {},
     "output_type": "execute_result"
    }
   ],
   "source": [
    "with_subq_tokens_cleaned = clean_query(with_subq.tokens)\n",
    "with_subq_tokens_cleaned"
   ]
  },
  {
   "cell_type": "code",
   "execution_count": 9,
   "metadata": {},
   "outputs": [],
   "source": [
    "select_q = clean_query(with_subq_tokens_cleaned[0].tokens[-1].tokens[1:-1])"
   ]
  },
  {
   "cell_type": "code",
   "execution_count": 10,
   "metadata": {},
   "outputs": [
    {
     "data": {
      "text/plain": [
       "[<DML 'select' at 0x210C7223708>,\n",
       " <IdentifierList 'a_id, ...' at 0x210C7232408>,\n",
       " <Keyword 'from' at 0x210C722D1C8>,\n",
       " <Identifier '`a123....' at 0x210C7217DE0>]"
      ]
     },
     "execution_count": 10,
     "metadata": {},
     "output_type": "execute_result"
    }
   ],
   "source": [
    "select_q"
   ]
  },
  {
   "cell_type": "code",
   "execution_count": 10,
   "metadata": {},
   "outputs": [],
   "source": [
    "q1 = '''select sum(a) asum, min(b) bmin\n",
    "from (aid, max(a1) a from aaa group by aid) aa left join bb on aa.aid = bb.bid\n",
    "where aa.aid!=2\n",
    "group by aa.aid order by aa.aid'''\n",
    "select_q1 = clean_query(sqlparse.parse(q1)[0].tokens)"
   ]
  },
  {
   "cell_type": "code",
   "execution_count": 11,
   "metadata": {},
   "outputs": [],
   "source": [
    "def parse_select_q(select_q):\n",
    "    select_q = clean_query(select_q)\n",
    "    if str(select_q[0].ttype)=='Token.Keyword.DML' and select_q[0].value.lower()=='select':\n",
    "        columns_identifier_list = select_q[1]\n",
    "        print(select_q[2:])\n",
    "    else:\n",
    "        print(\"Passed query not a select query\")\n",
    "    #get cols dict mapping old columns to new columns\n",
    "    cols_dict = {}\n",
    "    for tok in columns_identifier_list.tokens:\n",
    "        if type(tok)==sqlparse.sql.Identifier:\n",
    "            var_formula = tok.value\n",
    "            var_newname = tok.get_name()\n",
    "#             if var_newname!=var_formula:\n",
    "#                  var_formula = var_formula.replace(var_newname,\"\").strip()\n",
    "            cols_dict[var_newname] = var_formula\n",
    "    \n",
    "    #get source table\n",
    "#     if select_q[3].value=='from':\n",
    "        \n",
    "    \n",
    "    return(cols_dict)  \n",
    "        "
   ]
  },
  {
   "cell_type": "code",
   "execution_count": 12,
   "metadata": {},
   "outputs": [
    {
     "name": "stdout",
     "output_type": "stream",
     "text": [
      "[<Keyword 'from' at 0x2202E255228>, <Identifier '(aid, ...' at 0x2202E25A750>, <Keyword 'left j...' at 0x2202E255BE8>, <Identifier 'bb' at 0x2202E25A480>, <Keyword 'on' at 0x2202E255D68>, <Comparison 'aa.aid...' at 0x2202E25A4F8>, <Where 'where ...' at 0x2202E23FB10>, <Keyword 'group' at 0x2202E257528>, <Keyword 'by' at 0x2202E2575E8>, <Identifier 'aa.aid' at 0x2202E23FCF0>, <Keyword 'order' at 0x2202E257828>, <Keyword 'by' at 0x2202E2578E8>, <Identifier 'aa.aid' at 0x2202E23FD68>]\n"
     ]
    },
    {
     "data": {
      "text/plain": [
       "{'asum': 'sum(a) asum', 'bmin': 'min(b) bmin'}"
      ]
     },
     "execution_count": 12,
     "metadata": {},
     "output_type": "execute_result"
    }
   ],
   "source": [
    "\n",
    "parse_select_q(select_q1)"
   ]
  },
  {
   "cell_type": "code",
   "execution_count": 13,
   "metadata": {},
   "outputs": [
    {
     "data": {
      "text/plain": [
       "<Where 'where ...' at 0x2202E23FB10>"
      ]
     },
     "execution_count": 13,
     "metadata": {},
     "output_type": "execute_result"
    }
   ],
   "source": [
    "select_q1[8]\n",
    "# select_q[3].ttype"
   ]
  },
  {
   "cell_type": "code",
   "execution_count": 14,
   "metadata": {},
   "outputs": [
    {
     "ename": "SyntaxError",
     "evalue": "invalid syntax (<ipython-input-14-234b29ad012d>, line 2)",
     "output_type": "error",
     "traceback": [
      "\u001b[1;36m  File \u001b[1;32m\"<ipython-input-14-234b29ad012d>\"\u001b[1;36m, line \u001b[1;32m2\u001b[0m\n\u001b[1;33m    def __init__(columns,source_tables,where,group_by,order_by,limit)\u001b[0m\n\u001b[1;37m                                                                     ^\u001b[0m\n\u001b[1;31mSyntaxError\u001b[0m\u001b[1;31m:\u001b[0m invalid syntax\n"
     ]
    }
   ],
   "source": [
    "class select_query_object:\n",
    "    def __init__(columns,source_tables,where,group_by,order_by,limit)"
   ]
  },
  {
   "cell_type": "code",
   "execution_count": null,
   "metadata": {},
   "outputs": [],
   "source": []
  }
 ],
 "metadata": {
  "kernelspec": {
   "display_name": "Python 3",
   "language": "python",
   "name": "python3"
  },
  "language_info": {
   "codemirror_mode": {
    "name": "ipython",
    "version": 3
   },
   "file_extension": ".py",
   "mimetype": "text/x-python",
   "name": "python",
   "nbconvert_exporter": "python",
   "pygments_lexer": "ipython3",
   "version": "3.7.1"
  }
 },
 "nbformat": 4,
 "nbformat_minor": 2
}
