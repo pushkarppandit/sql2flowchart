{
 "cells": [
  {
   "cell_type": "code",
   "execution_count": 1,
   "metadata": {},
   "outputs": [],
   "source": [
    "import sqlparse\n",
    "from sqlparse.sql import Token, TokenList\n",
    "import re"
   ]
  },
  {
   "cell_type": "code",
   "execution_count": 2,
   "metadata": {},
   "outputs": [],
   "source": [
    "def clean_query(tokens):\n",
    "    tokens_flagged = []\n",
    "    for a in tokens:\n",
    "        for pattern in ['Token.Text.Whitespace*','Token.Punctuation*']:\n",
    "            if re.match(pattern,str(a.ttype)):\n",
    "                tokens_flagged.append(a)\n",
    "    tokens_cleaned = [ a for a in tokens if a not in tokens_flagged]\n",
    "    tokens_cleaned = [a for a in tokens_cleaned if type(a) not in [sqlparse.sql.Comment]]\n",
    "    return tokens_cleaned"
   ]
  },
  {
   "cell_type": "code",
   "execution_count": 3,
   "metadata": {},
   "outputs": [],
   "source": [
    "query1 = '''--asd\n",
    "            with a as (select a_id1 as a_id, --abc\n",
    "            case when aa = \\'a1\\' and a2=3 then 1 else 0 end aa_ind --def\n",
    "            from `a123.aaa`) --pqr\n",
    "        , b as (select b_id, \n",
    "            sum(bb) bb_sum \n",
    "            from `b123.bbb` \n",
    "            group by b_id) \n",
    "        select a.a_id,a.a_ind,b.b_sum \n",
    "        from a left join b \n",
    "        on a.a_id = b.b_id'''\n",
    "\n",
    "query2 = '''select a.a_id,a.a_ind,b.b_sum \n",
    "        from a left join b \n",
    "        on a.a_id = b.b_id'''"
   ]
  },
  {
   "cell_type": "code",
   "execution_count": 4,
   "metadata": {},
   "outputs": [],
   "source": [
    "parsed_query = sqlparse.parse(query1)[0]"
   ]
  },
  {
   "cell_type": "code",
   "execution_count": 5,
   "metadata": {},
   "outputs": [
    {
     "data": {
      "text/plain": [
       "[<Comment '--asd ...' at 0x2231C336750>,\n",
       " <CTE 'with' at 0x2231C3476A8>,\n",
       " <Whitespace ' ' at 0x2231C347708>,\n",
       " <IdentifierList 'a as (...' at 0x2231C359750>,\n",
       " <Whitespace ' ...' at 0x2231C3546A8>,\n",
       " <DML 'select' at 0x2231C354708>,\n",
       " <Whitespace ' ' at 0x2231C354768>,\n",
       " <IdentifierList 'a.a_id...' at 0x2231C359930>,\n",
       " <Whitespace ' ...' at 0x2231C354BE8>,\n",
       " <Keyword 'from' at 0x2231C354C48>,\n",
       " <Whitespace ' ' at 0x2231C354CA8>,\n",
       " <Identifier 'a' at 0x2231C3594F8>,\n",
       " <Whitespace ' ' at 0x2231C354D68>,\n",
       " <Keyword 'left j...' at 0x2231C354DC8>,\n",
       " <Whitespace ' ' at 0x2231C354E28>,\n",
       " <Identifier 'b' at 0x2231C359570>,\n",
       " <Whitespace ' ...' at 0x2231C354EE8>,\n",
       " <Keyword 'on' at 0x2231C354F48>,\n",
       " <Whitespace ' ' at 0x2231C354FA8>,\n",
       " <Comparison 'a.a_id...' at 0x2231C3596D8>]"
      ]
     },
     "execution_count": 5,
     "metadata": {},
     "output_type": "execute_result"
    }
   ],
   "source": [
    "parsed_query.tokens"
   ]
  },
  {
   "cell_type": "code",
   "execution_count": 6,
   "metadata": {},
   "outputs": [],
   "source": [
    "q_tokens = parsed_query.tokens\n",
    "q_tokens_cleaned = clean_query(q_tokens)"
   ]
  },
  {
   "cell_type": "code",
   "execution_count": 7,
   "metadata": {},
   "outputs": [
    {
     "data": {
      "text/plain": [
       "[<CTE 'with' at 0x2231C3476A8>,\n",
       " <IdentifierList 'a as (...' at 0x2231C359750>,\n",
       " <DML 'select' at 0x2231C354708>,\n",
       " <IdentifierList 'a.a_id...' at 0x2231C359930>,\n",
       " <Keyword 'from' at 0x2231C354C48>,\n",
       " <Identifier 'a' at 0x2231C3594F8>,\n",
       " <Keyword 'left j...' at 0x2231C354DC8>,\n",
       " <Identifier 'b' at 0x2231C359570>,\n",
       " <Keyword 'on' at 0x2231C354F48>,\n",
       " <Comparison 'a.a_id...' at 0x2231C3596D8>]"
      ]
     },
     "execution_count": 7,
     "metadata": {},
     "output_type": "execute_result"
    }
   ],
   "source": [
    "q_tokens_cleaned"
   ]
  },
  {
   "cell_type": "code",
   "execution_count": 8,
   "metadata": {},
   "outputs": [
    {
     "data": {
      "text/plain": [
       "[Token.Keyword.CTE,\n",
       " None,\n",
       " Token.Keyword.DML,\n",
       " None,\n",
       " Token.Keyword,\n",
       " None,\n",
       " Token.Keyword,\n",
       " None,\n",
       " Token.Keyword,\n",
       " None]"
      ]
     },
     "execution_count": 8,
     "metadata": {},
     "output_type": "execute_result"
    }
   ],
   "source": [
    "[a.ttype for a in q_tokens_cleaned]"
   ]
  },
  {
   "cell_type": "code",
   "execution_count": 9,
   "metadata": {},
   "outputs": [],
   "source": [
    "kw1 = q_tokens_cleaned[0]"
   ]
  },
  {
   "cell_type": "code",
   "execution_count": 10,
   "metadata": {},
   "outputs": [],
   "source": [
    "# isinstance(kw1,sqlparse.tokens.Keyword.CTE)"
   ]
  },
  {
   "cell_type": "code",
   "execution_count": 11,
   "metadata": {},
   "outputs": [
    {
     "data": {
      "text/plain": [
       "True"
      ]
     },
     "execution_count": 11,
     "metadata": {},
     "output_type": "execute_result"
    }
   ],
   "source": [
    "kw1.match(sqlparse.tokens.Keyword.CTE,['with'])"
   ]
  },
  {
   "cell_type": "code",
   "execution_count": 12,
   "metadata": {},
   "outputs": [
    {
     "data": {
      "text/plain": [
       "True"
      ]
     },
     "execution_count": 12,
     "metadata": {},
     "output_type": "execute_result"
    }
   ],
   "source": [
    "q_tokens_cleaned[2].match(sqlparse.tokens.Keyword.DML,['select'])"
   ]
  },
  {
   "cell_type": "code",
   "execution_count": 13,
   "metadata": {},
   "outputs": [
    {
     "data": {
      "text/plain": [
       "[<Identifier 'a as (...' at 0x2231C336DE0>,\n",
       " <Identifier 'b as (...' at 0x2231C3592A0>]"
      ]
     },
     "execution_count": 13,
     "metadata": {},
     "output_type": "execute_result"
    }
   ],
   "source": [
    "clean_query(q_tokens_cleaned[1].tokens)"
   ]
  },
  {
   "cell_type": "code",
   "execution_count": 14,
   "metadata": {},
   "outputs": [
    {
     "data": {
      "text/plain": [
       "(<Identifier 'a as (...' at 0x2231C336DE0>, 'a')"
      ]
     },
     "execution_count": 14,
     "metadata": {},
     "output_type": "execute_result"
    }
   ],
   "source": [
    "clean_query(q_tokens_cleaned[1].tokens)[0],clean_query(q_tokens_cleaned[1].tokens)[0].get_name()"
   ]
  },
  {
   "cell_type": "code",
   "execution_count": 15,
   "metadata": {},
   "outputs": [
    {
     "data": {
      "text/plain": [
       "[<Single '--pqr ' at 0x2231C353AC8>, <Whitespace ' ...' at 0x2231C353B28>]"
      ]
     },
     "execution_count": 15,
     "metadata": {},
     "output_type": "execute_result"
    }
   ],
   "source": [
    "clean_query(q_tokens_cleaned[1].tokens)[0].tokens[-1].tokens"
   ]
  },
  {
   "cell_type": "code",
   "execution_count": 16,
   "metadata": {},
   "outputs": [
    {
     "data": {
      "text/plain": [
       "<Comment '--pqr ...' at 0x2231C3368B8>"
      ]
     },
     "execution_count": 16,
     "metadata": {},
     "output_type": "execute_result"
    }
   ],
   "source": [
    "clean_query(q_tokens_cleaned[1].tokens)[0].tokens[-1]"
   ]
  },
  {
   "cell_type": "code",
   "execution_count": 17,
   "metadata": {},
   "outputs": [
    {
     "data": {
      "text/plain": [
       "[<Single '--pqr ' at 0x2231C353AC8>]"
      ]
     },
     "execution_count": 17,
     "metadata": {},
     "output_type": "execute_result"
    }
   ],
   "source": [
    "clean_query(clean_query(q_tokens_cleaned[1].tokens)[0].tokens[-1].tokens)"
   ]
  },
  {
   "cell_type": "code",
   "execution_count": 18,
   "metadata": {},
   "outputs": [],
   "source": [
    "def get_select_from_with(subq_token):\n",
    "    for t in subq_token.tokens:\n",
    "        if isinstance(t,sqlparse.sql.Parenthesis):\n",
    "            return clean_query(t.tokens)"
   ]
  },
  {
   "cell_type": "code",
   "execution_count": 19,
   "metadata": {},
   "outputs": [
    {
     "data": {
      "text/plain": [
       "[<DML 'select' at 0x2231C347948>,\n",
       " <Identifier 'a_id1 ...' at 0x2231C336C00>,\n",
       " <Identifier 'case w...' at 0x2231C3597C8>,\n",
       " <Keyword 'from' at 0x2231C3538E8>,\n",
       " <Identifier '`a123....' at 0x2231C359138>]"
      ]
     },
     "execution_count": 19,
     "metadata": {},
     "output_type": "execute_result"
    }
   ],
   "source": [
    "test_select_q = get_select_from_with(clean_query(q_tokens_cleaned[1].tokens)[0])\n",
    "test_select_q"
   ]
  },
  {
   "cell_type": "code",
   "execution_count": 20,
   "metadata": {},
   "outputs": [
    {
     "data": {
      "text/plain": [
       "([<Name 'a_id1' at 0x2231C347A08>,\n",
       "  <Whitespace ' ' at 0x2231C347A68>,\n",
       "  <Keyword 'as' at 0x2231C347AC8>,\n",
       "  <Whitespace ' ' at 0x2231C347B28>,\n",
       "  <Identifier 'a_id' at 0x2231C336ED0>],\n",
       " [<Name 'a_id1' at 0x2231C347A08>,\n",
       "  <Keyword 'as' at 0x2231C347AC8>,\n",
       "  <Identifier 'a_id' at 0x2231C336ED0>])"
      ]
     },
     "execution_count": 20,
     "metadata": {},
     "output_type": "execute_result"
    }
   ],
   "source": [
    "test_select_q[1].tokens,clean_query(test_select_q[1].tokens)#,[i for i in test_select_q[1].get_identifiers()]"
   ]
  },
  {
   "cell_type": "code",
   "execution_count": 22,
   "metadata": {},
   "outputs": [],
   "source": [
    "# clean_query(test_select_q[1].tokens)[0].get_real_name(),clean_query(test_select_q[1].tokens)[0].get_alias()"
   ]
  },
  {
   "cell_type": "code",
   "execution_count": 23,
   "metadata": {},
   "outputs": [
    {
     "data": {
      "text/plain": [
       "<Keyword 'as' at 0x2231C347AC8>"
      ]
     },
     "execution_count": 23,
     "metadata": {},
     "output_type": "execute_result"
    }
   ],
   "source": [
    "clean_query(test_select_q[1].tokens)[1]"
   ]
  },
  {
   "cell_type": "code",
   "execution_count": 24,
   "metadata": {},
   "outputs": [
    {
     "ename": "AttributeError",
     "evalue": "'Token' object has no attribute 'get_alias'",
     "output_type": "error",
     "traceback": [
      "\u001b[1;31m---------------------------------------------------------------------------\u001b[0m",
      "\u001b[1;31mAttributeError\u001b[0m                            Traceback (most recent call last)",
      "\u001b[1;32m<ipython-input-24-2d3e04446eaa>\u001b[0m in \u001b[0;36m<module>\u001b[1;34m\u001b[0m\n\u001b[1;32m----> 1\u001b[1;33m \u001b[0mclean_query\u001b[0m\u001b[1;33m(\u001b[0m\u001b[0mtest_select_q\u001b[0m\u001b[1;33m[\u001b[0m\u001b[1;36m1\u001b[0m\u001b[1;33m]\u001b[0m\u001b[1;33m.\u001b[0m\u001b[0mtokens\u001b[0m\u001b[1;33m)\u001b[0m\u001b[1;33m[\u001b[0m\u001b[1;36m1\u001b[0m\u001b[1;33m]\u001b[0m\u001b[1;33m.\u001b[0m\u001b[0mget_alias\u001b[0m\u001b[1;33m(\u001b[0m\u001b[1;33m)\u001b[0m\u001b[1;33m\u001b[0m\u001b[1;33m\u001b[0m\u001b[0m\n\u001b[0m",
      "\u001b[1;31mAttributeError\u001b[0m: 'Token' object has no attribute 'get_alias'"
     ]
    }
   ],
   "source": [
    "clean_query(test_select_q[1].tokens)[1].get_alias()"
   ]
  },
  {
   "cell_type": "code",
   "execution_count": 25,
   "metadata": {},
   "outputs": [
    {
     "ename": "AttributeError",
     "evalue": "'Token' object has no attribute 'tokens'",
     "output_type": "error",
     "traceback": [
      "\u001b[1;31m---------------------------------------------------------------------------\u001b[0m",
      "\u001b[1;31mAttributeError\u001b[0m                            Traceback (most recent call last)",
      "\u001b[1;32m<ipython-input-25-a3eec019db20>\u001b[0m in \u001b[0;36m<module>\u001b[1;34m\u001b[0m\n\u001b[1;32m----> 1\u001b[1;33m \u001b[0mclean_query\u001b[0m\u001b[1;33m(\u001b[0m\u001b[0mtest_select_q\u001b[0m\u001b[1;33m[\u001b[0m\u001b[1;36m1\u001b[0m\u001b[1;33m]\u001b[0m\u001b[1;33m.\u001b[0m\u001b[0mtokens\u001b[0m\u001b[1;33m)\u001b[0m\u001b[1;33m[\u001b[0m\u001b[1;36m1\u001b[0m\u001b[1;33m]\u001b[0m\u001b[1;33m.\u001b[0m\u001b[0mtokens\u001b[0m\u001b[1;33m[\u001b[0m\u001b[1;36m0\u001b[0m\u001b[1;33m]\u001b[0m\u001b[1;33m.\u001b[0m\u001b[0mtokens\u001b[0m\u001b[1;33m\u001b[0m\u001b[1;33m\u001b[0m\u001b[0m\n\u001b[0m",
      "\u001b[1;31mAttributeError\u001b[0m: 'Token' object has no attribute 'tokens'"
     ]
    }
   ],
   "source": [
    "clean_query(test_select_q[1].tokens)[1].tokens[0].tokens"
   ]
  },
  {
   "cell_type": "code",
   "execution_count": 26,
   "metadata": {},
   "outputs": [
    {
     "ename": "AttributeError",
     "evalue": "'Token' object has no attribute 'tokens'",
     "output_type": "error",
     "traceback": [
      "\u001b[1;31m---------------------------------------------------------------------------\u001b[0m",
      "\u001b[1;31mAttributeError\u001b[0m                            Traceback (most recent call last)",
      "\u001b[1;32m<ipython-input-26-0a358f4d7e24>\u001b[0m in \u001b[0;36m<module>\u001b[1;34m\u001b[0m\n\u001b[1;32m----> 1\u001b[1;33m \u001b[0mclean_query\u001b[0m\u001b[1;33m(\u001b[0m\u001b[0mtest_select_q\u001b[0m\u001b[1;33m[\u001b[0m\u001b[1;36m1\u001b[0m\u001b[1;33m]\u001b[0m\u001b[1;33m.\u001b[0m\u001b[0mtokens\u001b[0m\u001b[1;33m)\u001b[0m\u001b[1;33m[\u001b[0m\u001b[1;36m1\u001b[0m\u001b[1;33m]\u001b[0m\u001b[1;33m.\u001b[0m\u001b[0mtokens\u001b[0m\u001b[1;33m[\u001b[0m\u001b[1;36m0\u001b[0m\u001b[1;33m]\u001b[0m\u001b[1;33m.\u001b[0m\u001b[0mget_cases\u001b[0m\u001b[1;33m(\u001b[0m\u001b[0mskip_ws\u001b[0m\u001b[1;33m=\u001b[0m\u001b[1;32mTrue\u001b[0m\u001b[1;33m)\u001b[0m\u001b[1;33m\u001b[0m\u001b[1;33m\u001b[0m\u001b[0m\n\u001b[0m",
      "\u001b[1;31mAttributeError\u001b[0m: 'Token' object has no attribute 'tokens'"
     ]
    }
   ],
   "source": [
    "clean_query(test_select_q[1].tokens)[1].tokens[0].get_cases(skip_ws=True)"
   ]
  },
  {
   "cell_type": "code",
   "execution_count": 27,
   "metadata": {},
   "outputs": [
    {
     "ename": "AttributeError",
     "evalue": "'Token' object has no attribute 'tokens'",
     "output_type": "error",
     "traceback": [
      "\u001b[1;31m---------------------------------------------------------------------------\u001b[0m",
      "\u001b[1;31mAttributeError\u001b[0m                            Traceback (most recent call last)",
      "\u001b[1;32m<ipython-input-27-8618f21fad39>\u001b[0m in \u001b[0;36m<module>\u001b[1;34m\u001b[0m\n\u001b[1;32m----> 1\u001b[1;33m \u001b[0mstr\u001b[0m\u001b[1;33m(\u001b[0m\u001b[0mclean_query\u001b[0m\u001b[1;33m(\u001b[0m\u001b[0mtest_select_q\u001b[0m\u001b[1;33m[\u001b[0m\u001b[1;36m1\u001b[0m\u001b[1;33m]\u001b[0m\u001b[1;33m.\u001b[0m\u001b[0mtokens\u001b[0m\u001b[1;33m)\u001b[0m\u001b[1;33m[\u001b[0m\u001b[1;36m1\u001b[0m\u001b[1;33m]\u001b[0m\u001b[1;33m.\u001b[0m\u001b[0mtokens\u001b[0m\u001b[1;33m[\u001b[0m\u001b[1;36m0\u001b[0m\u001b[1;33m]\u001b[0m\u001b[1;33m.\u001b[0m\u001b[0mget_cases\u001b[0m\u001b[1;33m(\u001b[0m\u001b[0mskip_ws\u001b[0m\u001b[1;33m=\u001b[0m\u001b[1;32mTrue\u001b[0m\u001b[1;33m)\u001b[0m\u001b[1;33m[\u001b[0m\u001b[1;36m0\u001b[0m\u001b[1;33m]\u001b[0m\u001b[1;33m[\u001b[0m\u001b[1;36m0\u001b[0m\u001b[1;33m]\u001b[0m\u001b[1;33m)\u001b[0m\u001b[1;33m\u001b[0m\u001b[1;33m\u001b[0m\u001b[0m\n\u001b[0m",
      "\u001b[1;31mAttributeError\u001b[0m: 'Token' object has no attribute 'tokens'"
     ]
    }
   ],
   "source": [
    "str(clean_query(test_select_q[1].tokens)[1].tokens[0].get_cases(skip_ws=True)[0][0])"
   ]
  },
  {
   "cell_type": "code",
   "execution_count": 41,
   "metadata": {},
   "outputs": [],
   "source": [
    "def parse_select_q(q):\n",
    "    parsed_q = sqlparse.parse(q)[0] # assumed that q has a single query\n",
    "    q_tokens = parsed_q.tokens\n",
    "    q_tokens_c = clean_query(q_tokens)\n",
    "    \n",
    "    if q_tokens_c[0].match(sqlparse.tokens.Keyword.CTE,['with']):\n",
    "        # do something about query with with\n",
    "        print('with')\n",
    "        \n",
    "        # list,dict of all subqueries\n",
    "        subq_list_raw = clean_query(q_tokens_c[1].tokens)\n",
    "        subq_dict = {subq.get_name():get_select_from_with(subq) for subq in subq_list_raw}\n",
    "        subq_list_c = subq_dict.values()\n",
    "        \n",
    "        # parse individual subqueries\n",
    "        print(subq_dict)\n",
    "        # for q in subq_dict, parse_simple_select\n",
    "        \n",
    "    elif q_tokens_c[0].match(sqlparse.tokens.Keyword.DML,['select']):\n",
    "        # simpler query, parse it\n",
    "        print('select')\n",
    "        # parse_simple_select\n",
    "    else:\n",
    "        print(q_tokens_c)\n",
    "        raise Exception('wut')\n",
    "        \n",
    "def parse_simple_select(q_tokens):\n",
    "    \n",
    "    "
   ]
  },
  {
   "cell_type": "code",
   "execution_count": 42,
   "metadata": {},
   "outputs": [
    {
     "name": "stdout",
     "output_type": "stream",
     "text": [
      "with\n",
      "{'a': [<DML 'select' at 0x2231C79DAC8>, <Identifier 'a_id1 ...' at 0x2231C7A07C8>, <Identifier 'case w...' at 0x2231C6A4ED0>, <Keyword 'from' at 0x2231C7A1A68>, <Identifier '`a123....' at 0x2231C7A0C78>], 'b': [<DML 'select' at 0x2231C7A1FA8>, <IdentifierList 'b_id, ...' at 0x2231C6A4DE0>, <Keyword 'from' at 0x2231C7A3468>, <Identifier '`b123....' at 0x2231C7A0ED0>, <Keyword 'group' at 0x2231C7A35E8>, <Keyword 'by' at 0x2231C7A36A8>, <Identifier 'b_id' at 0x2231C7A0F48>]}\n"
     ]
    }
   ],
   "source": [
    "parse_select_q(query1)"
   ]
  },
  {
   "cell_type": "code",
   "execution_count": null,
   "metadata": {},
   "outputs": [],
   "source": []
  }
 ],
 "metadata": {
  "kernelspec": {
   "display_name": "Python 3",
   "language": "python",
   "name": "python3"
  },
  "language_info": {
   "codemirror_mode": {
    "name": "ipython",
    "version": 3
   },
   "file_extension": ".py",
   "mimetype": "text/x-python",
   "name": "python",
   "nbconvert_exporter": "python",
   "pygments_lexer": "ipython3",
   "version": "3.7.1"
  }
 },
 "nbformat": 4,
 "nbformat_minor": 2
}
